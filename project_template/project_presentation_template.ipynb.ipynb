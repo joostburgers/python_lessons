{
 "cells": [
  {
   "cell_type": "markdown",
   "id": "cc79e45d-8b2e-4b17-b8ae-370987169634",
   "metadata": {
    "editable": true,
    "slideshow": {
     "slide_type": ""
    },
    "tags": []
   },
   "source": [
    "# Project Title"
   ]
  },
  {
   "cell_type": "markdown",
   "id": "ef1a09ac-b9d4-4335-bbb0-cf7c8c900114",
   "metadata": {
    "editable": true,
    "slideshow": {
     "slide_type": ""
    },
    "tags": []
   },
   "source": [
    "#### Group Members"
   ]
  },
  {
   "cell_type": "markdown",
   "id": "301b435e-292d-4f28-b75f-5ca8bb05cb11",
   "metadata": {
    "editable": true,
    "slideshow": {
     "slide_type": ""
    },
    "tags": []
   },
   "source": [
    "### 1. Introduction"
   ]
  },
  {
   "cell_type": "markdown",
   "id": "ce5184c7-709d-4fe1-9521-a5d9f1718d62",
   "metadata": {
    "editable": true,
    "slideshow": {
     "slide_type": ""
    },
    "tags": []
   },
   "source": [
    "Provide a brief overview of your project here (1 paragraph)"
   ]
  },
  {
   "cell_type": "markdown",
   "id": "9bf81a4e-0a9d-45bf-af08-c08a873275dc",
   "metadata": {
    "editable": true,
    "slideshow": {
     "slide_type": ""
    },
    "tags": []
   },
   "source": [
    "### 2. Hypothesis"
   ]
  },
  {
   "cell_type": "markdown",
   "id": "10fd47a5-bc03-40ec-a245-403c6a270d6b",
   "metadata": {
    "editable": true,
    "slideshow": {
     "slide_type": ""
    },
    "tags": []
   },
   "source": [
    "Explain your expected findings. What do you think the map of your data will look like and why? (2-3 sentences)"
   ]
  },
  {
   "cell_type": "markdown",
   "id": "2bb52ad2-ba39-4cab-943f-9c3ea69afeae",
   "metadata": {
    "editable": true,
    "slideshow": {
     "slide_type": ""
    },
    "tags": []
   },
   "source": [
    "### 3. Corpus Description"
   ]
  },
  {
   "cell_type": "markdown",
   "id": "93477763-f8c3-4411-a37b-3e325577ee12",
   "metadata": {
    "editable": true,
    "slideshow": {
     "slide_type": ""
    },
    "tags": []
   },
   "source": [
    "Describe the body of texts you wanted to get and why. You should explain the total number of texts you ended up with and the various parameters you used to filter out data. Describe why you filtered out that particular data. (1 paragraph)"
   ]
  },
  {
   "cell_type": "code",
   "execution_count": null,
   "id": "69ffb0d1-ddd8-4042-ac27-1c862f34d7ad",
   "metadata": {
    "editable": true,
    "slideshow": {
     "slide_type": ""
    },
    "tags": []
   },
   "outputs": [],
   "source": [
    "#Place the query you used to get the dataframe here"
   ]
  },
  {
   "cell_type": "code",
   "execution_count": null,
   "id": "b47da515-aedb-47fb-a03e-8f64967fb7e4",
   "metadata": {
    "editable": true,
    "slideshow": {
     "slide_type": ""
    },
    "tags": []
   },
   "outputs": [],
   "source": [
    "#Import the results and show a sample\n",
    "import pandas as pd\n",
    "YOUR_DATAFRAME_TEXTS = pd.read_pickle('YOUR_DATAFRAME_TEXTS.pickle')\n",
    "YOUR_DATAFRAME_TEXTS.sample(5)"
   ]
  },
  {
   "cell_type": "markdown",
   "id": "46d94131-74ab-4513-8fb7-d4513c2cea53",
   "metadata": {
    "editable": true,
    "slideshow": {
     "slide_type": ""
    },
    "tags": []
   },
   "source": [
    "### 4. Geoparsing Results"
   ]
  },
  {
   "cell_type": "markdown",
   "id": "01502f0c-da94-4f1d-8b05-c5debac06bbd",
   "metadata": {
    "editable": true,
    "slideshow": {
     "slide_type": ""
    },
    "tags": []
   },
   "source": [
    "Describe how the geoparsing process went. Look through the data and see if there are false positives that remain. Explain how you would remove them in the future. (1-2 paragraphs)"
   ]
  },
  {
   "cell_type": "code",
   "execution_count": null,
   "id": "bef77acc-38c2-4772-881a-3b904e96ad09",
   "metadata": {
    "editable": true,
    "slideshow": {
     "slide_type": ""
    },
    "tags": []
   },
   "outputs": [],
   "source": [
    "#Import the results and show a sample\n",
    "YOUR_DATAFRAME_PLACES = pd.read_pickle('YOUR_DATAFRAME_PLACES.pickle')\n",
    "YOUR_DATAFRAME_PlACES.sample(5)"
   ]
  },
  {
   "cell_type": "markdown",
   "id": "29cfeb55-8b38-49a5-8a08-bd6f10bd0a87",
   "metadata": {
    "editable": true,
    "slideshow": {
     "slide_type": ""
    },
    "tags": []
   },
   "source": [
    "### 5. Sentiment Analysis Results\n"
   ]
  },
  {
   "cell_type": "markdown",
   "id": "ebdcf7ec-8ca7-41b2-a75f-8be85318f3c3",
   "metadata": {
    "editable": true,
    "slideshow": {
     "slide_type": ""
    },
    "tags": []
   },
   "source": [
    "Describe the sentiment analysis process. Look at the data and see if there are particular sentiment scores that stand out, either high scores or low scores. (1 paragraph)"
   ]
  },
  {
   "cell_type": "code",
   "execution_count": null,
   "id": "6a8c78ee-36fb-4532-8e2f-6dd1e2e54a4c",
   "metadata": {
    "editable": true,
    "slideshow": {
     "slide_type": ""
    },
    "tags": []
   },
   "outputs": [],
   "source": [
    "#Import the results and show a sample\n",
    "YOUR_DATAFRAME_SENTIMENTS = pd.read_pickle('YOUR_DATAFRAME_SENTIMENTS.pickle')\n",
    "YOUR_DATAFRAME_SENTIMENTS.sample(5)"
   ]
  },
  {
   "cell_type": "markdown",
   "id": "812a72fe-74a5-4586-a4f5-bb663a3b4e64",
   "metadata": {
    "editable": true,
    "slideshow": {
     "slide_type": ""
    },
    "tags": []
   },
   "source": [
    "### 6. Mapping"
   ]
  },
  {
   "cell_type": "markdown",
   "id": "1f0265dd-16c9-4511-b4c2-3a6b5175ef48",
   "metadata": {
    "editable": true,
    "slideshow": {
     "slide_type": ""
    },
    "tags": []
   },
   "source": [
    "Describe how you \"cleaned up\" the map and why. For example, you can explain:\n",
    "- If you decided to remove any results based on count\n",
    "- Filtered out particular types of locations\n",
    "- Modified the map colors\n",
    "- Modified the map zoom and center\n",
    "Does your map try to tell a particular story? If so, what is that story?\n",
    "\n",
    "(1-2 paragraphs)"
   ]
  },
  {
   "cell_type": "code",
   "execution_count": null,
   "id": "4f557135-96ed-4f9c-9ec9-42108f8c63eb",
   "metadata": {
    "editable": true,
    "slideshow": {
     "slide_type": ""
    },
    "tags": []
   },
   "outputs": [],
   "source": [
    "import plotly.express as px\n",
    "#YOUR MAP CODE HERE"
   ]
  },
  {
   "cell_type": "markdown",
   "id": "7f640001-9f90-4fe0-b8b9-c0657a64df40",
   "metadata": {
    "editable": true,
    "slideshow": {
     "slide_type": ""
    },
    "tags": []
   },
   "source": [
    "### 7. Reflection (Individual)\n",
    "\n",
    "Describe how the process of geoparsing and emotion tagging went. \n",
    "- What expectations did you have when you went into the processing and what was the actual result?\n",
    "- Do you feel that the process was succesful? \n",
    "- What were some stumbling blocks you faced when collecting and processing your data?\n",
    "- What is some \"garbage\" data that is still in your data set?\n",
    "- If you had more time, how would you refine the results?\n",
    "\n",
    "\n",
    "  (1-2 paragraphs)"
   ]
  },
  {
   "cell_type": "code",
   "execution_count": null,
   "id": "0d0b83f6-14f3-4e3f-b27f-cbf7531a87b0",
   "metadata": {
    "editable": true,
    "slideshow": {
     "slide_type": ""
    },
    "tags": []
   },
   "outputs": [],
   "source": []
  }
 ],
 "metadata": {
  "kernelspec": {
   "display_name": "Python 3 (ipykernel)",
   "language": "python",
   "name": "python3"
  },
  "language_info": {
   "codemirror_mode": {
    "name": "ipython",
    "version": 3
   },
   "file_extension": ".py",
   "mimetype": "text/x-python",
   "name": "python",
   "nbconvert_exporter": "python",
   "pygments_lexer": "ipython3",
   "version": "3.12.3"
  }
 },
 "nbformat": 4,
 "nbformat_minor": 5
}
