{
 "cells": [
  {
   "cell_type": "markdown",
   "id": "cc79e45d-8b2e-4b17-b8ae-370987169634",
   "metadata": {
    "editable": true,
    "slideshow": {
     "slide_type": ""
    },
    "tags": []
   },
   "source": [
    "# Project Title"
   ]
  },
  {
   "cell_type": "markdown",
   "id": "ef1a09ac-b9d4-4335-bbb0-cf7c8c900114",
   "metadata": {
    "editable": true,
    "slideshow": {
     "slide_type": ""
    },
    "tags": []
   },
   "source": [
    "#### Group Members"
   ]
  },
  {
   "cell_type": "markdown",
   "id": "301b435e-292d-4f28-b75f-5ca8bb05cb11",
   "metadata": {
    "editable": true,
    "slideshow": {
     "slide_type": ""
    },
    "tags": []
   },
   "source": [
    "### 1. Introduction"
   ]
  },
  {
   "cell_type": "markdown",
   "id": "ce5184c7-709d-4fe1-9521-a5d9f1718d62",
   "metadata": {
    "editable": true,
    "slideshow": {
     "slide_type": ""
    },
    "tags": []
   },
   "source": [
    "Provide a brief overview of your project here (1 paragraph)"
   ]
  },
  {
   "cell_type": "markdown",
   "id": "9bf81a4e-0a9d-45bf-af08-c08a873275dc",
   "metadata": {
    "editable": true,
    "slideshow": {
     "slide_type": ""
    },
    "tags": []
   },
   "source": [
    "### 2. Hypothesis"
   ]
  },
  {
   "cell_type": "markdown",
   "id": "10fd47a5-bc03-40ec-a245-403c6a270d6b",
   "metadata": {
    "editable": true,
    "slideshow": {
     "slide_type": ""
    },
    "tags": []
   },
   "source": [
    "Explain your expected findings. What do you think the map of your data will look like and why? (2-3 sentences)"
   ]
  },
  {
   "cell_type": "markdown",
   "id": "2bb52ad2-ba39-4cab-943f-9c3ea69afeae",
   "metadata": {
    "editable": true,
    "slideshow": {
     "slide_type": ""
    },
    "tags": []
   },
   "source": [
    "### 3. Corpus Description"
   ]
  },
  {
   "cell_type": "markdown",
   "id": "93477763-f8c3-4411-a37b-3e325577ee12",
   "metadata": {
    "editable": true,
    "slideshow": {
     "slide_type": ""
    },
    "tags": []
   },
   "source": [
    "Describe the body of texts you wanted to get and why. You should explain the total number of texts you ended up with and the various parameters you used to filter out data. Describe why you filtered out that particular data. (1 paragraph)"
   ]
  },
  {
   "cell_type": "code",
   "execution_count": 28,
   "id": "69ffb0d1-ddd8-4042-ac27-1c862f34d7ad",
   "metadata": {
    "editable": true,
    "slideshow": {
     "slide_type": ""
    },
    "tags": []
   },
   "outputs": [],
   "source": [
    "#Place the query you used to get the "
   ]
  },
  {
   "cell_type": "code",
   "execution_count": 33,
   "id": "b47da515-aedb-47fb-a03e-8f64967fb7e4",
   "metadata": {
    "editable": true,
    "slideshow": {
     "slide_type": ""
    },
    "tags": []
   },
   "outputs": [
    {
     "data": {
      "text/html": [
       "<div>\n",
       "<style scoped>\n",
       "    .dataframe tbody tr th:only-of-type {\n",
       "        vertical-align: middle;\n",
       "    }\n",
       "\n",
       "    .dataframe tbody tr th {\n",
       "        vertical-align: top;\n",
       "    }\n",
       "\n",
       "    .dataframe thead th {\n",
       "        text-align: right;\n",
       "    }\n",
       "</style>\n",
       "<table border=\"1\" class=\"dataframe\">\n",
       "  <thead>\n",
       "    <tr style=\"text-align: right;\">\n",
       "      <th></th>\n",
       "      <th>text_id</th>\n",
       "      <th>type</th>\n",
       "      <th>issued</th>\n",
       "      <th>title</th>\n",
       "      <th>language</th>\n",
       "      <th>subjects</th>\n",
       "      <th>locc</th>\n",
       "      <th>bookshelves</th>\n",
       "      <th>second_author</th>\n",
       "      <th>last_name</th>\n",
       "      <th>first_name</th>\n",
       "      <th>birth</th>\n",
       "      <th>death</th>\n",
       "      <th>text_data</th>\n",
       "    </tr>\n",
       "  </thead>\n",
       "  <tbody>\n",
       "    <tr>\n",
       "      <th>38958</th>\n",
       "      <td>39032</td>\n",
       "      <td>Text</td>\n",
       "      <td>2012-03-03</td>\n",
       "      <td>Songs Ysame</td>\n",
       "      <td>en</td>\n",
       "      <td>American poetry</td>\n",
       "      <td>PS</td>\n",
       "      <td>Browsing: Literature; Browsing: Poetry</td>\n",
       "      <td>Bacon, Albion Fellows, 1865-1933</td>\n",
       "      <td>Johnston</td>\n",
       "      <td>Annie F. (Annie Fellows)</td>\n",
       "      <td>1863</td>\n",
       "      <td>1931</td>\n",
       "      <td>SONGS YSAME ***\\r\\n\\r\\n\\r\\n\\r\\n\\r\\nProduced by...</td>\n",
       "    </tr>\n",
       "    <tr>\n",
       "      <th>44650</th>\n",
       "      <td>44724</td>\n",
       "      <td>Text</td>\n",
       "      <td>2014-01-21</td>\n",
       "      <td>The Boy Spies of Philadelphia The Story of How...</td>\n",
       "      <td>en</td>\n",
       "      <td>Children's stories; Spy stories; United States...</td>\n",
       "      <td>PZ</td>\n",
       "      <td>Browsing: Children &amp; Young Adult Reading; Brow...</td>\n",
       "      <td>Graves, George E. [Illustrator]</td>\n",
       "      <td>Otis</td>\n",
       "      <td>James</td>\n",
       "      <td>1848</td>\n",
       "      <td>1912</td>\n",
       "      <td>THE BOY SPIES OF PHILADELPHIA ***\\r\\n\\r\\n\\r\\nE...</td>\n",
       "    </tr>\n",
       "    <tr>\n",
       "      <th>23339</th>\n",
       "      <td>23410</td>\n",
       "      <td>Text</td>\n",
       "      <td>2007-11-08</td>\n",
       "      <td>The Spinster 1905</td>\n",
       "      <td>en</td>\n",
       "      <td>Short stories; Single women -- Fiction; Marrie...</td>\n",
       "      <td>PR</td>\n",
       "      <td>Browsing: Literature; Browsing: Fiction</td>\n",
       "      <td>&lt;NA&gt;</td>\n",
       "      <td>Hichens</td>\n",
       "      <td>Robert</td>\n",
       "      <td>1864</td>\n",
       "      <td>1950</td>\n",
       "      <td>THE SPINSTER ***\\r\\n\\r\\n\\r\\n\\r\\n\\r\\nProduced b...</td>\n",
       "    </tr>\n",
       "    <tr>\n",
       "      <th>23037</th>\n",
       "      <td>23108</td>\n",
       "      <td>Text</td>\n",
       "      <td>2007-10-20</td>\n",
       "      <td>Chester Rand; or, The New Path to Fortune</td>\n",
       "      <td>en</td>\n",
       "      <td>Friendship -- Fiction; Conduct of life -- Fict...</td>\n",
       "      <td>PZ</td>\n",
       "      <td>Children's Fiction; Browsing: Children &amp; Young...</td>\n",
       "      <td>&lt;NA&gt;</td>\n",
       "      <td>Alger</td>\n",
       "      <td>Horatio</td>\n",
       "      <td>1832</td>\n",
       "      <td>1899</td>\n",
       "      <td>CHESTER RAND; OR, THE NEW PATH TO FORTUNE ***\\...</td>\n",
       "    </tr>\n",
       "    <tr>\n",
       "      <th>17328</th>\n",
       "      <td>17399</td>\n",
       "      <td>Text</td>\n",
       "      <td>2005-12-26</td>\n",
       "      <td>Tribulat Bonhomet</td>\n",
       "      <td>fr</td>\n",
       "      <td>Short stories, French; French fiction -- 19th ...</td>\n",
       "      <td>PQ</td>\n",
       "      <td>FR Littérature; Browsing: Culture/Civilization...</td>\n",
       "      <td>&lt;NA&gt;</td>\n",
       "      <td>Villiers de L'Isle-Adam</td>\n",
       "      <td>Auguste</td>\n",
       "      <td>1838</td>\n",
       "      <td>1889</td>\n",
       "      <td>TRIBULAT BONHOMET ***\\r\\n\\r\\n\\r\\n\\r\\n\\r\\nProdu...</td>\n",
       "    </tr>\n",
       "  </tbody>\n",
       "</table>\n",
       "</div>"
      ],
      "text/plain": [
       "       text_id  type      issued  \\\n",
       "38958    39032  Text  2012-03-03   \n",
       "44650    44724  Text  2014-01-21   \n",
       "23339    23410  Text  2007-11-08   \n",
       "23037    23108  Text  2007-10-20   \n",
       "17328    17399  Text  2005-12-26   \n",
       "\n",
       "                                                   title language  \\\n",
       "38958                                        Songs Ysame       en   \n",
       "44650  The Boy Spies of Philadelphia The Story of How...       en   \n",
       "23339                                  The Spinster 1905       en   \n",
       "23037          Chester Rand; or, The New Path to Fortune       en   \n",
       "17328                                  Tribulat Bonhomet       fr   \n",
       "\n",
       "                                                subjects locc  \\\n",
       "38958                                    American poetry   PS   \n",
       "44650  Children's stories; Spy stories; United States...   PZ   \n",
       "23339  Short stories; Single women -- Fiction; Marrie...   PR   \n",
       "23037  Friendship -- Fiction; Conduct of life -- Fict...   PZ   \n",
       "17328  Short stories, French; French fiction -- 19th ...   PQ   \n",
       "\n",
       "                                             bookshelves  \\\n",
       "38958             Browsing: Literature; Browsing: Poetry   \n",
       "44650  Browsing: Children & Young Adult Reading; Brow...   \n",
       "23339            Browsing: Literature; Browsing: Fiction   \n",
       "23037  Children's Fiction; Browsing: Children & Young...   \n",
       "17328  FR Littérature; Browsing: Culture/Civilization...   \n",
       "\n",
       "                          second_author                last_name  \\\n",
       "38958  Bacon, Albion Fellows, 1865-1933                 Johnston   \n",
       "44650   Graves, George E. [Illustrator]                     Otis   \n",
       "23339                              <NA>                  Hichens   \n",
       "23037                              <NA>                    Alger   \n",
       "17328                              <NA>  Villiers de L'Isle-Adam   \n",
       "\n",
       "                     first_name  birth  death  \\\n",
       "38958  Annie F. (Annie Fellows)   1863   1931   \n",
       "44650                     James   1848   1912   \n",
       "23339                    Robert   1864   1950   \n",
       "23037                   Horatio   1832   1899   \n",
       "17328                   Auguste   1838   1889   \n",
       "\n",
       "                                               text_data  \n",
       "38958  SONGS YSAME ***\\r\\n\\r\\n\\r\\n\\r\\n\\r\\nProduced by...  \n",
       "44650  THE BOY SPIES OF PHILADELPHIA ***\\r\\n\\r\\n\\r\\nE...  \n",
       "23339  THE SPINSTER ***\\r\\n\\r\\n\\r\\n\\r\\n\\r\\nProduced b...  \n",
       "23037  CHESTER RAND; OR, THE NEW PATH TO FORTUNE ***\\...  \n",
       "17328  TRIBULAT BONHOMET ***\\r\\n\\r\\n\\r\\n\\r\\n\\r\\nProdu...  "
      ]
     },
     "execution_count": 33,
     "metadata": {},
     "output_type": "execute_result"
    }
   ],
   "source": [
    "#Import the results and show a sample\n",
    "import pandas as pd\n",
    "YOUR_DATAFRAME_TEXTS = pd.read_pickle('YOUR_DATAFRAME_TEXTS.pickle')\n",
    "YOUR_DATAFRAME_TEXTS.sample(5)"
   ]
  },
  {
   "cell_type": "markdown",
   "id": "46d94131-74ab-4513-8fb7-d4513c2cea53",
   "metadata": {
    "editable": true,
    "slideshow": {
     "slide_type": ""
    },
    "tags": []
   },
   "source": [
    "### 4. Geoparsing Results"
   ]
  },
  {
   "cell_type": "markdown",
   "id": "01502f0c-da94-4f1d-8b05-c5debac06bbd",
   "metadata": {
    "editable": true,
    "slideshow": {
     "slide_type": ""
    },
    "tags": []
   },
   "source": [
    "Describe how the geoparsing process went. Look through the data and see if there are false positives that remain. Explain how you would remove them in the future. (1-2 paragraphs)"
   ]
  },
  {
   "cell_type": "code",
   "execution_count": null,
   "id": "bef77acc-38c2-4772-881a-3b904e96ad09",
   "metadata": {
    "editable": true,
    "slideshow": {
     "slide_type": ""
    },
    "tags": []
   },
   "outputs": [],
   "source": [
    "#Import the results and show a sample\n",
    "YOUR_DATAFRAME_PLACES = pd.read_pickle('YOUR_DATAFRAME_PLACES.pickle')\n",
    "YOUR_DATAFRAME_PlACES.sample(5)"
   ]
  },
  {
   "cell_type": "markdown",
   "id": "29cfeb55-8b38-49a5-8a08-bd6f10bd0a87",
   "metadata": {
    "editable": true,
    "slideshow": {
     "slide_type": ""
    },
    "tags": []
   },
   "source": [
    "### 5. Sentiment Analysis Results\n"
   ]
  },
  {
   "cell_type": "markdown",
   "id": "ebdcf7ec-8ca7-41b2-a75f-8be85318f3c3",
   "metadata": {
    "editable": true,
    "slideshow": {
     "slide_type": ""
    },
    "tags": []
   },
   "source": [
    "Describe the sentiment analysis process. Look at the data and see if there are particular sentiment scores that stand out, either high scores or low scores. (1 paragraph)"
   ]
  },
  {
   "cell_type": "code",
   "execution_count": 35,
   "id": "6a8c78ee-36fb-4532-8e2f-6dd1e2e54a4c",
   "metadata": {
    "editable": true,
    "slideshow": {
     "slide_type": ""
    },
    "tags": []
   },
   "outputs": [
    {
     "data": {
      "text/html": [
       "<div>\n",
       "<style scoped>\n",
       "    .dataframe tbody tr th:only-of-type {\n",
       "        vertical-align: middle;\n",
       "    }\n",
       "\n",
       "    .dataframe tbody tr th {\n",
       "        vertical-align: top;\n",
       "    }\n",
       "\n",
       "    .dataframe thead th {\n",
       "        text-align: right;\n",
       "    }\n",
       "</style>\n",
       "<table border=\"1\" class=\"dataframe\">\n",
       "  <thead>\n",
       "    <tr style=\"text-align: right;\">\n",
       "      <th></th>\n",
       "      <th>place</th>\n",
       "      <th>location_count</th>\n",
       "      <th>latitude</th>\n",
       "      <th>longitude</th>\n",
       "      <th>location</th>\n",
       "      <th>avg_roberta_pos</th>\n",
       "      <th>avg_roberta_neu</th>\n",
       "      <th>avg_roberta_neg</th>\n",
       "      <th>avg_roberta_compound</th>\n",
       "      <th>location_count_bucket</th>\n",
       "    </tr>\n",
       "  </thead>\n",
       "  <tbody>\n",
       "    <tr>\n",
       "      <th>74</th>\n",
       "      <td>Indianapolis</td>\n",
       "      <td>16</td>\n",
       "      <td>39.76838</td>\n",
       "      <td>-86.15804</td>\n",
       "      <td>seat of a first-order administrative division</td>\n",
       "      <td>0.085355</td>\n",
       "      <td>0.726122</td>\n",
       "      <td>0.188524</td>\n",
       "      <td>-0.037328</td>\n",
       "      <td>2</td>\n",
       "    </tr>\n",
       "    <tr>\n",
       "      <th>50</th>\n",
       "      <td>Federal Republic of Germany</td>\n",
       "      <td>1</td>\n",
       "      <td>51.5</td>\n",
       "      <td>10.5</td>\n",
       "      <td>independent political entity</td>\n",
       "      <td>0.025356</td>\n",
       "      <td>0.258814</td>\n",
       "      <td>0.715830</td>\n",
       "      <td>-0.511769</td>\n",
       "      <td>1</td>\n",
       "    </tr>\n",
       "    <tr>\n",
       "      <th>195</th>\n",
       "      <td>West Village</td>\n",
       "      <td>1</td>\n",
       "      <td>42.56676</td>\n",
       "      <td>-71.112</td>\n",
       "      <td>populated place</td>\n",
       "      <td>0.232037</td>\n",
       "      <td>0.728286</td>\n",
       "      <td>0.039677</td>\n",
       "      <td>0.052267</td>\n",
       "      <td>1</td>\n",
       "    </tr>\n",
       "    <tr>\n",
       "      <th>128</th>\n",
       "      <td>Ohio</td>\n",
       "      <td>2</td>\n",
       "      <td>40.25034</td>\n",
       "      <td>-83.00018</td>\n",
       "      <td>first-order administrative division</td>\n",
       "      <td>0.073862</td>\n",
       "      <td>0.728905</td>\n",
       "      <td>0.197233</td>\n",
       "      <td>-0.061944</td>\n",
       "      <td>1</td>\n",
       "    </tr>\n",
       "    <tr>\n",
       "      <th>7</th>\n",
       "      <td>Arab Republic of Egypt</td>\n",
       "      <td>2</td>\n",
       "      <td>27.0</td>\n",
       "      <td>30.0</td>\n",
       "      <td>independent political entity</td>\n",
       "      <td>0.262616</td>\n",
       "      <td>0.710197</td>\n",
       "      <td>0.027187</td>\n",
       "      <td>0.085014</td>\n",
       "      <td>1</td>\n",
       "    </tr>\n",
       "  </tbody>\n",
       "</table>\n",
       "</div>"
      ],
      "text/plain": [
       "                           place  location_count  latitude longitude  \\\n",
       "74                  Indianapolis              16  39.76838 -86.15804   \n",
       "50   Federal Republic of Germany               1      51.5      10.5   \n",
       "195                 West Village               1  42.56676   -71.112   \n",
       "128                         Ohio               2  40.25034 -83.00018   \n",
       "7         Arab Republic of Egypt               2      27.0      30.0   \n",
       "\n",
       "                                          location  avg_roberta_pos  \\\n",
       "74   seat of a first-order administrative division         0.085355   \n",
       "50                    independent political entity         0.025356   \n",
       "195                                populated place         0.232037   \n",
       "128            first-order administrative division         0.073862   \n",
       "7                     independent political entity         0.262616   \n",
       "\n",
       "     avg_roberta_neu  avg_roberta_neg  avg_roberta_compound  \\\n",
       "74          0.726122         0.188524             -0.037328   \n",
       "50          0.258814         0.715830             -0.511769   \n",
       "195         0.728286         0.039677              0.052267   \n",
       "128         0.728905         0.197233             -0.061944   \n",
       "7           0.710197         0.027187              0.085014   \n",
       "\n",
       "     location_count_bucket  \n",
       "74                       2  \n",
       "50                       1  \n",
       "195                      1  \n",
       "128                      1  \n",
       "7                        1  "
      ]
     },
     "execution_count": 35,
     "metadata": {},
     "output_type": "execute_result"
    }
   ],
   "source": [
    "#Import the results and show a sample\n",
    "YOUR_DATAFRAME_SENTIMENTS = pd.read_pickle('YOUR_DATAFRAME_SENTIMENTS.pickle')\n",
    "YOUR_DATAFRAME_SENTIMENTS.sample(5)"
   ]
  },
  {
   "cell_type": "markdown",
   "id": "812a72fe-74a5-4586-a4f5-bb663a3b4e64",
   "metadata": {
    "editable": true,
    "slideshow": {
     "slide_type": ""
    },
    "tags": []
   },
   "source": [
    "### 6. Mapping"
   ]
  },
  {
   "cell_type": "markdown",
   "id": "1f0265dd-16c9-4511-b4c2-3a6b5175ef48",
   "metadata": {
    "editable": true,
    "slideshow": {
     "slide_type": ""
    },
    "tags": []
   },
   "source": [
    "Describe how you \"cleaned up\" the map and why. For example, you can explain:\n",
    "- if you decided to remove any results based on count\n",
    "- filtered out particular types of locations\n",
    "- Modified the map colors\n",
    "- Modified the map zoom and center\n",
    "Does your map try to tell a particular story? If so, what is that story?\n",
    "(1-2 paragraphs)"
   ]
  },
  {
   "cell_type": "code",
   "execution_count": null,
   "id": "4f557135-96ed-4f9c-9ec9-42108f8c63eb",
   "metadata": {
    "editable": true,
    "slideshow": {
     "slide_type": ""
    },
    "tags": []
   },
   "outputs": [],
   "source": [
    "import plotly.express as px\n",
    "#YOUR MAP CODE HERE"
   ]
  },
  {
   "cell_type": "markdown",
   "id": "7f640001-9f90-4fe0-b8b9-c0657a64df40",
   "metadata": {
    "editable": true,
    "slideshow": {
     "slide_type": ""
    },
    "tags": []
   },
   "source": [
    "### 7. Reflection (Individual)\n",
    "\n",
    "Describe how the process of geoparsing and emotion tagging went. \n",
    "- What expectations did you have when you went into the processing and what was the actual result?\n",
    "- What were some stumbling blocks you faced when collecting and processing your data?\n",
    "- What is some \"garbage\" data that is still in your data set?\n",
    "- If you had more time, how would you refine the results?\n",
    "\n",
    "  (1-2 paragraphs)"
   ]
  },
  {
   "cell_type": "code",
   "execution_count": null,
   "id": "0d0b83f6-14f3-4e3f-b27f-cbf7531a87b0",
   "metadata": {
    "editable": true,
    "slideshow": {
     "slide_type": ""
    },
    "tags": []
   },
   "outputs": [],
   "source": []
  }
 ],
 "metadata": {
  "kernelspec": {
   "display_name": "Python 3 (ipykernel)",
   "language": "python",
   "name": "python3"
  },
  "language_info": {
   "codemirror_mode": {
    "name": "ipython",
    "version": 3
   },
   "file_extension": ".py",
   "mimetype": "text/x-python",
   "name": "python",
   "nbconvert_exporter": "python",
   "pygments_lexer": "ipython3",
   "version": "3.12.3"
  }
 },
 "nbformat": 4,
 "nbformat_minor": 5
}
