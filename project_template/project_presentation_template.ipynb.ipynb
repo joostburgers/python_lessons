{
 "cells": [
  {
   "cell_type": "markdown",
   "id": "cc79e45d-8b2e-4b17-b8ae-370987169634",
   "metadata": {
    "editable": true,
    "slideshow": {
     "slide_type": ""
    },
    "tags": []
   },
   "source": [
    "# Project Title"
   ]
  },
  {
   "cell_type": "markdown",
   "id": "ef1a09ac-b9d4-4335-bbb0-cf7c8c900114",
   "metadata": {
    "editable": true,
    "slideshow": {
     "slide_type": ""
    },
    "tags": []
   },
   "source": [
    "#### Group Members"
   ]
  },
  {
   "cell_type": "markdown",
   "id": "301b435e-292d-4f28-b75f-5ca8bb05cb11",
   "metadata": {
    "editable": true,
    "slideshow": {
     "slide_type": ""
    },
    "tags": []
   },
   "source": [
    "### 1. Introduction"
   ]
  },
  {
   "cell_type": "markdown",
   "id": "ce5184c7-709d-4fe1-9521-a5d9f1718d62",
   "metadata": {
    "editable": true,
    "slideshow": {
     "slide_type": ""
    },
    "tags": []
   },
   "source": [
    "Provide a brief overview of your project here (1 paragraph)"
   ]
  },
  {
   "cell_type": "markdown",
   "id": "9bf81a4e-0a9d-45bf-af08-c08a873275dc",
   "metadata": {
    "editable": true,
    "slideshow": {
     "slide_type": ""
    },
    "tags": []
   },
   "source": [
    "### 2. Hypothesis"
   ]
  },
  {
   "cell_type": "markdown",
   "id": "10fd47a5-bc03-40ec-a245-403c6a270d6b",
   "metadata": {
    "editable": true,
    "slideshow": {
     "slide_type": ""
    },
    "tags": []
   },
   "source": [
    "Explain your expected findings. What do you think the map of your data will look like and why? (2-3 sentences)"
   ]
  },
  {
   "cell_type": "markdown",
   "id": "2bb52ad2-ba39-4cab-943f-9c3ea69afeae",
   "metadata": {
    "editable": true,
    "slideshow": {
     "slide_type": ""
    },
    "tags": []
   },
   "source": [
    "### 3. Corpus Description"
   ]
  },
  {
   "cell_type": "markdown",
   "id": "93477763-f8c3-4411-a37b-3e325577ee12",
   "metadata": {
    "editable": true,
    "slideshow": {
     "slide_type": ""
    },
    "tags": []
   },
   "source": [
    "Describe the body of texts you wanted to get and why. You should explain the total number of texts you ended up with and the various parameters you used to filter out data. Describe why you filtered out that particular data. (1 paragraph)"
   ]
  },
  {
   "cell_type": "code",
   "execution_count": 27,
   "id": "69ffb0d1-ddd8-4042-ac27-1c862f34d7ad",
   "metadata": {
    "editable": true,
    "slideshow": {
     "slide_type": ""
    },
    "tags": []
   },
   "outputs": [],
   "source": [
    "#Place the query you used to get the dataframe here"
   ]
  },
  {
   "cell_type": "code",
   "execution_count": 28,
   "id": "b47da515-aedb-47fb-a03e-8f64967fb7e4",
   "metadata": {
    "editable": true,
    "slideshow": {
     "slide_type": ""
    },
    "tags": []
   },
   "outputs": [
    {
     "data": {
      "text/html": [
       "<div>\n",
       "<style scoped>\n",
       "    .dataframe tbody tr th:only-of-type {\n",
       "        vertical-align: middle;\n",
       "    }\n",
       "\n",
       "    .dataframe tbody tr th {\n",
       "        vertical-align: top;\n",
       "    }\n",
       "\n",
       "    .dataframe thead th {\n",
       "        text-align: right;\n",
       "    }\n",
       "</style>\n",
       "<table border=\"1\" class=\"dataframe\">\n",
       "  <thead>\n",
       "    <tr style=\"text-align: right;\">\n",
       "      <th></th>\n",
       "      <th>text_id</th>\n",
       "      <th>type</th>\n",
       "      <th>issued</th>\n",
       "      <th>title</th>\n",
       "      <th>language</th>\n",
       "      <th>subjects</th>\n",
       "      <th>locc</th>\n",
       "      <th>bookshelves</th>\n",
       "      <th>second_author</th>\n",
       "      <th>last_name</th>\n",
       "      <th>first_name</th>\n",
       "      <th>birth</th>\n",
       "      <th>death</th>\n",
       "      <th>text_data</th>\n",
       "    </tr>\n",
       "  </thead>\n",
       "  <tbody>\n",
       "    <tr>\n",
       "      <th>477</th>\n",
       "      <td>496</td>\n",
       "      <td>Text</td>\n",
       "      <td>2006-01-16</td>\n",
       "      <td>The Little Lame Prince</td>\n",
       "      <td>en</td>\n",
       "      <td>Children's literature; Fairy tales; Princes --...</td>\n",
       "      <td>PZ</td>\n",
       "      <td>Children's Literature; Browsing: Children &amp; Yo...</td>\n",
       "      <td>&lt;NA&gt;</td>\n",
       "      <td>Craik</td>\n",
       "      <td>Dinah Maria Mulock</td>\n",
       "      <td>1826</td>\n",
       "      <td>1887</td>\n",
       "      <td>THE LITTLE LAME PRINCE ***\\r\\n\\r\\n\\r\\n\\r\\n\\r\\n...</td>\n",
       "    </tr>\n",
       "    <tr>\n",
       "      <th>60350</th>\n",
       "      <td>60427</td>\n",
       "      <td>Text</td>\n",
       "      <td>2019-10-05</td>\n",
       "      <td>Introducing Irony: A Book of Poetic Short Stor...</td>\n",
       "      <td>en</td>\n",
       "      <td>American poetry -- 20th century; Short stories...</td>\n",
       "      <td>PS</td>\n",
       "      <td>Browsing: Literature; Browsing: Poetry; Browsi...</td>\n",
       "      <td>&lt;NA&gt;</td>\n",
       "      <td>Bodenheim</td>\n",
       "      <td>Maxwell</td>\n",
       "      <td>1893</td>\n",
       "      <td>1954</td>\n",
       "      <td>INTRODUCING IRONY: A BOOK OF POETIC SHORT STOR...</td>\n",
       "    </tr>\n",
       "    <tr>\n",
       "      <th>68907</th>\n",
       "      <td>69000</td>\n",
       "      <td>Text</td>\n",
       "      <td>2022-09-16</td>\n",
       "      <td>The private life of Henry Maitland: A record d...</td>\n",
       "      <td>en</td>\n",
       "      <td>Gissing, George, 1857-1903</td>\n",
       "      <td>PR</td>\n",
       "      <td>Browsing: Biographies; Browsing: Literature</td>\n",
       "      <td>&lt;NA&gt;</td>\n",
       "      <td>Roberts</td>\n",
       "      <td>Morley</td>\n",
       "      <td>1857</td>\n",
       "      <td>1942</td>\n",
       "      <td>THE PRIVATE LIFE OF HENRY MAITLAND: A RECORD D...</td>\n",
       "    </tr>\n",
       "    <tr>\n",
       "      <th>4898</th>\n",
       "      <td>4939</td>\n",
       "      <td>Text</td>\n",
       "      <td>2004-01-01</td>\n",
       "      <td>Chopin : the Man and His Music</td>\n",
       "      <td>en</td>\n",
       "      <td>Chopin, Frédéric, 1810-1849; Composers -- Biog...</td>\n",
       "      <td>ML</td>\n",
       "      <td>Browsing: Biographies; Browsing: Music</td>\n",
       "      <td>&lt;NA&gt;</td>\n",
       "      <td>Huneker</td>\n",
       "      <td>James</td>\n",
       "      <td>1857</td>\n",
       "      <td>1921</td>\n",
       "      <td>***</td>\n",
       "    </tr>\n",
       "    <tr>\n",
       "      <th>29725</th>\n",
       "      <td>29797</td>\n",
       "      <td>Text</td>\n",
       "      <td>2009-08-25</td>\n",
       "      <td>The Prison Chaplaincy, And Its Experiences</td>\n",
       "      <td>en</td>\n",
       "      <td>Prisons -- New Hampshire; Prisoners -- Religio...</td>\n",
       "      <td>HV</td>\n",
       "      <td>Browsing: History - American; Browsing: Religi...</td>\n",
       "      <td>&lt;NA&gt;</td>\n",
       "      <td>Quinby</td>\n",
       "      <td>Hosea</td>\n",
       "      <td>1804</td>\n",
       "      <td>1878</td>\n",
       "      <td>THE PRISON CHAPLAINCY, AND ITS EXPERIENCES ***...</td>\n",
       "    </tr>\n",
       "  </tbody>\n",
       "</table>\n",
       "</div>"
      ],
      "text/plain": [
       "       text_id  type      issued  \\\n",
       "477        496  Text  2006-01-16   \n",
       "60350    60427  Text  2019-10-05   \n",
       "68907    69000  Text  2022-09-16   \n",
       "4898      4939  Text  2004-01-01   \n",
       "29725    29797  Text  2009-08-25   \n",
       "\n",
       "                                                   title language  \\\n",
       "477                               The Little Lame Prince       en   \n",
       "60350  Introducing Irony: A Book of Poetic Short Stor...       en   \n",
       "68907  The private life of Henry Maitland: A record d...       en   \n",
       "4898                      Chopin : the Man and His Music       en   \n",
       "29725         The Prison Chaplaincy, And Its Experiences       en   \n",
       "\n",
       "                                                subjects locc  \\\n",
       "477    Children's literature; Fairy tales; Princes --...   PZ   \n",
       "60350  American poetry -- 20th century; Short stories...   PS   \n",
       "68907                         Gissing, George, 1857-1903   PR   \n",
       "4898   Chopin, Frédéric, 1810-1849; Composers -- Biog...   ML   \n",
       "29725  Prisons -- New Hampshire; Prisoners -- Religio...   HV   \n",
       "\n",
       "                                             bookshelves second_author  \\\n",
       "477    Children's Literature; Browsing: Children & Yo...          <NA>   \n",
       "60350  Browsing: Literature; Browsing: Poetry; Browsi...          <NA>   \n",
       "68907        Browsing: Biographies; Browsing: Literature          <NA>   \n",
       "4898              Browsing: Biographies; Browsing: Music          <NA>   \n",
       "29725  Browsing: History - American; Browsing: Religi...          <NA>   \n",
       "\n",
       "       last_name          first_name  birth  death  \\\n",
       "477        Craik  Dinah Maria Mulock   1826   1887   \n",
       "60350  Bodenheim             Maxwell   1893   1954   \n",
       "68907    Roberts              Morley   1857   1942   \n",
       "4898     Huneker               James   1857   1921   \n",
       "29725     Quinby               Hosea   1804   1878   \n",
       "\n",
       "                                               text_data  \n",
       "477    THE LITTLE LAME PRINCE ***\\r\\n\\r\\n\\r\\n\\r\\n\\r\\n...  \n",
       "60350  INTRODUCING IRONY: A BOOK OF POETIC SHORT STOR...  \n",
       "68907  THE PRIVATE LIFE OF HENRY MAITLAND: A RECORD D...  \n",
       "4898                                                 ***  \n",
       "29725  THE PRISON CHAPLAINCY, AND ITS EXPERIENCES ***...  "
      ]
     },
     "execution_count": 28,
     "metadata": {},
     "output_type": "execute_result"
    }
   ],
   "source": [
    "#Import the results and show a sample\n",
    "import pandas as pd\n",
    "YOUR_DATAFRAME_TEXTS = pd.read_pickle('YOUR_DATAFRAME_TEXTS.pickle')\n",
    "YOUR_DATAFRAME_TEXTS.sample(5)"
   ]
  },
  {
   "cell_type": "markdown",
   "id": "46d94131-74ab-4513-8fb7-d4513c2cea53",
   "metadata": {
    "editable": true,
    "slideshow": {
     "slide_type": ""
    },
    "tags": []
   },
   "source": [
    "### 4. Geoparsing Results"
   ]
  },
  {
   "cell_type": "markdown",
   "id": "01502f0c-da94-4f1d-8b05-c5debac06bbd",
   "metadata": {
    "editable": true,
    "slideshow": {
     "slide_type": ""
    },
    "tags": []
   },
   "source": [
    "Describe how the geoparsing process went. Look through the data and see if there are false positives that remain. Explain how you would remove them in the future. (1-2 paragraphs)"
   ]
  },
  {
   "cell_type": "code",
   "execution_count": 37,
   "id": "3bd327c0-d149-4e85-beaa-b52215bb6da9",
   "metadata": {
    "editable": true,
    "slideshow": {
     "slide_type": ""
    },
    "tags": []
   },
   "outputs": [],
   "source": [
    "#Import the results and show a sample\n",
    "YOUR_DATAFRAME_PLACES = pd.read_pickle('YOUR_DATAFRAME_PLACES.pickle')"
   ]
  },
  {
   "cell_type": "code",
   "execution_count": 39,
   "id": "143c0823-85dc-44d7-ba3f-f6beceb1b0e1",
   "metadata": {
    "editable": true,
    "slideshow": {
     "slide_type": ""
    },
    "tags": []
   },
   "outputs": [
    {
     "data": {
      "text/html": [
       "<div>\n",
       "<style scoped>\n",
       "    .dataframe tbody tr th:only-of-type {\n",
       "        vertical-align: middle;\n",
       "    }\n",
       "\n",
       "    .dataframe tbody tr th {\n",
       "        vertical-align: top;\n",
       "    }\n",
       "\n",
       "    .dataframe thead th {\n",
       "        text-align: right;\n",
       "    }\n",
       "</style>\n",
       "<table border=\"1\" class=\"dataframe\">\n",
       "  <thead>\n",
       "    <tr style=\"text-align: right;\">\n",
       "      <th></th>\n",
       "      <th>cleaned_sentences</th>\n",
       "      <th>text_id</th>\n",
       "      <th>title</th>\n",
       "      <th>subjects</th>\n",
       "      <th>last_name</th>\n",
       "      <th>first_name</th>\n",
       "      <th>birth</th>\n",
       "      <th>death</th>\n",
       "      <th>sentences</th>\n",
       "      <th>toponyms</th>\n",
       "      <th>nltk_toponym_count</th>\n",
       "      <th>place</th>\n",
       "      <th>latitude</th>\n",
       "      <th>longitude</th>\n",
       "      <th>feature_name</th>\n",
       "    </tr>\n",
       "  </thead>\n",
       "  <tbody>\n",
       "    <tr>\n",
       "      <th>827</th>\n",
       "      <td>On the wall  at the northeast corner is a tabl...</td>\n",
       "      <td>43477</td>\n",
       "      <td>Bell's Cathedrals: The Cathedral Church of Lin...</td>\n",
       "      <td>Lincoln Cathedral</td>\n",
       "      <td>Kendrick</td>\n",
       "      <td>A. F. (Albert Frank)</td>\n",
       "      <td>1872</td>\n",
       "      <td>1954</td>\n",
       "      <td>On the wall\\r\\nat the north-east corner is a t...</td>\n",
       "      <td>[North Lincolnshire]</td>\n",
       "      <td>1</td>\n",
       "      <td>[North Lincolnshire]</td>\n",
       "      <td>[53.58333]</td>\n",
       "      <td>[-0.5]</td>\n",
       "      <td>[second-order administrative division]</td>\n",
       "    </tr>\n",
       "    <tr>\n",
       "      <th>1015</th>\n",
       "      <td>The Wisconsin man left prison sick, and must h...</td>\n",
       "      <td>29797</td>\n",
       "      <td>The Prison Chaplaincy, And Its Experiences</td>\n",
       "      <td>Prisons -- New Hampshire; Prisoners -- Religio...</td>\n",
       "      <td>Quinby</td>\n",
       "      <td>Hosea</td>\n",
       "      <td>1804</td>\n",
       "      <td>1878</td>\n",
       "      <td>The Wisconsin man left prison sick, and must h...</td>\n",
       "      <td>[Wisconsin]</td>\n",
       "      <td>2</td>\n",
       "      <td>[Wisconsin]</td>\n",
       "      <td>[44.50024]</td>\n",
       "      <td>[-90.00041]</td>\n",
       "      <td>[first-order administrative division]</td>\n",
       "    </tr>\n",
       "    <tr>\n",
       "      <th>329</th>\n",
       "      <td>For as the flower  Of the tigerlily bright wit...</td>\n",
       "      <td>38011</td>\n",
       "      <td>The Epic of Hades, in Three Books</td>\n",
       "      <td>Gods, Greek -- Poetry; Mythology, Greek -- Poetry</td>\n",
       "      <td>Morris</td>\n",
       "      <td>Lewis</td>\n",
       "      <td>1833</td>\n",
       "      <td>1907</td>\n",
       "      <td>For as the flower\\r\\nOf the tiger-lily bright ...</td>\n",
       "      <td>[Learning]</td>\n",
       "      <td>1</td>\n",
       "      <td>[]</td>\n",
       "      <td>[]</td>\n",
       "      <td>[]</td>\n",
       "      <td>[]</td>\n",
       "    </tr>\n",
       "    <tr>\n",
       "      <th>608</th>\n",
       "      <td>It  passed the House with no opposition, and s...</td>\n",
       "      <td>29797</td>\n",
       "      <td>The Prison Chaplaincy, And Its Experiences</td>\n",
       "      <td>Prisons -- New Hampshire; Prisoners -- Religio...</td>\n",
       "      <td>Quinby</td>\n",
       "      <td>Hosea</td>\n",
       "      <td>1804</td>\n",
       "      <td>1878</td>\n",
       "      <td>It\\r\\npassed the House with no opposition, and...</td>\n",
       "      <td>[Concord]</td>\n",
       "      <td>16</td>\n",
       "      <td>[Concord]</td>\n",
       "      <td>[43.20814]</td>\n",
       "      <td>[-71.53757]</td>\n",
       "      <td>[seat of a first-order administrative division]</td>\n",
       "    </tr>\n",
       "    <tr>\n",
       "      <th>285</th>\n",
       "      <td>Directors.    H. Edgeworth Bicknell, Esq.</td>\n",
       "      <td>42783</td>\n",
       "      <td>Notes and Queries, Number 168, January 15, 185...</td>\n",
       "      <td>Questions and answers -- Periodicals</td>\n",
       "      <td>Various</td>\n",
       "      <td>&lt;NA&gt;</td>\n",
       "      <td>&lt;NA&gt;</td>\n",
       "      <td>&lt;NA&gt;</td>\n",
       "      <td>_Directors._\\r\\n  H. Edgeworth Bicknell, Esq.</td>\n",
       "      <td>[Esq]</td>\n",
       "      <td>22</td>\n",
       "      <td>[]</td>\n",
       "      <td>[]</td>\n",
       "      <td>[]</td>\n",
       "      <td>[]</td>\n",
       "    </tr>\n",
       "  </tbody>\n",
       "</table>\n",
       "</div>"
      ],
      "text/plain": [
       "                                      cleaned_sentences  text_id  \\\n",
       "827   On the wall  at the northeast corner is a tabl...    43477   \n",
       "1015  The Wisconsin man left prison sick, and must h...    29797   \n",
       "329   For as the flower  Of the tigerlily bright wit...    38011   \n",
       "608   It  passed the House with no opposition, and s...    29797   \n",
       "285           Directors.    H. Edgeworth Bicknell, Esq.    42783   \n",
       "\n",
       "                                                  title  \\\n",
       "827   Bell's Cathedrals: The Cathedral Church of Lin...   \n",
       "1015         The Prison Chaplaincy, And Its Experiences   \n",
       "329                   The Epic of Hades, in Three Books   \n",
       "608          The Prison Chaplaincy, And Its Experiences   \n",
       "285   Notes and Queries, Number 168, January 15, 185...   \n",
       "\n",
       "                                               subjects last_name  \\\n",
       "827                                   Lincoln Cathedral  Kendrick   \n",
       "1015  Prisons -- New Hampshire; Prisoners -- Religio...    Quinby   \n",
       "329   Gods, Greek -- Poetry; Mythology, Greek -- Poetry    Morris   \n",
       "608   Prisons -- New Hampshire; Prisoners -- Religio...    Quinby   \n",
       "285                Questions and answers -- Periodicals   Various   \n",
       "\n",
       "                first_name  birth  death  \\\n",
       "827   A. F. (Albert Frank)   1872   1954   \n",
       "1015                 Hosea   1804   1878   \n",
       "329                  Lewis   1833   1907   \n",
       "608                  Hosea   1804   1878   \n",
       "285                   <NA>   <NA>   <NA>   \n",
       "\n",
       "                                              sentences              toponyms  \\\n",
       "827   On the wall\\r\\nat the north-east corner is a t...  [North Lincolnshire]   \n",
       "1015  The Wisconsin man left prison sick, and must h...           [Wisconsin]   \n",
       "329   For as the flower\\r\\nOf the tiger-lily bright ...            [Learning]   \n",
       "608   It\\r\\npassed the House with no opposition, and...             [Concord]   \n",
       "285       _Directors._\\r\\n  H. Edgeworth Bicknell, Esq.                 [Esq]   \n",
       "\n",
       "      nltk_toponym_count                 place    latitude    longitude  \\\n",
       "827                    1  [North Lincolnshire]  [53.58333]       [-0.5]   \n",
       "1015                   2           [Wisconsin]  [44.50024]  [-90.00041]   \n",
       "329                    1                    []          []           []   \n",
       "608                   16             [Concord]  [43.20814]  [-71.53757]   \n",
       "285                   22                    []          []           []   \n",
       "\n",
       "                                         feature_name  \n",
       "827            [second-order administrative division]  \n",
       "1015            [first-order administrative division]  \n",
       "329                                                []  \n",
       "608   [seat of a first-order administrative division]  \n",
       "285                                                []  "
      ]
     },
     "execution_count": 39,
     "metadata": {},
     "output_type": "execute_result"
    }
   ],
   "source": [
    "YOUR_DATAFRAME_PLACES.sample(5)"
   ]
  },
  {
   "cell_type": "markdown",
   "id": "29cfeb55-8b38-49a5-8a08-bd6f10bd0a87",
   "metadata": {
    "editable": true,
    "slideshow": {
     "slide_type": ""
    },
    "tags": []
   },
   "source": [
    "### 5. Sentiment Analysis Results\n"
   ]
  },
  {
   "cell_type": "markdown",
   "id": "ebdcf7ec-8ca7-41b2-a75f-8be85318f3c3",
   "metadata": {
    "editable": true,
    "slideshow": {
     "slide_type": ""
    },
    "tags": []
   },
   "source": [
    "Describe the sentiment analysis process. Look at the data and see if there are particular sentiment scores that stand out, either high scores or low scores. (1 paragraph)"
   ]
  },
  {
   "cell_type": "code",
   "execution_count": null,
   "id": "6a8c78ee-36fb-4532-8e2f-6dd1e2e54a4c",
   "metadata": {
    "editable": true,
    "slideshow": {
     "slide_type": ""
    },
    "tags": []
   },
   "outputs": [],
   "source": [
    "#Import the results and show a sample\n",
    "YOUR_DATAFRAME_SENTIMENTS = pd.read_pickle('YOUR_DATAFRAME_SENTIMENTS.pickle')\n",
    "YOUR_DATAFRAME_SENTIMENTS.sample(5)"
   ]
  },
  {
   "cell_type": "markdown",
   "id": "812a72fe-74a5-4586-a4f5-bb663a3b4e64",
   "metadata": {
    "editable": true,
    "slideshow": {
     "slide_type": ""
    },
    "tags": []
   },
   "source": [
    "### 6. Mapping"
   ]
  },
  {
   "cell_type": "markdown",
   "id": "1f0265dd-16c9-4511-b4c2-3a6b5175ef48",
   "metadata": {
    "editable": true,
    "slideshow": {
     "slide_type": ""
    },
    "tags": []
   },
   "source": [
    "Describe how you \"cleaned up\" the map and why. For example, you can explain:\n",
    "- If you decided to remove any results based on count\n",
    "- Filtered out particular types of locations\n",
    "- Modified the map colors\n",
    "- Modified the map zoom and center\n",
    "Does your map try to tell a particular story? If so, what is that story?\n",
    "\n",
    "(1-2 paragraphs)"
   ]
  },
  {
   "cell_type": "code",
   "execution_count": null,
   "id": "4f557135-96ed-4f9c-9ec9-42108f8c63eb",
   "metadata": {
    "editable": true,
    "slideshow": {
     "slide_type": ""
    },
    "tags": []
   },
   "outputs": [],
   "source": [
    "import plotly.express as px\n",
    "#YOUR MAP CODE HERE"
   ]
  },
  {
   "cell_type": "markdown",
   "id": "7f640001-9f90-4fe0-b8b9-c0657a64df40",
   "metadata": {
    "editable": true,
    "slideshow": {
     "slide_type": ""
    },
    "tags": []
   },
   "source": [
    "### 7. Reflection (Individual)\n",
    "\n",
    "Describe how the process of geoparsing and emotion tagging went. \n",
    "- What expectations did you have when you went into the processing and what was the actual result?\n",
    "- Do you feel that the process was succesful? \n",
    "- What were some stumbling blocks you faced when collecting and processing your data?\n",
    "- What is some \"garbage\" data that is still in your data set?\n",
    "- If you had more time, how would you refine the results?\n",
    "\n",
    "\n",
    "  (1-2 paragraphs)"
   ]
  },
  {
   "cell_type": "code",
   "execution_count": null,
   "id": "0d0b83f6-14f3-4e3f-b27f-cbf7531a87b0",
   "metadata": {
    "editable": true,
    "slideshow": {
     "slide_type": ""
    },
    "tags": []
   },
   "outputs": [],
   "source": []
  }
 ],
 "metadata": {
  "kernelspec": {
   "display_name": "Python 3 (ipykernel)",
   "language": "python",
   "name": "python3"
  },
  "language_info": {
   "codemirror_mode": {
    "name": "ipython",
    "version": 3
   },
   "file_extension": ".py",
   "mimetype": "text/x-python",
   "name": "python",
   "nbconvert_exporter": "python",
   "pygments_lexer": "ipython3",
   "version": "3.12.3"
  }
 },
 "nbformat": 4,
 "nbformat_minor": 5
}
