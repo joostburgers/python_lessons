{
 "cells": [
  {
   "cell_type": "markdown",
   "id": "635d2342-e49e-448b-be78-37fabdc4991c",
   "metadata": {},
   "source": [
    "# NER Installation Guide (SpaCy and NLTK)\n",
    "\n",
    "## Step 1: Install `spaCy`\n",
    "1. Open a terminal or command prompt.\n",
    "2. Install `spaCy` using `pip` by running the following command:\n",
    "   \n",
    "   `pip install spacy`\n",
    "   \n"
   ]
  },
  {
   "cell_type": "markdown",
   "id": "07919fe2-97c0-4979-84af-252abb86be3f",
   "metadata": {},
   "source": [
    "## Step 2: Download the Pre-trained model"
   ]
  },
  {
   "cell_type": "markdown",
   "id": "24f559bd-cdcd-4ef6-9701-17b4524b3af5",
   "metadata": {},
   "source": [
    "1. After spacy installs, run the command below in the terminal: \n",
    "\n",
    "`python -m spacy download en_core_web_sm`"
   ]
  },
  {
   "cell_type": "markdown",
   "id": "77a84622-44c9-4246-8e8f-25043e1a0cbc",
   "metadata": {},
   "source": [
    "## Step 3: Install NLTK"
   ]
  },
  {
   "cell_type": "markdown",
   "id": "60247fa6-4384-4f18-862b-d537f78355dc",
   "metadata": {},
   "source": [
    "1. Run:\n",
    "`pip install nltk`"
   ]
  },
  {
   "cell_type": "code",
   "execution_count": null,
   "id": "8ae63c00-e4bf-4276-8fcd-c40e47ecbaff",
   "metadata": {},
   "outputs": [],
   "source": []
  }
 ],
 "metadata": {
  "kernelspec": {
   "display_name": "Python 3 (ipykernel)",
   "language": "python",
   "name": "python3"
  },
  "language_info": {
   "codemirror_mode": {
    "name": "ipython",
    "version": 3
   },
   "file_extension": ".py",
   "mimetype": "text/x-python",
   "name": "python",
   "nbconvert_exporter": "python",
   "pygments_lexer": "ipython3",
   "version": "3.12.3"
  }
 },
 "nbformat": 4,
 "nbformat_minor": 5
}
