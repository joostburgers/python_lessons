{
 "cells": [
  {
   "cell_type": "markdown",
   "id": "cd31607d-f37a-4b35-960f-f807f1936f3d",
   "metadata": {},
   "source": [
    "# Install requirements"
   ]
  },
  {
   "cell_type": "markdown",
   "id": "9cdd9dcc-fba8-4cb1-ab45-0510e7973cfc",
   "metadata": {},
   "source": [
    "Geoparser is a Python library for geoparsing unstructured texts. It employs spaCy for toponym recognition and fine-tuned SentenceTransformer models for toponym resolution."
   ]
  },
  {
   "cell_type": "markdown",
   "id": "2e3556a7-425e-450b-92fe-954b17f7b093",
   "metadata": {},
   "source": [
    "```bash\n",
    "pip install geoparser\n",
    "```"
   ]
  },
  {
   "cell_type": "markdown",
   "id": "52c697d7-f280-4bac-a8de-e4e11924fd11",
   "metadata": {},
   "source": [
    "You should manually download the desired spaCy model based on your specific needs. For example, to download the default recommended model for English texts, run:"
   ]
  },
  {
   "cell_type": "markdown",
   "id": "f8a4fd73-2e98-4e52-968c-8f3629d8863d",
   "metadata": {},
   "source": [
    "python -m spacy download en_core_web_trf"
   ]
  },
  {
   "cell_type": "markdown",
   "id": "4af180a7-5b3e-4bae-9303-0cca19eca726",
   "metadata": {},
   "source": [
    "Geoparser uses gazetteer data to resolve toponyms to geographic locations. The default gazetteer is GeoNames, and it can be set up with the following command:"
   ]
  },
  {
   "cell_type": "markdown",
   "id": "a53df409-6ca1-4ec7-9b2d-aba7bc42bc68",
   "metadata": {},
   "source": [
    "python -m geoparser download geonames"
   ]
  },
  {
   "cell_type": "markdown",
   "id": "befbf7ac-a67f-4fe3-aa08-152eba99c66a",
   "metadata": {},
   "source": [
    "Be warned this could take a while because it is a big file.\n",
    "\n",
    "Please ensure you have enough disk space available. The final size of the downloaded GeoNames data will be approximately 3.2 GB, increasing temporarily to around 5 GB during the download and setup process."
   ]
  },
  {
   "cell_type": "code",
   "execution_count": null,
   "id": "ba0c9988-2bb9-4076-b0ad-1c3f874dbe21",
   "metadata": {},
   "outputs": [],
   "source": []
  },
  {
   "cell_type": "code",
   "execution_count": null,
   "id": "ff7ad75a-f2ba-4a0d-97e4-93918c85eae0",
   "metadata": {},
   "outputs": [],
   "source": []
  }
 ],
 "metadata": {
  "kernelspec": {
   "display_name": "Python 3 (ipykernel)",
   "language": "python",
   "name": "python3"
  },
  "language_info": {
   "codemirror_mode": {
    "name": "ipython",
    "version": 3
   },
   "file_extension": ".py",
   "mimetype": "text/x-python",
   "name": "python",
   "nbconvert_exporter": "python",
   "pygments_lexer": "ipython3",
   "version": "3.12.3"
  }
 },
 "nbformat": 4,
 "nbformat_minor": 5
}
