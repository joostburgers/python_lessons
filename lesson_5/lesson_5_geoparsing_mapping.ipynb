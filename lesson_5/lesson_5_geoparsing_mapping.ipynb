{
 "cells": [
  {
   "cell_type": "code",
   "execution_count": null,
   "id": "ba0907d4-6027-4e36-ac90-fa9943c3d69f",
   "metadata": {},
   "outputs": [],
   "source": []
  },
  {
   "cell_type": "code",
   "execution_count": 2,
   "id": "1dcb7c37-80eb-4ecf-91da-66d098d8825d",
   "metadata": {},
   "outputs": [
    {
     "name": "stderr",
     "output_type": "stream",
     "text": [
      "C:\\Users\\joost\\anaconda3\\Lib\\site-packages\\sentence_transformers\\cross_encoder\\CrossEncoder.py:13: TqdmExperimentalWarning: Using `tqdm.autonotebook.tqdm` in notebook mode. Use `tqdm.tqdm` instead to force console mode (e.g. in jupyter console)\n",
      "  from tqdm.autonotebook import tqdm, trange\n"
     ]
    },
    {
     "name": "stdout",
     "output_type": "stream",
     "text": [
      "WARNING:tensorflow:From C:\\Users\\joost\\anaconda3\\Lib\\site-packages\\tf_keras\\src\\losses.py:2976: The name tf.losses.sparse_softmax_cross_entropy is deprecated. Please use tf.compat.v1.losses.sparse_softmax_cross_entropy instead.\n",
      "\n"
     ]
    }
   ],
   "source": [
    "from geoparser import Geoparser\n",
    "from tqdm.autonotebook import tqdm, trange\n",
    "import pandas as pd\n",
    "\n",
    "import warnings\n",
    "\n",
    "# Suppress all FutureWarnings\n",
    "warnings.simplefilter(action='ignore', category=FutureWarning)"
   ]
  },
  {
   "cell_type": "markdown",
   "id": "51a559ee-3898-4e61-93b7-863f9d4c731b",
   "metadata": {},
   "source": [
    "### Load Geoparser"
   ]
  },
  {
   "cell_type": "markdown",
   "id": "13b6ef4b-2414-4ed6-b360-692b44b061b5",
   "metadata": {},
   "source": [
    "To use Geoparser, instantiate an object of the Geoparser class with optional specifications for the spaCy model, transformer model, and gazetteer. By default, the library uses an accuracy-optimised configuration:"
   ]
  },
  {
   "cell_type": "code",
   "execution_count": 6,
   "id": "5801c355-cc54-477b-8fe7-29f6e6b33de7",
   "metadata": {},
   "outputs": [],
   "source": [
    "geo = Geoparser(spacy_model='en_core_web_trf', transformer_model='dguzh/geo-all-distilroberta-v1', gazetteer='geonames')"
   ]
  },
  {
   "cell_type": "markdown",
   "id": "d7f23571-3818-4d81-b63f-ed13fdd4096d",
   "metadata": {},
   "source": [
    "Geoparser is optimised for parsing large collections of texts at once. To perform parsing, supply a list of strings to the parse method. This method processes the input and returns a list of GeoDoc objects, each containing identified and resolved toponyms:\n",
    "\n",
    "```python\n",
    "docs = geo.parse([\"Sample text 1\", \"Sample text 2\", \"Sample text 3\"])\n",
    "```\n",
    "\n",
    "Modify your code above to run your own three strings for geodata.\n"
   ]
  },
  {
   "cell_type": "code",
   "execution_count": 9,
   "id": "9de1b7b7-3399-462b-88de-0e8f1c04813f",
   "metadata": {},
   "outputs": [
    {
     "name": "stdout",
     "output_type": "stream",
     "text": [
      "Toponym Recognition...\n"
     ]
    },
    {
     "data": {
      "application/vnd.jupyter.widget-view+json": {
       "model_id": "ede9ec4f8c1041788778c98ac01c31b6",
       "version_major": 2,
       "version_minor": 0
      },
      "text/plain": [
       "Batches:   0%|          | 0/2 [00:00<?, ?it/s]"
      ]
     },
     "metadata": {},
     "output_type": "display_data"
    },
    {
     "name": "stdout",
     "output_type": "stream",
     "text": [
      "Toponym Resolution...\n"
     ]
    },
    {
     "data": {
      "application/vnd.jupyter.widget-view+json": {
       "model_id": "66b9bfaeea9a4719b3a5b8f7388e5a74",
       "version_major": 2,
       "version_minor": 0
      },
      "text/plain": [
       "Batches:   0%|          | 0/5 [00:00<?, ?it/s]"
      ]
     },
     "metadata": {},
     "output_type": "display_data"
    },
    {
     "data": {
      "application/vnd.jupyter.widget-view+json": {
       "model_id": "e37918c82b1449e28c65896b61678b64",
       "version_major": 2,
       "version_minor": 0
      },
      "text/plain": [
       "Batches:   0%|          | 0/1 [00:00<?, ?it/s]"
      ]
     },
     "metadata": {},
     "output_type": "display_data"
    }
   ],
   "source": [
    "docs = geo.parse ([\"The text goes here. New York\",\"There are also locations in Harrisonburg\"])"
   ]
  },
  {
   "cell_type": "markdown",
   "id": "327daaf9-f0de-4de6-9c4a-b86781d27355",
   "metadata": {},
   "source": [
    "We can get the result by cycling through every individual instances of the toponyms in the collectino stored in docs."
   ]
  },
  {
   "cell_type": "code",
   "execution_count": 12,
   "id": "5e03575a-c90c-46e3-a5e8-0691ae64ecec",
   "metadata": {},
   "outputs": [
    {
     "name": "stdout",
     "output_type": "stream",
     "text": [
      "New York\n",
      "Harrisonburg\n"
     ]
    }
   ],
   "source": [
    "for doc in docs:\n",
    "    for toponym in doc.toponyms:\n",
    "        print(toponym)"
   ]
  },
  {
   "cell_type": "markdown",
   "id": "0dceb9cd-0f99-46e0-9135-f79660cb53e4",
   "metadata": {},
   "source": [
    "The toponym variable actually stores a lot of other information as well. The data structure looks like this:\n",
    "\n",
    "```python\n",
    "{\n",
    "'geonameid': 2867714,\n",
    "'name': 'Munich',\n",
    "'admin2_geonameid': 2861322,\n",
    "'admin2_name': 'Upper Bavaria',\n",
    "'admin1_geonameid': 2951839,\n",
    "'admin1_name': 'Bavaria',\n",
    "'country_geonameid': 2921044,\n",
    "'country_name': 'Germany',\n",
    "'feature_name': 'seat of a first-order administrative division',\n",
    "'latitude': 48.13743,\n",
    "'longitude': 11.57549,\n",
    "'elevation': None,\n",
    "'population': 1260391\n",
    "}\n",
    "```"
   ]
  },
  {
   "cell_type": "markdown",
   "id": "02179074-c249-40a7-871d-97e453508517",
   "metadata": {},
   "source": [
    "Much like a list or a dataframe we can navigate to these individual values by accessing the `.location` value in the toponym, and then going to the individual `key`."
   ]
  },
  {
   "cell_type": "code",
   "execution_count": 16,
   "id": "d7291e59-eb5c-47c5-9a1f-7ac1d9c804c3",
   "metadata": {},
   "outputs": [
    {
     "name": "stdout",
     "output_type": "stream",
     "text": [
      "Place: New York, Latitude: 40.71427, Longitude: -74.00597\n",
      "Place: Harrisonburg, Latitude: 38.44957, Longitude: -78.86892\n"
     ]
    }
   ],
   "source": [
    "for doc in docs:\n",
    "    for toponym in doc.toponyms:\n",
    "        if toponym.location:\n",
    "            # If location is resolved\n",
    "            place_name = toponym\n",
    "            latitude = toponym.location['latitude']\n",
    "            longitude = toponym.location['longitude']\n",
    "            print(f\"Place: {place_name}, Latitude: {latitude}, Longitude: {longitude}\")\n",
    "        else:\n",
    "            # If no location is resolved\n",
    "            print(f\"No location found for toponym: {toponym}\")\n"
   ]
  },
  {
   "cell_type": "markdown",
   "id": "1ef5a819-2928-4b91-a2b8-20aa858e5295",
   "metadata": {},
   "source": [
    "### Load in sentiment data"
   ]
  },
  {
   "cell_type": "markdown",
   "id": "7082c609-1d80-494a-9335-f269cf96de51",
   "metadata": {},
   "source": [
    "We can load in the data from last lesson and start there."
   ]
  },
  {
   "cell_type": "code",
   "execution_count": 20,
   "id": "9df00794-1c25-4f6e-9baa-a3c1617a5489",
   "metadata": {},
   "outputs": [],
   "source": [
    "df_virginia_toponyms_sentiment = pd.read_pickle('df_virginia_toponym_sentiment_full.pickle')"
   ]
  },
  {
   "cell_type": "markdown",
   "id": "fc124384-68d5-4bf3-a15e-8ca175e8f98a",
   "metadata": {},
   "source": [
    "As the toponym extraction process is very time intensive. We will run it on a sample, just to show you how it works. The full results will be imported below."
   ]
  },
  {
   "cell_type": "code",
   "execution_count": 25,
   "id": "750fadb3-bed7-4ed6-a624-b77ba464a6bf",
   "metadata": {},
   "outputs": [
    {
     "data": {
      "text/html": [
       "<div>\n",
       "<style scoped>\n",
       "    .dataframe tbody tr th:only-of-type {\n",
       "        vertical-align: middle;\n",
       "    }\n",
       "\n",
       "    .dataframe tbody tr th {\n",
       "        vertical-align: top;\n",
       "    }\n",
       "\n",
       "    .dataframe thead th {\n",
       "        text-align: right;\n",
       "    }\n",
       "</style>\n",
       "<table border=\"1\" class=\"dataframe\">\n",
       "  <thead>\n",
       "    <tr style=\"text-align: right;\">\n",
       "      <th></th>\n",
       "      <th>text_id</th>\n",
       "      <th>title</th>\n",
       "      <th>subjects</th>\n",
       "      <th>last_name</th>\n",
       "      <th>first_name</th>\n",
       "      <th>birth</th>\n",
       "      <th>death</th>\n",
       "      <th>cleaned_sentences</th>\n",
       "      <th>toponyms</th>\n",
       "      <th>nltk_sentiment</th>\n",
       "      <th>roberta_neg</th>\n",
       "      <th>roberta_neu</th>\n",
       "      <th>roberta_pos</th>\n",
       "    </tr>\n",
       "  </thead>\n",
       "  <tbody>\n",
       "    <tr>\n",
       "      <th>77</th>\n",
       "      <td>2674</td>\n",
       "      <td>The Complete Writings of Charles Dudley Warner...</td>\n",
       "      <td>Autobiographies; Virginia -- Description and t...</td>\n",
       "      <td>Warner</td>\n",
       "      <td>Charles Dudley</td>\n",
       "      <td>1829</td>\n",
       "      <td>1900</td>\n",
       "      <td>The proprietor sat in a little railed  veranda.</td>\n",
       "      <td>[veranda]</td>\n",
       "      <td>0.0000</td>\n",
       "      <td>0.082492</td>\n",
       "      <td>0.845996</td>\n",
       "      <td>0.071511</td>\n",
       "    </tr>\n",
       "    <tr>\n",
       "      <th>251</th>\n",
       "      <td>2898</td>\n",
       "      <td>Pioneers of the Old South: A Chronicle of Engl...</td>\n",
       "      <td>Southern States -- History -- Colonial period,...</td>\n",
       "      <td>Johnston</td>\n",
       "      <td>Mary</td>\n",
       "      <td>1870</td>\n",
       "      <td>1936</td>\n",
       "      <td>Such was the Virginia between the Potomac and ...</td>\n",
       "      <td>[Virginia]</td>\n",
       "      <td>0.0000</td>\n",
       "      <td>0.066193</td>\n",
       "      <td>0.886669</td>\n",
       "      <td>0.047138</td>\n",
       "    </tr>\n",
       "    <tr>\n",
       "      <th>227</th>\n",
       "      <td>2898</td>\n",
       "      <td>Pioneers of the Old South: A Chronicle of Engl...</td>\n",
       "      <td>Southern States -- History -- Colonial period,...</td>\n",
       "      <td>Johnston</td>\n",
       "      <td>Mary</td>\n",
       "      <td>1870</td>\n",
       "      <td>1936</td>\n",
       "      <td>Its letters  patent were for North Virginia.</td>\n",
       "      <td>[North Virginia]</td>\n",
       "      <td>0.0000</td>\n",
       "      <td>0.093607</td>\n",
       "      <td>0.870762</td>\n",
       "      <td>0.035631</td>\n",
       "    </tr>\n",
       "    <tr>\n",
       "      <th>136</th>\n",
       "      <td>2674</td>\n",
       "      <td>The Complete Writings of Charles Dudley Warner...</td>\n",
       "      <td>Autobiographies; Virginia -- Description and t...</td>\n",
       "      <td>Warner</td>\n",
       "      <td>Charles Dudley</td>\n",
       "      <td>1829</td>\n",
       "      <td>1900</td>\n",
       "      <td>I shall go away with a  high opinion of the ho...</td>\n",
       "      <td>[Mitchell County]</td>\n",
       "      <td>0.4939</td>\n",
       "      <td>0.018908</td>\n",
       "      <td>0.601169</td>\n",
       "      <td>0.379923</td>\n",
       "    </tr>\n",
       "    <tr>\n",
       "      <th>127</th>\n",
       "      <td>2674</td>\n",
       "      <td>The Complete Writings of Charles Dudley Warner...</td>\n",
       "      <td>Autobiographies; Virginia -- Description and t...</td>\n",
       "      <td>Warner</td>\n",
       "      <td>Charles Dudley</td>\n",
       "      <td>1829</td>\n",
       "      <td>1900</td>\n",
       "      <td>At the top he encountered a stranger, on a sor...</td>\n",
       "      <td>[Burnsville]</td>\n",
       "      <td>-0.2960</td>\n",
       "      <td>0.131433</td>\n",
       "      <td>0.804757</td>\n",
       "      <td>0.063811</td>\n",
       "    </tr>\n",
       "  </tbody>\n",
       "</table>\n",
       "</div>"
      ],
      "text/plain": [
       "     text_id                                              title  \\\n",
       "77      2674  The Complete Writings of Charles Dudley Warner...   \n",
       "251     2898  Pioneers of the Old South: A Chronicle of Engl...   \n",
       "227     2898  Pioneers of the Old South: A Chronicle of Engl...   \n",
       "136     2674  The Complete Writings of Charles Dudley Warner...   \n",
       "127     2674  The Complete Writings of Charles Dudley Warner...   \n",
       "\n",
       "                                              subjects last_name  \\\n",
       "77   Autobiographies; Virginia -- Description and t...    Warner   \n",
       "251  Southern States -- History -- Colonial period,...  Johnston   \n",
       "227  Southern States -- History -- Colonial period,...  Johnston   \n",
       "136  Autobiographies; Virginia -- Description and t...    Warner   \n",
       "127  Autobiographies; Virginia -- Description and t...    Warner   \n",
       "\n",
       "         first_name  birth  death  \\\n",
       "77   Charles Dudley   1829   1900   \n",
       "251            Mary   1870   1936   \n",
       "227            Mary   1870   1936   \n",
       "136  Charles Dudley   1829   1900   \n",
       "127  Charles Dudley   1829   1900   \n",
       "\n",
       "                                     cleaned_sentences           toponyms  \\\n",
       "77     The proprietor sat in a little railed  veranda.          [veranda]   \n",
       "251  Such was the Virginia between the Potomac and ...         [Virginia]   \n",
       "227       Its letters  patent were for North Virginia.   [North Virginia]   \n",
       "136  I shall go away with a  high opinion of the ho...  [Mitchell County]   \n",
       "127  At the top he encountered a stranger, on a sor...       [Burnsville]   \n",
       "\n",
       "     nltk_sentiment  roberta_neg  roberta_neu  roberta_pos  \n",
       "77           0.0000     0.082492     0.845996     0.071511  \n",
       "251          0.0000     0.066193     0.886669     0.047138  \n",
       "227          0.0000     0.093607     0.870762     0.035631  \n",
       "136          0.4939     0.018908     0.601169     0.379923  \n",
       "127         -0.2960     0.131433     0.804757     0.063811  "
      ]
     },
     "execution_count": 25,
     "metadata": {},
     "output_type": "execute_result"
    }
   ],
   "source": [
    "df_virginia_sample = df_virginia_toponyms_sentiment.head(300).copy()\n",
    "df_virginia_sample.sample(5)"
   ]
  },
  {
   "cell_type": "markdown",
   "id": "79209b12-06db-4fb7-8fc0-bd35d07cc5fd",
   "metadata": {},
   "source": [
    "Since the `geo.parse` function is expecting a list of strings and outputs a complicated piece of data, this logic has been abstracted out into a function to make things a bit simpler. The function goes through and looks at the strings in `cleaned_sentences` and tries to establish a toponym. It also includes a `feature_filter` for only Administrative areas [`A`] (Countries, States, Counties) and Population centers [`P`] because otherwise the process will take very long and also include geographic features like streams, rivers, gulley's etc."
   ]
  },
  {
   "cell_type": "code",
   "execution_count": 35,
   "id": "3e7fef83-5a3a-4783-8b78-6e2b04d64338",
   "metadata": {},
   "outputs": [],
   "source": [
    "def geoparse_column(df):\n",
    "    sentences = df['cleaned_sentences'].tolist()  # Convert column to list\n",
    "    docs = geo.parse(sentences, feature_filter=['A', 'P'])  # Run geo.parse on the entire list\n",
    "\n",
    "    # Initialize lists to store the extracted fields\n",
    "    places, latitudes, longitudes, feature_names = [], [], [], []\n",
    "\n",
    "    # Iterate through the results and extract toponyms and their locations\n",
    "    for doc in docs:\n",
    "        doc_places = []\n",
    "        doc_latitudes = []\n",
    "        doc_longitudes = []\n",
    "        doc_feature_names = []\n",
    "\n",
    "        for toponym in doc.toponyms:\n",
    "            if toponym.location:\n",
    "                doc_places.append(toponym.location.get('name'))\n",
    "                doc_latitudes.append(toponym.location.get('latitude'))\n",
    "                doc_longitudes.append(toponym.location.get('longitude'))\n",
    "                doc_feature_names.append(toponym.location.get('feature_name'))\n",
    "            else:\n",
    "                doc_places.append(None)\n",
    "                doc_latitudes.append(None)\n",
    "                doc_longitudes.append(None)\n",
    "                doc_feature_names.append(None)\n",
    "\n",
    "        # Append the extracted data for the document\n",
    "        places.append(doc_places)\n",
    "        latitudes.append(doc_latitudes)\n",
    "        longitudes.append(doc_longitudes)\n",
    "        feature_names.append(doc_feature_names)\n",
    "\n",
    "    # Assign the extracted data to the DataFrame as new columns\n",
    "    df['place'] = places\n",
    "    df['latitude'] = latitudes\n",
    "    df['longitude'] = longitudes\n",
    "    df['feature_name'] = feature_names\n",
    "\n",
    "    return df\n"
   ]
  },
  {
   "cell_type": "code",
   "execution_count": 37,
   "id": "0d730b30-80e7-4f01-81f6-6bd443b0435d",
   "metadata": {},
   "outputs": [
    {
     "name": "stdout",
     "output_type": "stream",
     "text": [
      "Toponym Recognition...\n"
     ]
    },
    {
     "data": {
      "application/vnd.jupyter.widget-view+json": {
       "model_id": "59b59d790132480d8e82b63bf0af7260",
       "version_major": 2,
       "version_minor": 0
      },
      "text/plain": [
       "Batches:   0%|          | 0/300 [00:00<?, ?it/s]"
      ]
     },
     "metadata": {},
     "output_type": "display_data"
    },
    {
     "name": "stdout",
     "output_type": "stream",
     "text": [
      "Toponym Resolution...\n"
     ]
    },
    {
     "data": {
      "application/vnd.jupyter.widget-view+json": {
       "model_id": "e448a769133e4ff680bdace833b73bff",
       "version_major": 2,
       "version_minor": 0
      },
      "text/plain": [
       "Batches:   0%|          | 0/505 [00:00<?, ?it/s]"
      ]
     },
     "metadata": {},
     "output_type": "display_data"
    },
    {
     "data": {
      "application/vnd.jupyter.widget-view+json": {
       "model_id": "af8257482c3a4c2d861976e8cbacc2e5",
       "version_major": 2,
       "version_minor": 0
      },
      "text/plain": [
       "Batches:   0%|          | 0/57 [00:00<?, ?it/s]"
      ]
     },
     "metadata": {},
     "output_type": "display_data"
    }
   ],
   "source": [
    "geoparse_results_sample = geoparse_column(df_virginia_sample)"
   ]
  },
  {
   "cell_type": "code",
   "execution_count": 41,
   "id": "3c84ab6e-2652-479e-aaf3-b3c71dbf36bf",
   "metadata": {
    "scrolled": true
   },
   "outputs": [
    {
     "data": {
      "text/html": [
       "<div>\n",
       "<style scoped>\n",
       "    .dataframe tbody tr th:only-of-type {\n",
       "        vertical-align: middle;\n",
       "    }\n",
       "\n",
       "    .dataframe tbody tr th {\n",
       "        vertical-align: top;\n",
       "    }\n",
       "\n",
       "    .dataframe thead th {\n",
       "        text-align: right;\n",
       "    }\n",
       "</style>\n",
       "<table border=\"1\" class=\"dataframe\">\n",
       "  <thead>\n",
       "    <tr style=\"text-align: right;\">\n",
       "      <th></th>\n",
       "      <th>text_id</th>\n",
       "      <th>title</th>\n",
       "      <th>subjects</th>\n",
       "      <th>last_name</th>\n",
       "      <th>first_name</th>\n",
       "      <th>birth</th>\n",
       "      <th>death</th>\n",
       "      <th>cleaned_sentences</th>\n",
       "      <th>toponyms</th>\n",
       "      <th>nltk_sentiment</th>\n",
       "      <th>roberta_neg</th>\n",
       "      <th>roberta_neu</th>\n",
       "      <th>roberta_pos</th>\n",
       "      <th>place</th>\n",
       "      <th>latitude</th>\n",
       "      <th>longitude</th>\n",
       "      <th>feature_name</th>\n",
       "    </tr>\n",
       "  </thead>\n",
       "  <tbody>\n",
       "    <tr>\n",
       "      <th>24</th>\n",
       "      <td>2674</td>\n",
       "      <td>The Complete Writings of Charles Dudley Warner...</td>\n",
       "      <td>Autobiographies; Virginia -- Description and t...</td>\n",
       "      <td>Warner</td>\n",
       "      <td>Charles Dudley</td>\n",
       "      <td>1829</td>\n",
       "      <td>1900</td>\n",
       "      <td>When supper came, he never went near Cynthia, ...</td>\n",
       "      <td>[Cynthia]</td>\n",
       "      <td>0.4215</td>\n",
       "      <td>0.263413</td>\n",
       "      <td>0.641921</td>\n",
       "      <td>0.094665</td>\n",
       "      <td>[]</td>\n",
       "      <td>[]</td>\n",
       "      <td>[]</td>\n",
       "      <td>[]</td>\n",
       "    </tr>\n",
       "    <tr>\n",
       "      <th>65</th>\n",
       "      <td>2674</td>\n",
       "      <td>The Complete Writings of Charles Dudley Warner...</td>\n",
       "      <td>Autobiographies; Virginia -- Description and t...</td>\n",
       "      <td>Warner</td>\n",
       "      <td>Charles Dudley</td>\n",
       "      <td>1829</td>\n",
       "      <td>1900</td>\n",
       "      <td>Yes,  they'd got a Republican member of Congre...</td>\n",
       "      <td>[he'd]</td>\n",
       "      <td>-0.1280</td>\n",
       "      <td>0.252675</td>\n",
       "      <td>0.648327</td>\n",
       "      <td>0.098998</td>\n",
       "      <td>[]</td>\n",
       "      <td>[]</td>\n",
       "      <td>[]</td>\n",
       "      <td>[]</td>\n",
       "    </tr>\n",
       "    <tr>\n",
       "      <th>113</th>\n",
       "      <td>2674</td>\n",
       "      <td>The Complete Writings of Charles Dudley Warner...</td>\n",
       "      <td>Autobiographies; Virginia -- Description and t...</td>\n",
       "      <td>Warner</td>\n",
       "      <td>Charles Dudley</td>\n",
       "      <td>1829</td>\n",
       "      <td>1900</td>\n",
       "      <td>Grandfather loomed up much more loftily than t...</td>\n",
       "      <td>[South Carolina]</td>\n",
       "      <td>-0.7003</td>\n",
       "      <td>0.021178</td>\n",
       "      <td>0.523528</td>\n",
       "      <td>0.455294</td>\n",
       "      <td>[None, South Carolina]</td>\n",
       "      <td>[None, 34.00043]</td>\n",
       "      <td>[None, -81.00009]</td>\n",
       "      <td>[None, first-order administrative division]</td>\n",
       "    </tr>\n",
       "    <tr>\n",
       "      <th>261</th>\n",
       "      <td>2898</td>\n",
       "      <td>Pioneers of the Old South: A Chronicle of Engl...</td>\n",
       "      <td>Southern States -- History -- Colonial period,...</td>\n",
       "      <td>Johnston</td>\n",
       "      <td>Mary</td>\n",
       "      <td>1870</td>\n",
       "      <td>1936</td>\n",
       "      <td>Ten years' time from this first Virginia voyag...</td>\n",
       "      <td>[Virginia]</td>\n",
       "      <td>-0.2500</td>\n",
       "      <td>0.285936</td>\n",
       "      <td>0.682786</td>\n",
       "      <td>0.031278</td>\n",
       "      <td>[Virginia, Java]</td>\n",
       "      <td>[37.54812, 36.83597]</td>\n",
       "      <td>[-77.44675, -79.2278]</td>\n",
       "      <td>[first-order administrative division, populate...</td>\n",
       "    </tr>\n",
       "    <tr>\n",
       "      <th>188</th>\n",
       "      <td>2674</td>\n",
       "      <td>The Complete Writings of Charles Dudley Warner...</td>\n",
       "      <td>Autobiographies; Virginia -- Description and t...</td>\n",
       "      <td>Warner</td>\n",
       "      <td>Charles Dudley</td>\n",
       "      <td>1829</td>\n",
       "      <td>1900</td>\n",
       "      <td>The stream that originates in Hickory Nut Gap ...</td>\n",
       "      <td>[Rutherford County]</td>\n",
       "      <td>0.0258</td>\n",
       "      <td>0.021638</td>\n",
       "      <td>0.932450</td>\n",
       "      <td>0.045912</td>\n",
       "      <td>[None, East Windsor, Rutherford County, Columb...</td>\n",
       "      <td>[None, 41.91232, 35.8427, 35.61507, 39.46883, ...</td>\n",
       "      <td>[None, -72.54509, -86.41674, -87.03528, -74.63...</td>\n",
       "      <td>[None, populated place, second-order administr...</td>\n",
       "    </tr>\n",
       "  </tbody>\n",
       "</table>\n",
       "</div>"
      ],
      "text/plain": [
       "     text_id                                              title  \\\n",
       "24      2674  The Complete Writings of Charles Dudley Warner...   \n",
       "65      2674  The Complete Writings of Charles Dudley Warner...   \n",
       "113     2674  The Complete Writings of Charles Dudley Warner...   \n",
       "261     2898  Pioneers of the Old South: A Chronicle of Engl...   \n",
       "188     2674  The Complete Writings of Charles Dudley Warner...   \n",
       "\n",
       "                                              subjects last_name  \\\n",
       "24   Autobiographies; Virginia -- Description and t...    Warner   \n",
       "65   Autobiographies; Virginia -- Description and t...    Warner   \n",
       "113  Autobiographies; Virginia -- Description and t...    Warner   \n",
       "261  Southern States -- History -- Colonial period,...  Johnston   \n",
       "188  Autobiographies; Virginia -- Description and t...    Warner   \n",
       "\n",
       "         first_name  birth  death  \\\n",
       "24   Charles Dudley   1829   1900   \n",
       "65   Charles Dudley   1829   1900   \n",
       "113  Charles Dudley   1829   1900   \n",
       "261            Mary   1870   1936   \n",
       "188  Charles Dudley   1829   1900   \n",
       "\n",
       "                                     cleaned_sentences             toponyms  \\\n",
       "24   When supper came, he never went near Cynthia, ...            [Cynthia]   \n",
       "65   Yes,  they'd got a Republican member of Congre...               [he'd]   \n",
       "113  Grandfather loomed up much more loftily than t...     [South Carolina]   \n",
       "261  Ten years' time from this first Virginia voyag...           [Virginia]   \n",
       "188  The stream that originates in Hickory Nut Gap ...  [Rutherford County]   \n",
       "\n",
       "     nltk_sentiment  roberta_neg  roberta_neu  roberta_pos  \\\n",
       "24           0.4215     0.263413     0.641921     0.094665   \n",
       "65          -0.1280     0.252675     0.648327     0.098998   \n",
       "113         -0.7003     0.021178     0.523528     0.455294   \n",
       "261         -0.2500     0.285936     0.682786     0.031278   \n",
       "188          0.0258     0.021638     0.932450     0.045912   \n",
       "\n",
       "                                                 place  \\\n",
       "24                                                  []   \n",
       "65                                                  []   \n",
       "113                             [None, South Carolina]   \n",
       "261                                   [Virginia, Java]   \n",
       "188  [None, East Windsor, Rutherford County, Columb...   \n",
       "\n",
       "                                              latitude  \\\n",
       "24                                                  []   \n",
       "65                                                  []   \n",
       "113                                   [None, 34.00043]   \n",
       "261                               [37.54812, 36.83597]   \n",
       "188  [None, 41.91232, 35.8427, 35.61507, 39.46883, ...   \n",
       "\n",
       "                                             longitude  \\\n",
       "24                                                  []   \n",
       "65                                                  []   \n",
       "113                                  [None, -81.00009]   \n",
       "261                              [-77.44675, -79.2278]   \n",
       "188  [None, -72.54509, -86.41674, -87.03528, -74.63...   \n",
       "\n",
       "                                          feature_name  \n",
       "24                                                  []  \n",
       "65                                                  []  \n",
       "113        [None, first-order administrative division]  \n",
       "261  [first-order administrative division, populate...  \n",
       "188  [None, populated place, second-order administr...  "
      ]
     },
     "execution_count": 41,
     "metadata": {},
     "output_type": "execute_result"
    }
   ],
   "source": [
    "geoparse_results_sample.sample(5, random_state =10)"
   ]
  },
  {
   "cell_type": "markdown",
   "id": "ee49751f-db6e-4b33-b098-168b9b2b7742",
   "metadata": {},
   "source": [
    "Since the is still sorted into individual dictionary entries, we are going to extract it into the columns we need: `place`, `latitude`, `longitude`, and `feature_name`."
   ]
  },
  {
   "cell_type": "markdown",
   "id": "982e802f-76ab-49eb-88dd-ab910b19b5f6",
   "metadata": {},
   "source": [
    "There are several interesting things of note in the data. First, for some of the sentences the tokenizer did not find a toponym which is indicated by empty lists `[]`. This because this is a more accurate tokenizer and will likely have fewer false positives. We will have to remember to remove these. Likewise, right now the parsing has been set to include Administrative areas like countries and states (i.e. The US and Virginia) and population centers (Richmond, Harrisonburg). We will have to think of how to deal with these down the road.\n",
    "\n",
    "**We can run the geoparser for all the data and expect to wait at least an hour!**"
   ]
  },
  {
   "cell_type": "code",
   "execution_count": null,
   "id": "2a547180-0c60-4bf2-b0eb-22e9a2e8b500",
   "metadata": {},
   "outputs": [
    {
     "name": "stdout",
     "output_type": "stream",
     "text": [
      "Toponym Recognition...\n"
     ]
    },
    {
     "data": {
      "application/vnd.jupyter.widget-view+json": {
       "model_id": "28f11bc14ea743b19d4bb2cd57a6d3e0",
       "version_major": 2,
       "version_minor": 0
      },
      "text/plain": [
       "Batches:   0%|          | 0/45972 [00:00<?, ?it/s]"
      ]
     },
     "metadata": {},
     "output_type": "display_data"
    }
   ],
   "source": [
    "# Run the geoparser over the entire 'cleaned_sentences' column\n",
    "geoparse_results = geoparse_column(df_virginia_toponyms_sentiment)"
   ]
  },
  {
   "cell_type": "code",
   "execution_count": null,
   "id": "ac70a802-158f-4988-bf66-9b52aa048451",
   "metadata": {},
   "outputs": [],
   "source": [
    "# Display the updated DataFrame with new columns\n",
    "df_virginia_toponyms_sentiment.head()"
   ]
  },
  {
   "cell_type": "code",
   "execution_count": null,
   "id": "a92e705f-a4cc-4e1b-b4fc-4097c2c25a9c",
   "metadata": {},
   "outputs": [],
   "source": [
    "# Add the results back to the original DataFrame\n",
    "df_virginia_toponyms_sentiment[['place', 'latitude', 'longitude']] = geoparse_results\n",
    "\n",
    "# Display the updated DataFrame with new columns\n",
    "df_virginia_toponyms_sentiment.head()"
   ]
  },
  {
   "cell_type": "code",
   "execution_count": null,
   "id": "dca69a7e-18f7-4543-8721-87454a0bf5a3",
   "metadata": {},
   "outputs": [],
   "source": [
    "df_virginia_toponyms_sentiment.to_pickle('df_virginia_toponyms_all.pickle')"
   ]
  },
  {
   "cell_type": "code",
   "execution_count": null,
   "id": "371f1ba0-0275-47c4-a7e4-9c9711db6a80",
   "metadata": {},
   "outputs": [],
   "source": [
    "df_virginia_all = pd.read_pickle('df_virginia_toponyms_all.pickle')"
   ]
  },
  {
   "cell_type": "code",
   "execution_count": null,
   "id": "c45b2b58-2970-4f91-b818-1ee51c1b0a2f",
   "metadata": {},
   "outputs": [],
   "source": [
    "df_virginia_all.sample(10)"
   ]
  },
  {
   "cell_type": "code",
   "execution_count": null,
   "id": "e54452e2-13f0-4e7c-83b5-6f1270850f03",
   "metadata": {},
   "outputs": [],
   "source": [
    "empty_percent = (df_virginia_toponyms_sentiment['place'].str.len() == 0).mean() * 100\n",
    "empty_percent"
   ]
  },
  {
   "cell_type": "code",
   "execution_count": null,
   "id": "101cc676-a39a-4e94-a153-2ba22f547683",
   "metadata": {},
   "outputs": [],
   "source": [
    "df_virginia_cleaned = df_virginia_all[df_virginia_toponyms_sentiment['place'].str.len() != 0].copy()"
   ]
  },
  {
   "cell_type": "code",
   "execution_count": null,
   "id": "3afc6fc0-c774-4d08-9674-bbb701d59569",
   "metadata": {},
   "outputs": [],
   "source": [
    "df_virginia_cleaned[['cleaned_sentences','place']].sample(5, random_state= 15)"
   ]
  },
  {
   "cell_type": "code",
   "execution_count": null,
   "id": "d168914f-b978-4efa-ac4a-5801a6fa7da0",
   "metadata": {},
   "outputs": [],
   "source": [
    "df_virginia_long = df_virginia_cleaned.explode(['place', 'latitude', 'longitude', 'location'])"
   ]
  },
  {
   "cell_type": "code",
   "execution_count": null,
   "id": "591cb86d-14a9-42d5-9833-b2557f847794",
   "metadata": {},
   "outputs": [],
   "source": [
    "df_virginia_long"
   ]
  },
  {
   "cell_type": "code",
   "execution_count": null,
   "id": "0af91934-4d13-4ebf-9477-276b74998e58",
   "metadata": {},
   "outputs": [],
   "source": [
    "df_virginia_long = df_virginia_long.reset_index(drop=True)"
   ]
  },
  {
   "cell_type": "code",
   "execution_count": null,
   "id": "834edbd9-d434-4bf1-b873-c085a5ca35a7",
   "metadata": {},
   "outputs": [],
   "source": [
    "df_virginia_long.sample()"
   ]
  },
  {
   "cell_type": "code",
   "execution_count": null,
   "id": "f0aba21e-72d2-4210-8916-bef38892106b",
   "metadata": {},
   "outputs": [],
   "source": [
    "df_virginia_long.to_pickle('df_virginia_long.pickle')"
   ]
  },
  {
   "cell_type": "code",
   "execution_count": null,
   "id": "671432fe-c9df-4fd6-8d97-57801b837f0f",
   "metadata": {},
   "outputs": [],
   "source": [
    "df_geolocations_sentiments = df_virginia_long.groupby('place').agg(\n",
    "    location_count=('place', 'size'),  # Count occurrences of each location\n",
    "    latitude=('latitude', 'first'),    # Take the first latitude (you can also use 'mean')\n",
    "    longitude=('longitude', 'first'),  # Take the first longitude (or 'mean')\n",
    "    location=('location','first'),\n",
    "    avg_roberta_pos=('roberta_pos', 'mean'),  # Average of roberta_pos\n",
    "    avg_roberta_neu=('roberta_neu', 'mean'),  # Average of roberta_neu\n",
    "    avg_roberta_neg=('roberta_neg', 'mean')   # Average of roberta_neg\n",
    ").reset_index()\n",
    "\n"
   ]
  },
  {
   "cell_type": "code",
   "execution_count": null,
   "id": "c6b4cf27-b21f-43a7-bb33-36ee8810bb97",
   "metadata": {},
   "outputs": [],
   "source": [
    "df_geolocations_sentiments.sample(10)"
   ]
  },
  {
   "cell_type": "code",
   "execution_count": null,
   "id": "19a0606b-8cdd-4453-9a48-3441dfe86e24",
   "metadata": {},
   "outputs": [],
   "source": [
    "df_geolocations_sentiments.sort_values(by='location_count', ascending=False).head(10)"
   ]
  },
  {
   "cell_type": "code",
   "execution_count": null,
   "id": "7b4e44f8-542d-4b7b-b290-97fa6b0bc1b3",
   "metadata": {},
   "outputs": [],
   "source": [
    "# Compute a single sentiment score by subtracting avg_roberta_neg from avg_roberta_pos\n",
    "df_geolocations_sentiments['sentiment_score'] = df_geolocations_sentiments['avg_roberta_pos'] - df_geolocations_sentiments['avg_roberta_neg']\n",
    "# Set the display option to show all rows"
   ]
  },
  {
   "cell_type": "code",
   "execution_count": null,
   "id": "7ef23f04-0cbd-47f7-a00d-d4afa53d7833",
   "metadata": {},
   "outputs": [],
   "source": [
    "# Set the display option to show all rows\n",
    "pd.set_option('display.max_columns', None)\n",
    "\n",
    "# Display all rows where 'place' is 'Virginia'\n",
    "df_geolocations_sentiments.location[df_geolocations_sentiments.place == 'Virginia']"
   ]
  },
  {
   "cell_type": "code",
   "execution_count": null,
   "id": "74176ec5-4dfe-486a-a489-59201cbcac5b",
   "metadata": {},
   "outputs": [],
   "source": [
    "# Filter the 'location' data for rows where 'place' is 'Virginia'\n",
    "locations_virginia = df_geolocations_sentiments.location[df_geolocations_sentiments.place == 'Virginia']\n",
    "\n",
    "# Iterate over the filtered locations and print each key-value pair in the dictionary\n",
    "for loc in locations_virginia:\n",
    "    if isinstance(loc, dict):\n",
    "        print(\"Location details:\")\n",
    "        for key, value in loc.items():\n",
    "            print(f\"{key}: {value}\")\n",
    "        print(\"\\n\" + \"-\"*40 + \"\\n\")  # Separator for each dictionary\n",
    "    else:\n",
    "        print(\"No valid location data found.\")\n",
    "b"
   ]
  },
  {
   "cell_type": "code",
   "execution_count": null,
   "id": "e8aeedee-5e45-4d85-834f-f97ca6808313",
   "metadata": {},
   "outputs": [],
   "source": [
    "# Filter the 'location' data for rows where 'place' is 'Richmond'\n",
    "locations_richmond = df_geolocations_sentiments.location[df_geolocations_sentiments.place == 'Richmond']\n",
    "\n",
    "# Iterate over the filtered locations and print each key-value pair in the dictionary\n",
    "for loc in locations_richmond:\n",
    "    if isinstance(loc, dict):\n",
    "        print(\"Location details:\")\n",
    "        for key, value in loc.items():\n",
    "            print(f\"{key}: {value}\")\n",
    "        print(\"\\n\" + \"-\"*40 + \"\\n\")  # Separator for each dictionary\n",
    "    else:\n",
    "        print(\"No valid location data found.\")\n"
   ]
  },
  {
   "cell_type": "code",
   "execution_count": null,
   "id": "0726f5fb-e57b-4ee3-8503-e2b4dac20208",
   "metadata": {},
   "outputs": [],
   "source": [
    "# Extract 'feature_name' from the 'location' dictionary and create a new column\n",
    "df_geolocations_sentiments['feature_name'] = df_geolocations_sentiments['location'].apply(lambda x: x.get('feature_name') if isinstance(x, dict) else None)\n",
    "\n",
    "# Display the first few rows to verify the new column\n",
    "df_geolocations_sentiments.feature_name.unique()\n"
   ]
  },
  {
   "cell_type": "code",
   "execution_count": null,
   "id": "3bf42836-2e28-48cc-b384-9ee7f463b404",
   "metadata": {},
   "outputs": [],
   "source": [
    "import plotly.express as px\n",
    "\n",
    "# Create the map using plotly.express, similar to your example\n",
    "fig = px.scatter_mapbox(\n",
    "    df_geolocations_sentiments,\n",
    "    lat=\"latitude\",               # Latitude column\n",
    "    lon=\"longitude\",              # Longitude column\n",
    "    size=\"location_count\",        # Bubble size based on location count\n",
    "    color=\"sentiment_score\",      # Color based on sentiment score\n",
    "    color_continuous_scale=px.colors.cyclical.IceFire,  # Use IceFire scale (blue to red)\n",
    "    size_max=15,                  # Maximum size of the bubbles\n",
    "    zoom=5                        # Adjust zoom level for better visibility\n",
    ")\n",
    "\n",
    "# Update the layout to use the default map style (which doesn't need a token)\n",
    "fig.update_layout(\n",
    "    mapbox_style=\"stamen-toner\",  # No token needed for this style\n",
    "    margin={\"r\":0,\"t\":0,\"l\":0,\"b\":0}  # Remove margins for a cleaner view\n",
    ")"
   ]
  },
  {
   "cell_type": "code",
   "execution_count": null,
   "id": "5a2ef1e7-4b21-49bb-95f5-49b6a06ab9cd",
   "metadata": {
    "scrolled": true
   },
   "outputs": [],
   "source": [
    "import plotly.express as px\n",
    "\n",
    "# Create the map using plotly.express\n",
    "fig = px.scatter_mapbox(\n",
    "    df_geolocations_sentiments,     # DataFrame with latitude, longitude, etc.\n",
    "    lat=\"latitude\",                # Latitude column\n",
    "    lon=\"longitude\",               # Longitude column\n",
    "    size=\"location_count\",         # Bubble size based on location count\n",
    "    color=\"sentiment_score\",       # Color based on sentiment score\n",
    "     hover_name=\"place\",            # Display place name on hover\n",
    "    hover_data={\"location_count\": True, \"sentiment_score\": True},  # Show count and sentiment score\n",
    "    color_continuous_scale=px.colors.cyclical.IceFire,  # Use IceFire scale (blue to red)\n",
    "    \n",
    "    size_max=50,                   # Maximum size of the bubbles\n",
    "    zoom=8                         # Adjust zoom level for closer view\n",
    ")\n",
    "\n",
    "# Update the layout to use the 'stamen-terrain' map style and center on Richmond, VA\n",
    "fig.update_layout(\n",
    "    mapbox_style=\"carto-positron\",  # Stamen terrain map style\n",
    "    mapbox_center={\"lat\": 37.5407, \"lon\": -77.4360},  # Center map on Richmond, Virginia\n",
    "    margin={\"r\":0,\"t\":0,\"l\":0,\"b\":0},  # Remove margins for a cleaner view\n",
    "    mapbox_zoom=8  # Initial zoom level (adjust to your preference)\n",
    ")\n",
    "\n",
    "# Display the map\n",
    "fig.show()\n"
   ]
  },
  {
   "cell_type": "code",
   "execution_count": null,
   "id": "714c8616-0a9e-4045-96c5-26e8b515fdad",
   "metadata": {},
   "outputs": [],
   "source": [
    "import plotly.express as px\n",
    "import numpy as np\n",
    "\n",
    "# Define a function to scale location_count to a specific range with a minimum size\n",
    "def scale_bubble_size(counts, min_size=5, max_size=50):\n",
    "    # Scale the location_count to be within min_size and max_size\n",
    "    scaled_size = np.interp(counts, (counts.min(), counts.max()), (min_size, max_size))\n",
    "    return scaled_size\n",
    "\n",
    "# Scale the location_count column to enforce a minimum size of 5\n",
    "df_geolocations_sentiments['scaled_size'] = scale_bubble_size(df_geolocations_sentiments['location_count'], min_size=5, max_size=15)\n",
    "\n",
    "# Create the map using plotly.express\n",
    "fig = px.scatter_mapbox(\n",
    "    df_geolocations_sentiments,     # DataFrame with latitude, longitude, etc.\n",
    "    lat=\"latitude\",                # Latitude column\n",
    "    lon=\"longitude\",               # Longitude column\n",
    "    size=\"scaled_size\",            # Use the scaled bubble size\n",
    "    color=\"sentiment_score\",       # Color based on sentiment score\n",
    "    color_continuous_scale=px.colors.cyclical.IceFire,  # Use IceFire scale (blue to red)\n",
    "    zoom=8,                        # Adjust zoom level for closer view\n",
    "    hover_name=\"place\",            # Display place name on hover\n",
    "    hover_data={\"location_count\": True, \"sentiment_score\": True}  # Show count and sentiment score\n",
    ")\n",
    "\n",
    "# Update the layout to use the 'carto-positron' map style and center on Richmond, VA\n",
    "fig.update_layout(\n",
    "    mapbox_style=\"carto-positron\",  # Black and white light theme\n",
    "    mapbox_center={\"lat\": 37.5407, \"lon\": -77.4360},  # Center map on Richmond, Virginia\n",
    "    margin={\"r\":0,\"t\":0,\"l\":0,\"b\":0},  # Remove margins for a cleaner view\n",
    "    mapbox_zoom=8  # Initial zoom level (adjust to your preference)\n",
    ")\n",
    "\n",
    "# Display the map\n",
    "fig.show()\n"
   ]
  },
  {
   "cell_type": "code",
   "execution_count": null,
   "id": "a5f90dd8-2498-4a8d-961d-e48006a424ed",
   "metadata": {},
   "outputs": [],
   "source": [
    "# Display the map\n",
    "import plotly.express as px\n",
    "import numpy as np\n",
    "\n",
    "# Filter out locations with fewer than 50 counts\n",
    "df_filtered = df_geolocations_sentiments[df_geolocations_sentiments['location_count'] >= 50]\n",
    "\n",
    "# Define a function to scale location_count to a specific range with a minimum size\n",
    "def scale_bubble_size(counts, min_size=5, max_size=15):\n",
    "    # Scale the location_count to be within min_size and max_size\n",
    "    scaled_size = np.interp(counts, (counts.min(), counts.max()), (min_size, max_size))\n",
    "    return scaled_size\n",
    "\n",
    "# Scale the location_count column to enforce a minimum size of 5\n",
    "df_filtered['scaled_size'] = scale_bubble_size(df_filtered['location_count'], min_size=5, max_size=15)\n",
    "\n",
    "# Create the map using plotly.express\n",
    "fig = px.scatter_mapbox(\n",
    "    df_filtered,                  # Filtered DataFrame with latitude, longitude, etc.\n",
    "    lat=\"latitude\",               # Latitude column\n",
    "    lon=\"longitude\",              # Longitude column\n",
    "    size=\"scaled_size\",           # Use the scaled bubble size\n",
    "    color=\"sentiment_score\",      # Color based on sentiment score\n",
    "    color_continuous_scale=px.colors.cyclical.IceFire,  # Use IceFire scale (blue to red)\n",
    "    zoom=8,                       # Adjust zoom level for closer view\n",
    "    hover_name=\"place\",           # Display place name on hover\n",
    "    hover_data={\"location_count\": True, \"sentiment_score\": True}  # Show count and sentiment score\n",
    ")\n",
    "\n",
    "# Update the layout to use the 'carto-positron' map style and center on Richmond, VA\n",
    "fig.update_layout(\n",
    "    mapbox_style=\"carto-positron\",  # Black and white light theme\n",
    "    mapbox_center={\"lat\": 37.5407, \"lon\": -77.4360},  # Center map on Richmond, Virginia\n",
    "    margin={\"r\":0,\"t\":0,\"l\":0,\"b\":0},  # Remove margins for a cleaner view\n",
    "    mapbox_zoom=8  # Initial zoom level (adjust to your preference)\n",
    ")\n",
    "\n",
    "# Display the map\n",
    "fig.show()\n"
   ]
  },
  {
   "cell_type": "code",
   "execution_count": null,
   "id": "895b97e8-4d53-4c8c-aa13-634cd7ba64ce",
   "metadata": {},
   "outputs": [],
   "source": []
  }
 ],
 "metadata": {
  "kernelspec": {
   "display_name": "Python 3 (ipykernel)",
   "language": "python",
   "name": "python3"
  },
  "language_info": {
   "codemirror_mode": {
    "name": "ipython",
    "version": 3
   },
   "file_extension": ".py",
   "mimetype": "text/x-python",
   "name": "python",
   "nbconvert_exporter": "python",
   "pygments_lexer": "ipython3",
   "version": "3.12.3"
  }
 },
 "nbformat": 4,
 "nbformat_minor": 5
}
