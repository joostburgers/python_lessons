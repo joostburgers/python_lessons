{
 "cells": [
  {
   "cell_type": "markdown",
   "id": "a999d42f",
   "metadata": {},
   "source": [
    "# Lesson 5.0: Complete Installation and Setup Guide\n",
    "## Geoparsing and Sentiment Mapping in Python\n",
    "\n",
    "This notebook will install all required packages and verify that everything works correctly before starting the main lesson."
   ]
  },
  {
   "cell_type": "markdown",
   "id": "1d687bb6",
   "metadata": {},
   "source": [
    "## Step 1: Install Required Packages\n",
    "\n",
    "**⚠️ Important:** Run this cell first and wait for it to complete. This may take 5-10 minutes."
   ]
  },
  {
   "cell_type": "code",
   "execution_count": null,
   "id": "42298866",
   "metadata": {},
   "outputs": [],
   "source": [
    "# Install all required packages\n",
    "import subprocess\n",
    "import sys\n",
    "\n",
    "packages = [\n",
    "    'geoparser',\n",
    "    'tqdm',\n",
    "    'pandas', \n",
    "    'plotly',\n",
    "    'mapclassify',\n",
    "    'transformers',\n",
    "    'torch',\n",
    "    'spacy'\n",
    "]\n",
    "\n",
    "print(\"Installing required packages...\")\n",
    "for package in packages:\n",
    "    print(f\"Installing {package}...\")\n",
    "    subprocess.check_call([sys.executable, \"-m\", \"pip\", \"install\", package])\n",
    "    \n",
    "print(\"\\n✅ All packages installed successfully!\")"
   ]
  },
  {
   "cell_type": "markdown",
   "id": "bb58be1f",
   "metadata": {},
   "source": [
    "## Step 2: Download spaCy Language Model\n",
    "\n",
    "The geoparser requires a specific spaCy language model for accurate text processing."
   ]
  },
  {
   "cell_type": "code",
   "execution_count": null,
   "id": "0abeb525",
   "metadata": {},
   "outputs": [],
   "source": [
    "# Download the required spaCy model\n",
    "print(\"Downloading spaCy language model...\")\n",
    "subprocess.check_call([sys.executable, \"-m\", \"spacy\", \"download\", \"en_core_web_trf\"])\n",
    "print(\"\\n✅ spaCy model downloaded successfully!\")"
   ]
  },
  {
   "cell_type": "markdown",
   "id": "769faddd",
   "metadata": {},
   "source": [
    "## Step 3: Verify Installation\n",
    "\n",
    "Let's test that all components are working correctly."
   ]
  },
  {
   "cell_type": "code",
   "execution_count": null,
   "id": "c05d6019",
   "metadata": {},
   "outputs": [],
   "source": [
    "# Test imports\n",
    "try:\n",
    "    from geoparser import Geoparser\n",
    "    from tqdm.notebook import tqdm\n",
    "    import pandas as pd\n",
    "    import plotly.express as px\n",
    "    import mapclassify as mc\n",
    "    import warnings\n",
    "    warnings.simplefilter(action='ignore', category=FutureWarning)\n",
    "    \n",
    "    print(\"✅ All imports successful!\")\n",
    "    \n",
    "except ImportError as e:\n",
    "    print(f\"❌ Import error: {e}\")\n",
    "    print(\"Please re-run the installation cells above.\")"
   ]
  },
  {
   "cell_type": "code",
   "execution_count": null,
   "id": "a8a7646a",
   "metadata": {},
   "outputs": [],
   "source": [
    "# Test geoparser initialization\n",
    "try:\n",
    "    print(\"Initializing geoparser... (this may take a minute)\")\n",
    "    geo = Geoparser(spacy_model='en_core_web_trf', \n",
    "                   transformer_model='dguzh/geo-all-distilroberta-v1', \n",
    "                   gazetteer='geonames')\n",
    "    \n",
    "    # Quick test\n",
    "    test_docs = geo.parse([\"New York is a great city.\"])\n",
    "    \n",
    "    print(\"✅ Geoparser working correctly!\")\n",
    "    print(f\"Test result: Found {len(test_docs[0].toponyms)} location(s)\")\n",
    "    \n",
    "except Exception as e:\n",
    "    print(f\"❌ Geoparser error: {e}\")\n",
    "    print(\"There may be an issue with the model downloads.\")"
   ]
  },
  {
   "cell_type": "markdown",
   "id": "315d4334",
   "metadata": {},
   "source": [
    "## Step 4: Check Data Files\n",
    "\n",
    "Verify that the required data files from previous lessons are available."
   ]
  },
  {
   "cell_type": "code",
   "execution_count": null,
   "id": "4971864f",
   "metadata": {},
   "outputs": [],
   "source": [
    "import os\n",
    "\n",
    "# Check for required data files\n",
    "required_files = [\n",
    "    'df_virginia_toponym_sentiment_full.pickle',\n",
    "    'df_virginia_geoparsed_complete.pickle',\n",
    "    'df_geolocations_sentiments.pickle',\n",
    "    'df_geolocations_sentiments_small.pickle'\n",
    "]\n",
    "\n",
    "print(\"Checking for required data files:\")\n",
    "missing_files = []\n",
    "\n",
    "for file in required_files:\n",
    "    if os.path.exists(file):\n",
    "        print(f\"✅ {file} - Found\")\n",
    "    else:\n",
    "        print(f\"❌ {file} - Missing\")\n",
    "        missing_files.append(file)\n",
    "\n",
    "if missing_files:\n",
    "    print(f\"\\n⚠️ Warning: {len(missing_files)} data file(s) missing.\")\n",
    "    print(\"Some parts of the lesson will require running previous lessons first.\")\n",
    "else:\n",
    "    print(\"\\n✅ All data files found!\")"
   ]
  },
  {
   "cell_type": "markdown",
   "id": "b2e1f8e7",
   "metadata": {},
   "source": [
    "## Step 5: Installation Complete!\n",
    "\n",
    "🎉 **Congratulations!** Your environment is now set up for the geoparsing lesson.\n",
    "\n",
    "### What we installed:\n",
    "- **geoparser**: For extracting and resolving geographic locations from text\n",
    "- **spaCy + en_core_web_trf**: Advanced language processing model\n",
    "- **plotly**: Interactive mapping and visualization\n",
    "- **mapclassify**: For intelligent data bucketing\n",
    "- **pandas, tqdm**: Data manipulation and progress bars\n",
    "\n",
    "### Next Steps:\n",
    "1. Close this notebook\n",
    "2. Open `lesson_5_geoparsing_mapping.ipynb`\n",
    "3. Follow the streamlined lesson!\n",
    "\n",
    "### Troubleshooting:\n",
    "If you encounter any issues:\n",
    "1. Restart your kernel (Kernel → Restart)\n",
    "2. Re-run this notebook from the beginning\n",
    "3. Make sure you have sufficient disk space (models require ~2GB)\n",
    "4. Check your internet connection for model downloads"
   ]
  }
 ],
 "metadata": {
  "language_info": {
   "name": "python"
  }
 },
 "nbformat": 4,
 "nbformat_minor": 5
}
