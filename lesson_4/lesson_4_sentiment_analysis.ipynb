{
 "cells": [
  {
   "cell_type": "markdown",
   "id": "c62347c9-2b6e-400e-9e7f-097aee0784fa",
   "metadata": {},
   "source": [
    "# Lesson 4: Sentiment Analysis on Toponym Sentences\n",
    "\n",
    "## Overview\n",
    "\n",
    "This lesson will cover two sentiment analysis methods:\n",
    "- Using the **NLTK** library's VADER sentiment analysis tool.\n",
    "- Using **Hugging Face's RoBERTa** model for sentiment analysis.\n",
    "\n",
    "We will compare how these two tools perform on sentences containing toponyms extracted from the `virginia_toponyms_pickle` file, and we will store the results in a **Pandas DataFrame** for further analysis. The key goal is to understand how different tools analyze sentiment, identify their limitations, and explore why their outputs might differ.\n",
    "\n",
    "---"
   ]
  },
  {
   "cell_type": "markdown",
   "id": "5926d4f5-6b52-4ecc-9405-3266bc99d330",
   "metadata": {},
   "source": [
    "## 1. Loading the Dataset\n",
    "\n",
    "We will begin by loading the data containing the sentences with toponyms into a dataframe."
   ]
  },
  {
   "cell_type": "code",
   "execution_count": 4,
   "id": "5bd49fbd-ea3d-437d-8da9-b4ff0d4b1925",
   "metadata": {},
   "outputs": [],
   "source": [
    "import pandas as pd"
   ]
  },
  {
   "cell_type": "code",
   "execution_count": 5,
   "id": "0058505d-aeb6-4e17-be32-feace41783b4",
   "metadata": {},
   "outputs": [],
   "source": [
    "df_virginia_toponyms = pd.read_pickle('df_virginia_toponyms.pickle')"
   ]
  },
  {
   "cell_type": "markdown",
   "id": "5bfa73f9-be61-4923-b7bf-5d98d0244bb6",
   "metadata": {},
   "source": [
    "### 1.1 More clean up...yes that's most of the work!\n",
    "\n",
    "In the previous lesson, we discovered that toponyms for UPPER CASE sentences were mostly garbage. Let's drop those to reduce processing overhead."
   ]
  },
  {
   "cell_type": "code",
   "execution_count": 7,
   "id": "70506553-4947-4e26-b35e-e5f37ed16403",
   "metadata": {},
   "outputs": [],
   "source": [
    "df_virginia_toponyms = df_virginia_toponyms[~df_virginia_toponyms.cleaned_sentences.str.isupper()]"
   ]
  },
  {
   "cell_type": "markdown",
   "id": "358a2475-7842-4485-83d5-ab315947360b",
   "metadata": {},
   "source": [
    "#### 1.1.1 Reset the index\n",
    "\n",
    "Since we extracted all of the sentences, the index (left most columns) got messed up. This wasn't an issue for the toponyms, but will cause problems for the sentiment analysis."
   ]
  },
  {
   "cell_type": "code",
   "execution_count": 9,
   "id": "84a6641c-61a0-4fdd-8bfa-5ee8ea9876d3",
   "metadata": {},
   "outputs": [],
   "source": [
    "df_virginia_toponyms =df_virginia_toponyms.reset_index(drop=True)"
   ]
  },
  {
   "cell_type": "markdown",
   "id": "015858a6-2f24-45d3-9e45-f7bc5dd61fb8",
   "metadata": {},
   "source": [
    "#### 1.1.2 Drop Unnecessary Columns\n",
    "\n",
    "As the dataframe keeps getting wider and wider, we'll want to drop some unnecessary columns just so the view is manageable."
   ]
  },
  {
   "cell_type": "code",
   "execution_count": 11,
   "id": "976d4d89-ce5f-4e3a-a929-da10887f8e4e",
   "metadata": {},
   "outputs": [
    {
     "data": {
      "text/html": [
       "<div>\n",
       "<style scoped>\n",
       "    .dataframe tbody tr th:only-of-type {\n",
       "        vertical-align: middle;\n",
       "    }\n",
       "\n",
       "    .dataframe tbody tr th {\n",
       "        vertical-align: top;\n",
       "    }\n",
       "\n",
       "    .dataframe thead th {\n",
       "        text-align: right;\n",
       "    }\n",
       "</style>\n",
       "<table border=\"1\" class=\"dataframe\">\n",
       "  <thead>\n",
       "    <tr style=\"text-align: right;\">\n",
       "      <th></th>\n",
       "      <th>text_id</th>\n",
       "      <th>title</th>\n",
       "      <th>subjects</th>\n",
       "      <th>last_name</th>\n",
       "      <th>first_name</th>\n",
       "      <th>birth</th>\n",
       "      <th>death</th>\n",
       "      <th>cleaned_sentences</th>\n",
       "      <th>toponyms</th>\n",
       "    </tr>\n",
       "  </thead>\n",
       "  <tbody>\n",
       "    <tr>\n",
       "      <th>6418</th>\n",
       "      <td>28555</td>\n",
       "      <td>The Virginia Company Of London, 1606-1624</td>\n",
       "      <td>Virginia -- History -- Colonial period, ca. 16...</td>\n",
       "      <td>Craven</td>\n",
       "      <td>Wesley Frank</td>\n",
       "      <td>1905</td>\n",
       "      <td>1981</td>\n",
       "      <td>It is not easy for the modern American to read...</td>\n",
       "      <td>[Virginia]</td>\n",
       "    </tr>\n",
       "    <tr>\n",
       "      <th>24253</th>\n",
       "      <td>40044</td>\n",
       "      <td>Journal and Letters of Philip Vickers Fithian:...</td>\n",
       "      <td>Virginia -- Social life and customs -- To 1775...</td>\n",
       "      <td>Fithian</td>\n",
       "      <td>Philip Vickers</td>\n",
       "      <td>1747</td>\n",
       "      <td>1776</td>\n",
       "      <td>The sounds very much resemble the human  voice...</td>\n",
       "      <td>[Organ]</td>\n",
       "    </tr>\n",
       "    <tr>\n",
       "      <th>30844</th>\n",
       "      <td>45233</td>\n",
       "      <td>History of the Twelfth West Virginia Volunteer...</td>\n",
       "      <td>United States -- History -- Civil War, 1861-18...</td>\n",
       "      <td>Hewitt</td>\n",
       "      <td>William</td>\n",
       "      <td>&lt;NA&gt;</td>\n",
       "      <td>&lt;NA&gt;</td>\n",
       "      <td>But it was here that the Twelfth won its eagle...</td>\n",
       "      <td>[Twelfth]</td>\n",
       "    </tr>\n",
       "  </tbody>\n",
       "</table>\n",
       "</div>"
      ],
      "text/plain": [
       "       text_id                                              title  \\\n",
       "6418     28555          The Virginia Company Of London, 1606-1624   \n",
       "24253    40044  Journal and Letters of Philip Vickers Fithian:...   \n",
       "30844    45233  History of the Twelfth West Virginia Volunteer...   \n",
       "\n",
       "                                                subjects last_name  \\\n",
       "6418   Virginia -- History -- Colonial period, ca. 16...    Craven   \n",
       "24253  Virginia -- Social life and customs -- To 1775...   Fithian   \n",
       "30844  United States -- History -- Civil War, 1861-18...    Hewitt   \n",
       "\n",
       "           first_name  birth  death  \\\n",
       "6418     Wesley Frank   1905   1981   \n",
       "24253  Philip Vickers   1747   1776   \n",
       "30844         William   <NA>   <NA>   \n",
       "\n",
       "                                       cleaned_sentences    toponyms  \n",
       "6418   It is not easy for the modern American to read...  [Virginia]  \n",
       "24253  The sounds very much resemble the human  voice...     [Organ]  \n",
       "30844  But it was here that the Twelfth won its eagle...   [Twelfth]  "
      ]
     },
     "execution_count": 11,
     "metadata": {},
     "output_type": "execute_result"
    }
   ],
   "source": [
    "df_virginia_toponyms_compact = df_virginia_toponyms.drop(columns=['language', 'issued', 'type', 'locc', 'bookshelves', 'second_author']).copy()\n",
    "df_virginia_toponyms_compact.sample(3)"
   ]
  },
  {
   "cell_type": "markdown",
   "id": "c8309329-c761-4cc3-8b64-0dd40341239d",
   "metadata": {},
   "source": [
    "#### 1.1.3 Set Panda width to max\n",
    "\n",
    "Some of the sentences are quite long and to see them all on the screen we will need to change the width of the columns to max.\n",
    "\n",
    "```python\n",
    "pd.set_option('display.max_colwidth', None)\n",
    "```\n",
    "When we are done we can set this back to a more reasonable number by replacing `None` with an integer.\n",
    "\n",
    "```python\n",
    "pd.set_option('display.max_colwidth', 100)\n",
    "```\n"
   ]
  },
  {
   "cell_type": "code",
   "execution_count": 13,
   "id": "cd82be0d-14fc-4853-b74c-9d895ee9151c",
   "metadata": {},
   "outputs": [],
   "source": [
    "pd.set_option('display.max_colwidth', None)"
   ]
  },
  {
   "cell_type": "markdown",
   "id": "5f3b44da-13fe-4a65-adb2-db633029f4b2",
   "metadata": {},
   "source": [
    "## 2. Sentiment Analysis with NLTK (VADER)\n",
    "\n",
    "### 2.1 Overview\n",
    "VADER (Valence Aware Dictionary and sEntiment Reasoner) is a rule-based sentiment analysis tool that is specifically attuned to sentiments expressed in social media. It was largely trained on twitter, and really only looks at sentiment-per-word. This makes it relatively speedy, but there are some issues with this.\n",
    "\n"
   ]
  },
  {
   "cell_type": "markdown",
   "id": "077901fe-4cb8-4d57-afce-d2ba68dafa25",
   "metadata": {},
   "source": [
    "### 2.2 Loading VADER"
   ]
  },
  {
   "cell_type": "code",
   "execution_count": 16,
   "id": "9d71ddcf-1fda-47af-9deb-b3e7ecdf3272",
   "metadata": {},
   "outputs": [],
   "source": [
    "import nltk\n",
    "from nltk.sentiment import SentimentIntensityAnalyzer"
   ]
  },
  {
   "cell_type": "markdown",
   "id": "ecd788e9-98cd-4541-b7c3-c92d8ae13228",
   "metadata": {},
   "source": [
    "You will only need to download the lexicon once."
   ]
  },
  {
   "cell_type": "code",
   "execution_count": 18,
   "id": "4b1fdd31-dbd4-492f-a43f-cf5c34762474",
   "metadata": {},
   "outputs": [
    {
     "name": "stderr",
     "output_type": "stream",
     "text": [
      "[nltk_data] Downloading package vader_lexicon to\n",
      "[nltk_data]     C:\\Users\\joost\\AppData\\Roaming\\nltk_data...\n",
      "[nltk_data]   Package vader_lexicon is already up-to-date!\n"
     ]
    },
    {
     "data": {
      "text/plain": [
       "True"
      ]
     },
     "execution_count": 18,
     "metadata": {},
     "output_type": "execute_result"
    }
   ],
   "source": [
    "#Download the 'vader_lexicon'\n",
    "nltk.download('vader_lexicon')"
   ]
  },
  {
   "cell_type": "code",
   "execution_count": 19,
   "id": "33b69344-fabb-4b55-95da-94eb47fe3804",
   "metadata": {},
   "outputs": [],
   "source": [
    "# Initialize the VADER sentiment analyzer\n",
    "sia = SentimentIntensityAnalyzer()"
   ]
  },
  {
   "cell_type": "markdown",
   "id": "7c100465-3f73-4ead-89bd-d93b97d961e8",
   "metadata": {},
   "source": [
    "### 2.3 Using `sia.polarity_scores()`\n",
    "\n",
    "The sentiment analyzer works by applying the VADER model to any text passed into the function `sia.polarity_scores()`. It will then generate a list of scores for that particular phrase."
   ]
  },
  {
   "cell_type": "markdown",
   "id": "0e8bfba7-a673-47bb-9552-f5a20e987090",
   "metadata": {},
   "source": [
    "#### 2.3.1 Good Vibes!"
   ]
  },
  {
   "cell_type": "code",
   "execution_count": 22,
   "id": "373830d9-d816-4845-9cc6-4e4d2bd40302",
   "metadata": {},
   "outputs": [
    {
     "data": {
      "text/plain": [
       "{'neg': 0.0, 'neu': 0.471, 'pos': 0.529, 'compound': 0.6696}"
      ]
     },
     "execution_count": 22,
     "metadata": {},
     "output_type": "execute_result"
    }
   ],
   "source": [
    "sia.polarity_scores('JMU is the best university!')"
   ]
  },
  {
   "cell_type": "markdown",
   "id": "dbb4f244-53b6-4d80-b2d5-87175b80f548",
   "metadata": {},
   "source": [
    "#### 2.3.2 Bad Vibes!"
   ]
  },
  {
   "cell_type": "code",
   "execution_count": 24,
   "id": "980ce729-96cd-4ba1-8740-fbfa3415d6df",
   "metadata": {},
   "outputs": [
    {
     "data": {
      "text/plain": [
       "{'neg': 0.423, 'neu': 0.577, 'pos': 0.0, 'compound': -0.5661}"
      ]
     },
     "execution_count": 24,
     "metadata": {},
     "output_type": "execute_result"
    }
   ],
   "source": [
    "sia.polarity_scores('UVA is not the best university!')"
   ]
  },
  {
   "cell_type": "markdown",
   "id": "4ba6934e-ec42-43e3-8527-9115d64bd1c2",
   "metadata": {},
   "source": [
    "### 2.4 Critical Thinking Challenge\n",
    "\n",
    "For the next activity, you are going to try to push the limits of the tokenizer. For each challenge, think of a sentence that will get the scores you want, even if those scores don't make sense.\n"
   ]
  },
  {
   "cell_type": "markdown",
   "id": "0f0dee4c-69a4-4ec4-ba24-4ba88800cb6e",
   "metadata": {},
   "source": [
    "#### 2.4.1 Most Goodest Vibes\n",
    "\n",
    "Try to create a sentence with a compound polarity score of 1.0."
   ]
  },
  {
   "cell_type": "code",
   "execution_count": 27,
   "id": "12424bb7-2536-45e6-aafc-d10069ae98c1",
   "metadata": {
    "scrolled": true
   },
   "outputs": [
    {
     "data": {
      "text/plain": [
       "{'neg': 0.0, 'neu': 0.0, 'pos': 0.0, 'compound': 0.0}"
      ]
     },
     "execution_count": 27,
     "metadata": {},
     "output_type": "execute_result"
    }
   ],
   "source": [
    "sia.polarity_scores('')"
   ]
  },
  {
   "cell_type": "markdown",
   "id": "550828ab-6f6c-4fe2-80ba-7364f238c709",
   "metadata": {},
   "source": [
    "#### 2.4.2 Most Baddest Vibes\n",
    "\n",
    "Try to create a sentence with a compound polarity score of 1.0, but keep it pg-13!"
   ]
  },
  {
   "cell_type": "code",
   "execution_count": 29,
   "id": "9c05efc1-3da8-4af3-afa3-6db635afe0b7",
   "metadata": {},
   "outputs": [
    {
     "data": {
      "text/plain": [
       "{'neg': 0.0, 'neu': 0.0, 'pos': 0.0, 'compound': 0.0}"
      ]
     },
     "execution_count": 29,
     "metadata": {},
     "output_type": "execute_result"
    }
   ],
   "source": [
    "sia.polarity_scores('')"
   ]
  },
  {
   "cell_type": "markdown",
   "id": "8636f86e-0798-4391-bc58-6ab42bb3b1bf",
   "metadata": {},
   "source": [
    "#### 2.4.3 Most Strangest Vibes\n",
    "\n",
    "Try to create a sentence with either a positive or negative compound score, but that means the exact opposite of what it says."
   ]
  },
  {
   "cell_type": "code",
   "execution_count": 31,
   "id": "bffc1153-2061-4628-bf88-d15913b978fe",
   "metadata": {},
   "outputs": [
    {
     "data": {
      "text/plain": [
       "{'neg': 0.0, 'neu': 0.0, 'pos': 0.0, 'compound': 0.0}"
      ]
     },
     "execution_count": 31,
     "metadata": {},
     "output_type": "execute_result"
    }
   ],
   "source": [
    "sia.polarity_scores('')"
   ]
  },
  {
   "cell_type": "markdown",
   "id": "bffcd9da-fa21-4a48-9ef3-d7866412036b",
   "metadata": {},
   "source": [
    "### 2.5 Run VADER on all sentences."
   ]
  },
  {
   "cell_type": "code",
   "execution_count": 33,
   "id": "7ac47d03-8dbe-4d08-85dd-bf90a76d12cb",
   "metadata": {},
   "outputs": [],
   "source": [
    "# Perform sentiment analysis on each sentence and store the compound score in the DataFrame\n",
    "df_virginia_toponyms_compact['nltk_sentiment'] = df_virginia_toponyms_compact['cleaned_sentences'].apply(lambda x: sia.polarity_scores(x)['compound'])\n"
   ]
  },
  {
   "cell_type": "markdown",
   "id": "a94e02aa-f6b6-45e0-a977-58088c969a6d",
   "metadata": {},
   "source": [
    "See result"
   ]
  },
  {
   "cell_type": "code",
   "execution_count": 35,
   "id": "7cc82d15-1b07-4a8e-a48f-ae9c55e7abbf",
   "metadata": {},
   "outputs": [
    {
     "data": {
      "text/html": [
       "<div>\n",
       "<style scoped>\n",
       "    .dataframe tbody tr th:only-of-type {\n",
       "        vertical-align: middle;\n",
       "    }\n",
       "\n",
       "    .dataframe tbody tr th {\n",
       "        vertical-align: top;\n",
       "    }\n",
       "\n",
       "    .dataframe thead th {\n",
       "        text-align: right;\n",
       "    }\n",
       "</style>\n",
       "<table border=\"1\" class=\"dataframe\">\n",
       "  <thead>\n",
       "    <tr style=\"text-align: right;\">\n",
       "      <th></th>\n",
       "      <th>cleaned_sentences</th>\n",
       "      <th>nltk_sentiment</th>\n",
       "    </tr>\n",
       "  </thead>\n",
       "  <tbody>\n",
       "    <tr>\n",
       "      <th>39161</th>\n",
       "      <td>Enemies accused him of profiting by the maladministration of his  officials, and he himself confessed in a rather cynical letter to Lord  Arlington that, while advancing years had taken away his ambition, they  had left him covetous.</td>\n",
       "      <td>-0.6597</td>\n",
       "    </tr>\n",
       "    <tr>\n",
       "      <th>1233</th>\n",
       "      <td>Oade.    A thing of so great vent and vse amongst English Diers, which cannot  bee yeelded sufficiently in our owne countrey for spare of ground may  bee planted in Virginia, there being ground enough.</td>\n",
       "      <td>0.7384</td>\n",
       "    </tr>\n",
       "    <tr>\n",
       "      <th>45299</th>\n",
       "      <td>Mr. Rubsamen  told me that lead ore is found on New River and the Greenbrier, copper  on the Roanoke Dan, and iron everywhere about, particularly in  Buckingham County.</td>\n",
       "      <td>0.0000</td>\n",
       "    </tr>\n",
       "    <tr>\n",
       "      <th>26192</th>\n",
       "      <td>All seemed in a reverie,  dreaming a long sweet dream of the past, and entering into the grief  of the sisters, who lived afterward for many years in a pleasant home  on a pleasant street in Richmond, with warm friends to serve them, yet  their tears never ceased to flow at the mention of Mount Erin.</td>\n",
       "      <td>0.8885</td>\n",
       "    </tr>\n",
       "    <tr>\n",
       "      <th>32279</th>\n",
       "      <td>From the Ohio River to  the sea, from North Carolina to the Pennsylvania line, the people of the  commonwealth were stirred by the fervor of the campaign and the  magnitude of the issues upon which they were called to pass.</td>\n",
       "      <td>0.0000</td>\n",
       "    </tr>\n",
       "  </tbody>\n",
       "</table>\n",
       "</div>"
      ],
      "text/plain": [
       "                                                                                                                                                                                                                                                                                                   cleaned_sentences  \\\n",
       "39161                                                                      Enemies accused him of profiting by the maladministration of his  officials, and he himself confessed in a rather cynical letter to Lord  Arlington that, while advancing years had taken away his ambition, they  had left him covetous.   \n",
       "1233                                                                                                       Oade.    A thing of so great vent and vse amongst English Diers, which cannot  bee yeelded sufficiently in our owne countrey for spare of ground may  bee planted in Virginia, there being ground enough.   \n",
       "45299                                                                                                                                       Mr. Rubsamen  told me that lead ore is found on New River and the Greenbrier, copper  on the Roanoke Dan, and iron everywhere about, particularly in  Buckingham County.   \n",
       "26192  All seemed in a reverie,  dreaming a long sweet dream of the past, and entering into the grief  of the sisters, who lived afterward for many years in a pleasant home  on a pleasant street in Richmond, with warm friends to serve them, yet  their tears never ceased to flow at the mention of Mount Erin.   \n",
       "32279                                                                                From the Ohio River to  the sea, from North Carolina to the Pennsylvania line, the people of the  commonwealth were stirred by the fervor of the campaign and the  magnitude of the issues upon which they were called to pass.   \n",
       "\n",
       "       nltk_sentiment  \n",
       "39161         -0.6597  \n",
       "1233           0.7384  \n",
       "45299          0.0000  \n",
       "26192          0.8885  \n",
       "32279          0.0000  "
      ]
     },
     "execution_count": 35,
     "metadata": {},
     "output_type": "execute_result"
    }
   ],
   "source": [
    "\n",
    "df_virginia_toponyms_compact[['cleaned_sentences','nltk_sentiment']].sample(5, random_state=50)\n"
   ]
  },
  {
   "cell_type": "markdown",
   "id": "8218d691-34b5-406a-b9ca-b3336ce5e7db",
   "metadata": {},
   "source": [
    "#### 2.6 Evaluate the result"
   ]
  },
  {
   "cell_type": "markdown",
   "id": "f9f3abac-5d07-4d33-a9fe-82a910700301",
   "metadata": {},
   "source": [
    "The compound score ranges from -1 to 1. When a passage is very negative it gets a -1 and when it is possitive it gets a 1. Read through the passages above and try to figure out why these passages received the sentiments they did."
   ]
  },
  {
   "cell_type": "markdown",
   "id": "505f49fe-aa6a-41a5-9cf8-252885bd4ed1",
   "metadata": {},
   "source": [
    "### 2.7 Critical Question"
   ]
  },
  {
   "cell_type": "markdown",
   "id": "d2ad9937-0e6d-49c8-a791-6e8ab77bf088",
   "metadata": {},
   "source": [
    "How effective is the VADER tokenizer in dealing with sentiments in historical manuscripts?"
   ]
  },
  {
   "cell_type": "markdown",
   "id": "fa209252-c37d-4477-9b5f-afcad19528ef",
   "metadata": {},
   "source": [
    "## 3. Sentiment Analysis with Hugging Face (RoBERTa)\n",
    "\n",
    "RoBERTa (Robustly Optimized BERT Pretraining Approach) is a transformer-based model that has been fine-tuned for sentiment analysis tasks. We will use Hugging Face's `transformers` library to analyze the sentiment of the toponym-containing sentences. This model is available on a site called [Hugging Face](https://huggingface.co/). Check out the sentiment models [here](https://huggingface.co/models?sort=trending&search=sentiment)."
   ]
  },
  {
   "cell_type": "markdown",
   "id": "4c1b6439-b060-45ab-960e-c91a5313d346",
   "metadata": {},
   "source": [
    "### 3.1 Prepping your system"
   ]
  },
  {
   "cell_type": "markdown",
   "id": "004cbbc7-41ff-47d5-8051-1a0e7f9b74da",
   "metadata": {},
   "source": [
    "You will need to insall yet more libraries. \n",
    "\n",
    "Open up a new terminal window in Juypter and type the following commands:\n",
    "\n",
    "- `pip install transformers`\n",
    "- `pip install torch`\n",
    "- `pip install scipy`\n",
    "  "
   ]
  },
  {
   "cell_type": "markdown",
   "id": "8ede7f00-b3b8-4475-96c0-3c4ecf7688bb",
   "metadata": {},
   "source": [
    "### 3.1.1 Possible Warning\n",
    "\n",
    "When running the import:\n",
    "\n",
    "```python\n",
    "from transformers import pipeline, AutoTokenizer, AutoModelForSequenceClassification\n",
    "```\n",
    "\n",
    "You might getting a warning message telling you to upgrade Juypter Lab and Ipywidgets. If that is the case use the command:\n",
    "\n",
    "- `conda update jupyterlab`\n",
    "- `conda install -c conda-forge ipywidgets`"
   ]
  },
  {
   "cell_type": "markdown",
   "id": "3f7be418-b9c5-47ae-a2ff-c5e04b20a425",
   "metadata": {},
   "source": [
    "## 3.2 Load Functions into memory\n",
    "\n",
    "Getting Roberta to code the sentiments is a fairly common procedure. There is a great in-depth video [here](https://www.youtube.com/watch?v=QpzMWQvxXWk). I have adapted and updated the code for newer versions of Python. The only thing you need to do is to load the functions into memory.\n",
    "\n",
    "Step through the code blocks below. "
   ]
  },
  {
   "cell_type": "code",
   "execution_count": 45,
   "id": "35f09a69-7c2a-446d-83a2-3d5bc456cfbb",
   "metadata": {},
   "outputs": [],
   "source": [
    "from transformers import pipeline, AutoTokenizer, AutoModelForSequenceClassification\n",
    "from tqdm import tqdm\n",
    "from scipy.special import softmax\n",
    "from typing import Dict, Any"
   ]
  },
  {
   "cell_type": "code",
   "execution_count": 46,
   "id": "f88dce02-6d29-433a-a161-20ca1a0a3d92",
   "metadata": {},
   "outputs": [
    {
     "name": "stderr",
     "output_type": "stream",
     "text": [
      "C:\\Users\\joost\\anaconda3\\Lib\\site-packages\\transformers\\tokenization_utils_base.py:1617: FutureWarning: `clean_up_tokenization_spaces` was not set. It will be set to `True` by default. This behavior will be deprecated in transformers v4.45, and will be then set to `False` by default. For more details check this issue: https://github.com/huggingface/transformers/issues/31884\n",
      "  warnings.warn(\n"
     ]
    }
   ],
   "source": [
    "# Initialize RoBERTa. There will probably be a warning. You can ignore this.\n",
    "MODEL = \"cardiffnlp/twitter-roberta-base-sentiment\"\n",
    "tokenizer = AutoTokenizer.from_pretrained(MODEL)\n",
    "model = AutoModelForSequenceClassification.from_pretrained(MODEL)"
   ]
  },
  {
   "cell_type": "code",
   "execution_count": 90,
   "id": "de4c8595-4a03-46c4-b805-57c6c634db5a",
   "metadata": {},
   "outputs": [],
   "source": [
    "# Function to calculate RoBERTa sentiment scores\n",
    "\n",
    "def polarity_scores_roberta(text: str) -> Dict[str, float]:\n",
    "    \"\"\"\n",
    "    Calculate RoBERTa sentiment scores for a given text.\n",
    "    \n",
    "    Args:\n",
    "    - text: The text to analyze\n",
    "    \n",
    "    Returns:\n",
    "    - A dictionary with sentiment scores for negative, neutral, and positive sentiment\n",
    "    \"\"\"\n",
    "    # Tokenize and truncate to max length (512 tokens)\n",
    "    encoded_text = tokenizer.encode_plus(\n",
    "        text, \n",
    "        max_length=512, \n",
    "        truncation=True, \n",
    "        return_tensors='pt'\n",
    "    )\n",
    "    \n",
    "    # Get model output and convert to probabilities\n",
    "    output = model(**encoded_text)\n",
    "    scores = output[0][0].detach().numpy()\n",
    "    scores = softmax(scores)\n",
    "    \n",
    "    return {\n",
    "        'roberta_neg': scores[0],\n",
    "        'roberta_neu': scores[1],\n",
    "        'roberta_pos': scores[2]\n",
    "    }\n"
   ]
  },
  {
   "cell_type": "code",
   "execution_count": 92,
   "id": "a151c93a-5555-4d92-85fb-509bf7e3cca5",
   "metadata": {},
   "outputs": [],
   "source": [
    "# Function to attach sentiment analysis to a specific column in the dataframe\n",
    "def add_sentiment_to_column(\n",
    "    df: pd.DataFrame, column_name: str, num_rows: int = None\n",
    ") -> pd.DataFrame:\n",
    "    \"\"\"\n",
    "    Adds RoBERTa sentiment analysis to a specified column in a dataframe.\n",
    "    \n",
    "    Args:\n",
    "    - df: The dataframe to process\n",
    "    - column_name: The name of the column containing the text to analyze\n",
    "    - num_rows: The number of rows to process (default: 500)\n",
    "    \n",
    "    Returns:\n",
    "    - df: A dataframe with added sentiment analysis columns\n",
    "    \"\"\"\n",
    "        # If num_rows is specified, limit the dataframe, otherwise process all rows\n",
    "    if num_rows:\n",
    "        df_subset = df.head(num_rows).reset_index(drop=True)\n",
    "    else:\n",
    "        df_subset = df.reset_index(drop=True)  # Process all rows and reset the index\n",
    "    \n",
    "    # Function to process each row and add sentiment analysis\n",
    "    def process_row(text: str) -> Dict[str, Any]:\n",
    "        try:\n",
    "            return polarity_scores_roberta(text)\n",
    "        except Exception as e:\n",
    "            print(f\"Error processing text: {text}. Error: {e}\")\n",
    "            return {'roberta_neg': None, 'roberta_neu': None, 'roberta_pos': None}\n",
    "    \n",
    "    # Apply the RoBERTa sentiment analysis to each row\n",
    "    tqdm.pandas(desc=\"Processing Sentiment Analysis\")\n",
    "    sentiment_scores = df_subset[column_name].progress_apply(process_row)\n",
    "    \n",
    "    # Convert the resulting list of dictionaries into a DataFrame and concatenate it with the original subset\n",
    "    sentiment_df = pd.DataFrame(sentiment_scores.tolist())\n",
    "    df_subset = pd.concat([df_subset, sentiment_df], axis=1)\n",
    "    \n",
    "    return df_subset"
   ]
  },
  {
   "cell_type": "markdown",
   "id": "84d91cd3-8d42-4d9c-a844-0ce171396e95",
   "metadata": {},
   "source": [
    "### 3.2 A Very Simple Explanation\n",
    "\n",
    "The code blocks above are quite complex, but they essentially do one thing: add columns with sentiment scores to a dataframe that contains sentences. The function is fairly straightforward and has three possible parameters: \n",
    "\n",
    "- `dataframe` - The dataframe where you want to perform the function. In our case, `df_virginia_toponyms_compact`\n",
    "- `column` - The column name where the sentences are stored\n",
    "- `num_rows=` - (Optional) Integer value of the number of rows you want to process. Since this is very processor intensive. It makes sense to be able to just grab a sample. Leaving this blank will process every row.\n",
    "\n",
    "```python\n",
    "df_virginia_toponym_sentiment_sample = add_sentiment_to_column(df_virginia_toponyms_compact, 'cleaned_sentences', num_rows=1000)\n",
    "```\n",
    "With that explanation in mind, what does the above line of code do?\n"
   ]
  },
  {
   "cell_type": "markdown",
   "id": "3423a758-c624-4a5a-8797-7559bbadf2f9",
   "metadata": {},
   "source": [
    "### 3.3 Get a Sample Sentiment Column"
   ]
  },
  {
   "cell_type": "code",
   "execution_count": 51,
   "id": "df58631d-e51d-470e-9658-7ecf72dcabd7",
   "metadata": {},
   "outputs": [
    {
     "name": "stderr",
     "output_type": "stream",
     "text": [
      "Processing Sentiment Analysis: 100%|███████████████████████████████████████████████| 1000/1000 [00:58<00:00, 17.16it/s]\n"
     ]
    }
   ],
   "source": [
    "df_virginia_toponym_sentiment_sample = add_sentiment_to_column(df_virginia_toponyms_compact, 'cleaned_sentences', num_rows=1000)"
   ]
  },
  {
   "cell_type": "code",
   "execution_count": 52,
   "id": "e7c41902-a651-4558-855a-fb68aa129400",
   "metadata": {},
   "outputs": [],
   "source": [
    "df_virginia_toponym_sentiment_sample.to_pickle('df_virginia_toponym_sentiment_sample')"
   ]
  },
  {
   "cell_type": "markdown",
   "id": "d1832469-583a-4293-9152-189488dfd6c7",
   "metadata": {},
   "source": [
    "#### Evaluate the Sample\n",
    "\n",
    "If you could not get the tokenizer to work, you can get the result by running this line of code:\n",
    "\n",
    "```python\n",
    "df_virginia_toponym_sentiment_sample = pd.read_pickle('df_virginia_toponym_sentiment_sample')\n",
    "```"
   ]
  },
  {
   "cell_type": "code",
   "execution_count": 54,
   "id": "80abc459-cb1a-43e3-b37d-f4bd06fad7f6",
   "metadata": {},
   "outputs": [
    {
     "data": {
      "text/html": [
       "<div>\n",
       "<style scoped>\n",
       "    .dataframe tbody tr th:only-of-type {\n",
       "        vertical-align: middle;\n",
       "    }\n",
       "\n",
       "    .dataframe tbody tr th {\n",
       "        vertical-align: top;\n",
       "    }\n",
       "\n",
       "    .dataframe thead th {\n",
       "        text-align: right;\n",
       "    }\n",
       "</style>\n",
       "<table border=\"1\" class=\"dataframe\">\n",
       "  <thead>\n",
       "    <tr style=\"text-align: right;\">\n",
       "      <th></th>\n",
       "      <th>cleaned_sentences</th>\n",
       "      <th>roberta_neg</th>\n",
       "      <th>roberta_neu</th>\n",
       "      <th>roberta_pos</th>\n",
       "    </tr>\n",
       "  </thead>\n",
       "  <tbody>\n",
       "    <tr>\n",
       "      <th>530</th>\n",
       "      <td>Captain Nathaniel Butler, who had  once been Governor of the Somers Islands and had now returned to England  by way of Virginia, published in London \"The Unmasked Face of Our Colony  in Virginia\", containing a savage attack upon every item of Virginian  administration.</td>\n",
       "      <td>0.478677</td>\n",
       "      <td>0.498520</td>\n",
       "      <td>0.022803</td>\n",
       "    </tr>\n",
       "    <tr>\n",
       "      <th>926</th>\n",
       "      <td>Blair sailed back to  Virginia with the charter of the college, some money, a plan for the  main building drawn by Christopher Wren, and for himself the office of  President.</td>\n",
       "      <td>0.022498</td>\n",
       "      <td>0.928171</td>\n",
       "      <td>0.049331</td>\n",
       "    </tr>\n",
       "    <tr>\n",
       "      <th>586</th>\n",
       "      <td>Baltimore was a reflective man, a dreamer in the good sense of the term,  and religiously minded.</td>\n",
       "      <td>0.019395</td>\n",
       "      <td>0.408428</td>\n",
       "      <td>0.572177</td>\n",
       "    </tr>\n",
       "    <tr>\n",
       "      <th>25</th>\n",
       "      <td>But Rembrandt was not born in Massachusetts  people hardly ever do know where to be born until it is too late.</td>\n",
       "      <td>0.428928</td>\n",
       "      <td>0.527906</td>\n",
       "      <td>0.043166</td>\n",
       "    </tr>\n",
       "    <tr>\n",
       "      <th>332</th>\n",
       "      <td>Incontinently Smith was seized, dragged to a great stone lying before  Powhatan, forced down and bound.</td>\n",
       "      <td>0.500344</td>\n",
       "      <td>0.486323</td>\n",
       "      <td>0.013333</td>\n",
       "    </tr>\n",
       "  </tbody>\n",
       "</table>\n",
       "</div>"
      ],
      "text/plain": [
       "                                                                                                                                                                                                                                                                 cleaned_sentences  \\\n",
       "530  Captain Nathaniel Butler, who had  once been Governor of the Somers Islands and had now returned to England  by way of Virginia, published in London \"The Unmasked Face of Our Colony  in Virginia\", containing a savage attack upon every item of Virginian  administration.   \n",
       "926                                                                                                 Blair sailed back to  Virginia with the charter of the college, some money, a plan for the  main building drawn by Christopher Wren, and for himself the office of  President.   \n",
       "586                                                                                                                                                                              Baltimore was a reflective man, a dreamer in the good sense of the term,  and religiously minded.   \n",
       "25                                                                                                                                                                  But Rembrandt was not born in Massachusetts  people hardly ever do know where to be born until it is too late.   \n",
       "332                                                                                                                                                                        Incontinently Smith was seized, dragged to a great stone lying before  Powhatan, forced down and bound.   \n",
       "\n",
       "     roberta_neg  roberta_neu  roberta_pos  \n",
       "530     0.478677     0.498520     0.022803  \n",
       "926     0.022498     0.928171     0.049331  \n",
       "586     0.019395     0.408428     0.572177  \n",
       "25      0.428928     0.527906     0.043166  \n",
       "332     0.500344     0.486323     0.013333  "
      ]
     },
     "execution_count": 54,
     "metadata": {},
     "output_type": "execute_result"
    }
   ],
   "source": [
    "# Display the results for the first few rows\n",
    "df_virginia_toponym_sentiment_sample[['cleaned_sentences', 'roberta_neg', 'roberta_neu', 'roberta_pos']].sample(5, random_state=47)"
   ]
  },
  {
   "cell_type": "markdown",
   "id": "e6790208-e7ec-469a-9e1e-149b738950fa",
   "metadata": {},
   "source": [
    "#### 3.3.1 Critical Question\n",
    "\n",
    "1. How did the tokenizer do?\n",
    "2. Where would you dispute the sentiment?"
   ]
  },
  {
   "cell_type": "markdown",
   "id": "7fbd0547-ce94-41a7-9db9-f22e13206c27",
   "metadata": {},
   "source": [
    "#### 3.3.2 Critical Activity\n",
    "\n",
    "1. Cycle through the samples by changing `random_state=` to a different integer.\n",
    "2. Look through the sentences\n",
    "3. Identify a sentence where the language model does particularly well or poorly.\n",
    "4. If you were not able to run the tokenizer. Load in the sample pickle file below.\n"
   ]
  },
  {
   "cell_type": "code",
   "execution_count": 57,
   "id": "22f578a9-3a89-4758-b10d-c012cf1ff9cb",
   "metadata": {},
   "outputs": [],
   "source": [
    "df_virginia_toponym_sentiment_sample = pd.read_pickle('df_virginia_toponym_sentiment_sample')"
   ]
  },
  {
   "cell_type": "markdown",
   "id": "0e100e7a-5256-4cf2-b336-7d6060a5e851",
   "metadata": {},
   "source": [
    "## 4. Creating the entire dataset\n",
    "\n",
    "This process will take a very long time. I will create this data set for you, but if you ever want to do it on your own. The line of code is below. Simply remove the hashtag to uncomment it."
   ]
  },
  {
   "cell_type": "code",
   "execution_count": 94,
   "id": "87451dc1-bb0f-471b-bebe-ccbc4c36cf10",
   "metadata": {},
   "outputs": [
    {
     "name": "stderr",
     "output_type": "stream",
     "text": [
      "Processing Sentiment Analysis: 100%|█████████████████████████████████████████████| 45972/45972 [52:29<00:00, 14.59it/s]\n"
     ]
    }
   ],
   "source": [
    "\n",
    "df_virginia_toponym_sentiment_full = add_sentiment_to_column(df_virginia_toponyms_compact, 'cleaned_sentences')"
   ]
  },
  {
   "cell_type": "code",
   "execution_count": 96,
   "id": "9abdd391-f671-4432-a95a-6fa3b70e7c13",
   "metadata": {},
   "outputs": [],
   "source": [
    "df_virginia_toponym_sentiment_full.to_pickle('df_virginia_toponym_sentiment_full.pickle')"
   ]
  },
  {
   "cell_type": "code",
   "execution_count": 98,
   "id": "edfb2da2-7b1d-4399-9f2b-fc11c1e1c209",
   "metadata": {},
   "outputs": [
    {
     "data": {
      "text/html": [
       "<div>\n",
       "<style scoped>\n",
       "    .dataframe tbody tr th:only-of-type {\n",
       "        vertical-align: middle;\n",
       "    }\n",
       "\n",
       "    .dataframe tbody tr th {\n",
       "        vertical-align: top;\n",
       "    }\n",
       "\n",
       "    .dataframe thead th {\n",
       "        text-align: right;\n",
       "    }\n",
       "</style>\n",
       "<table border=\"1\" class=\"dataframe\">\n",
       "  <thead>\n",
       "    <tr style=\"text-align: right;\">\n",
       "      <th></th>\n",
       "      <th>text_id</th>\n",
       "      <th>title</th>\n",
       "      <th>subjects</th>\n",
       "      <th>last_name</th>\n",
       "      <th>first_name</th>\n",
       "      <th>birth</th>\n",
       "      <th>death</th>\n",
       "      <th>cleaned_sentences</th>\n",
       "      <th>toponyms</th>\n",
       "      <th>nltk_sentiment</th>\n",
       "      <th>roberta_neg</th>\n",
       "      <th>roberta_neu</th>\n",
       "      <th>roberta_pos</th>\n",
       "    </tr>\n",
       "  </thead>\n",
       "  <tbody>\n",
       "    <tr>\n",
       "      <th>0</th>\n",
       "      <td>2674</td>\n",
       "      <td>The Complete Writings of Charles Dudley Warner — Volume 4</td>\n",
       "      <td>Autobiographies; Virginia -- Description and travel; North Carolina -- Description and travel; Tennessee -- Description and travel; Mexico -- Description and travel; Boys -- Biography; Warner, Charles Dudley, 1829-1900 -- Travel -- Southern States; Appalachian Region -- Description and travel; Warner, Charles Dudley, 1829-1900 -- Travel -- Appalachian Region; Warner, Charles Dudley, 1829-1900 -- Travel -- Mexico</td>\n",
       "      <td>Warner</td>\n",
       "      <td>Charles Dudley</td>\n",
       "      <td>1829</td>\n",
       "      <td>1900</td>\n",
       "      <td>Title  The Complete Writings of Charles Dudley Warner Volume 4    Author  Charles Dudley Warner    June, 2001        Project Gutenberg The Complete Writings of Charles Dudley Warner  This file should be named 2674.txt or 2674.zip    This etext was prepared by David Widger,  widgercecomet.net    Project Gutenberg Etexts are usually created from multiple editions,  all of which are in the Public Domain in the United States, unless a  copyright notice is included.</td>\n",
       "      <td>[the Public Domain, the United States]</td>\n",
       "      <td>0.6908</td>\n",
       "      <td>0.106633</td>\n",
       "      <td>0.790353</td>\n",
       "      <td>0.103014</td>\n",
       "    </tr>\n",
       "    <tr>\n",
       "      <th>1</th>\n",
       "      <td>2674</td>\n",
       "      <td>The Complete Writings of Charles Dudley Warner — Volume 4</td>\n",
       "      <td>Autobiographies; Virginia -- Description and travel; North Carolina -- Description and travel; Tennessee -- Description and travel; Mexico -- Description and travel; Boys -- Biography; Warner, Charles Dudley, 1829-1900 -- Travel -- Southern States; Appalachian Region -- Description and travel; Warner, Charles Dudley, 1829-1900 -- Travel -- Appalachian Region; Warner, Charles Dudley, 1829-1900 -- Travel -- Mexico</td>\n",
       "      <td>Warner</td>\n",
       "      <td>Charles Dudley</td>\n",
       "      <td>1829</td>\n",
       "      <td>1900</td>\n",
       "      <td>The Goal of Project Gutenberg is to Give Away One Trillion Etext  Files by December 31, 2001.</td>\n",
       "      <td>[Files]</td>\n",
       "      <td>0.0000</td>\n",
       "      <td>0.137262</td>\n",
       "      <td>0.606347</td>\n",
       "      <td>0.256391</td>\n",
       "    </tr>\n",
       "    <tr>\n",
       "      <th>2</th>\n",
       "      <td>2674</td>\n",
       "      <td>The Complete Writings of Charles Dudley Warner — Volume 4</td>\n",
       "      <td>Autobiographies; Virginia -- Description and travel; North Carolina -- Description and travel; Tennessee -- Description and travel; Mexico -- Description and travel; Boys -- Biography; Warner, Charles Dudley, 1829-1900 -- Travel -- Southern States; Appalachian Region -- Description and travel; Warner, Charles Dudley, 1829-1900 -- Travel -- Appalachian Region; Warner, Charles Dudley, 1829-1900 -- Travel -- Mexico</td>\n",
       "      <td>Warner</td>\n",
       "      <td>Charles Dudley</td>\n",
       "      <td>1829</td>\n",
       "      <td>1900</td>\n",
       "      <td>Among other  things, this means that no one owns a United States copyright  on or for this work, so the Project and you!</td>\n",
       "      <td>[a United States]</td>\n",
       "      <td>0.2244</td>\n",
       "      <td>0.676226</td>\n",
       "      <td>0.294574</td>\n",
       "      <td>0.029200</td>\n",
       "    </tr>\n",
       "    <tr>\n",
       "      <th>3</th>\n",
       "      <td>2674</td>\n",
       "      <td>The Complete Writings of Charles Dudley Warner — Volume 4</td>\n",
       "      <td>Autobiographies; Virginia -- Description and travel; North Carolina -- Description and travel; Tennessee -- Description and travel; Mexico -- Description and travel; Boys -- Biography; Warner, Charles Dudley, 1829-1900 -- Travel -- Southern States; Appalachian Region -- Description and travel; Warner, Charles Dudley, 1829-1900 -- Travel -- Appalachian Region; Warner, Charles Dudley, 1829-1900 -- Travel -- Mexico</td>\n",
       "      <td>Warner</td>\n",
       "      <td>Charles Dudley</td>\n",
       "      <td>1829</td>\n",
       "      <td>1900</td>\n",
       "      <td>can copy and  distribute it in the United States without permission and  without paying copyright royalties.</td>\n",
       "      <td>[the United States]</td>\n",
       "      <td>0.4215</td>\n",
       "      <td>0.269529</td>\n",
       "      <td>0.665300</td>\n",
       "      <td>0.065171</td>\n",
       "    </tr>\n",
       "    <tr>\n",
       "      <th>4</th>\n",
       "      <td>2674</td>\n",
       "      <td>The Complete Writings of Charles Dudley Warner — Volume 4</td>\n",
       "      <td>Autobiographies; Virginia -- Description and travel; North Carolina -- Description and travel; Tennessee -- Description and travel; Mexico -- Description and travel; Boys -- Biography; Warner, Charles Dudley, 1829-1900 -- Travel -- Southern States; Appalachian Region -- Description and travel; Warner, Charles Dudley, 1829-1900 -- Travel -- Appalachian Region; Warner, Charles Dudley, 1829-1900 -- Travel -- Mexico</td>\n",
       "      <td>Warner</td>\n",
       "      <td>Charles Dudley</td>\n",
       "      <td>1829</td>\n",
       "      <td>1900</td>\n",
       "      <td>If I were a boy, I am not  sure but I would rather drive the oxen than have a birthday.</td>\n",
       "      <td>[oxen]</td>\n",
       "      <td>-0.1232</td>\n",
       "      <td>0.393779</td>\n",
       "      <td>0.554246</td>\n",
       "      <td>0.051975</td>\n",
       "    </tr>\n",
       "    <tr>\n",
       "      <th>...</th>\n",
       "      <td>...</td>\n",
       "      <td>...</td>\n",
       "      <td>...</td>\n",
       "      <td>...</td>\n",
       "      <td>...</td>\n",
       "      <td>...</td>\n",
       "      <td>...</td>\n",
       "      <td>...</td>\n",
       "      <td>...</td>\n",
       "      <td>...</td>\n",
       "      <td>...</td>\n",
       "      <td>...</td>\n",
       "      <td>...</td>\n",
       "    </tr>\n",
       "    <tr>\n",
       "      <th>45967</th>\n",
       "      <td>70331</td>\n",
       "      <td>Educational laws of Virginia</td>\n",
       "      <td>African Americans -- Education -- Virginia; Douglass, Margaret Crittenden, 1822-</td>\n",
       "      <td>Douglass</td>\n",
       "      <td>Margaret Crittenden</td>\n",
       "      <td>&lt;NA&gt;</td>\n",
       "      <td>&lt;NA&gt;</td>\n",
       "      <td>It is copied from the code of Virginia,  passed by the General Assembly of the Commonwealth of Virginia, in the  month of August, 1849, and will be found on page 747, chapter 198.</td>\n",
       "      <td>[Virginia]</td>\n",
       "      <td>0.0000</td>\n",
       "      <td>0.037465</td>\n",
       "      <td>0.931740</td>\n",
       "      <td>0.030795</td>\n",
       "    </tr>\n",
       "    <tr>\n",
       "      <th>45968</th>\n",
       "      <td>70331</td>\n",
       "      <td>Educational laws of Virginia</td>\n",
       "      <td>African Americans -- Education -- Virginia; Douglass, Margaret Crittenden, 1822-</td>\n",
       "      <td>Douglass</td>\n",
       "      <td>Margaret Crittenden</td>\n",
       "      <td>&lt;NA&gt;</td>\n",
       "      <td>&lt;NA&gt;</td>\n",
       "      <td>If a white person assemble with negroes for the purpose of  instructing them to read or write, or if he associate with them in  an unlawful assembly, he shall be confined in jail not exceeding six  months, and fined not exceeding one hundred dollars and any Justice  may require him to enter into a recognizance, with sufficient  security, to appear before the Circuit, County, or Corporation Court,  where the offence was committed, at its next term, to answer therefor  and in the meantime, to keep the peace and be of good behavior.”    It will be seen from this, that in the enlightened State of Virginia,  it is a crime for one portion of human beings to worship their Maker!</td>\n",
       "      <td>[County, Virginia]</td>\n",
       "      <td>0.9230</td>\n",
       "      <td>0.382407</td>\n",
       "      <td>0.571231</td>\n",
       "      <td>0.046361</td>\n",
       "    </tr>\n",
       "    <tr>\n",
       "      <th>45969</th>\n",
       "      <td>70331</td>\n",
       "      <td>Educational laws of Virginia</td>\n",
       "      <td>African Americans -- Education -- Virginia; Douglass, Margaret Crittenden, 1822-</td>\n",
       "      <td>Douglass</td>\n",
       "      <td>Margaret Crittenden</td>\n",
       "      <td>&lt;NA&gt;</td>\n",
       "      <td>&lt;NA&gt;</td>\n",
       "      <td>Since my trial and  conviction, I have been advised by one of the most eminent counsel in  Virginia, that the Norfolk Court exceeded its powers, and violated the  law by not construing the act literally in my case.</td>\n",
       "      <td>[Virginia]</td>\n",
       "      <td>-0.5267</td>\n",
       "      <td>0.642206</td>\n",
       "      <td>0.341482</td>\n",
       "      <td>0.016312</td>\n",
       "    </tr>\n",
       "    <tr>\n",
       "      <th>45970</th>\n",
       "      <td>70331</td>\n",
       "      <td>Educational laws of Virginia</td>\n",
       "      <td>African Americans -- Education -- Virginia; Douglass, Margaret Crittenden, 1822-</td>\n",
       "      <td>Douglass</td>\n",
       "      <td>Margaret Crittenden</td>\n",
       "      <td>&lt;NA&gt;</td>\n",
       "      <td>&lt;NA&gt;</td>\n",
       "      <td>It is the one great evil hanging over the Southern slave  States, destroying domestic happiness and the peace of thousands.</td>\n",
       "      <td>[States]</td>\n",
       "      <td>0.4939</td>\n",
       "      <td>0.913753</td>\n",
       "      <td>0.082423</td>\n",
       "      <td>0.003824</td>\n",
       "    </tr>\n",
       "    <tr>\n",
       "      <th>45971</th>\n",
       "      <td>70331</td>\n",
       "      <td>Educational laws of Virginia</td>\n",
       "      <td>African Americans -- Education -- Virginia; Douglass, Margaret Crittenden, 1822-</td>\n",
       "      <td>Douglass</td>\n",
       "      <td>Margaret Crittenden</td>\n",
       "      <td>&lt;NA&gt;</td>\n",
       "      <td>&lt;NA&gt;</td>\n",
       "      <td>I give  it, as the cause of the discontent and rebellion among the Southern  slaves, and also as the cause of the creation of that disgraceful  law, which now stands like a great black blot on the code of Virginia,  and under whose unjust application I have been made to suffer.</td>\n",
       "      <td>[Virginia]</td>\n",
       "      <td>0.1027</td>\n",
       "      <td>0.873579</td>\n",
       "      <td>0.120391</td>\n",
       "      <td>0.006030</td>\n",
       "    </tr>\n",
       "  </tbody>\n",
       "</table>\n",
       "<p>45972 rows × 13 columns</p>\n",
       "</div>"
      ],
      "text/plain": [
       "       text_id                                                      title  \\\n",
       "0         2674  The Complete Writings of Charles Dudley Warner — Volume 4   \n",
       "1         2674  The Complete Writings of Charles Dudley Warner — Volume 4   \n",
       "2         2674  The Complete Writings of Charles Dudley Warner — Volume 4   \n",
       "3         2674  The Complete Writings of Charles Dudley Warner — Volume 4   \n",
       "4         2674  The Complete Writings of Charles Dudley Warner — Volume 4   \n",
       "...        ...                                                        ...   \n",
       "45967    70331                               Educational laws of Virginia   \n",
       "45968    70331                               Educational laws of Virginia   \n",
       "45969    70331                               Educational laws of Virginia   \n",
       "45970    70331                               Educational laws of Virginia   \n",
       "45971    70331                               Educational laws of Virginia   \n",
       "\n",
       "                                                                                                                                                                                                                                                                                                                                                                                                                              subjects  \\\n",
       "0      Autobiographies; Virginia -- Description and travel; North Carolina -- Description and travel; Tennessee -- Description and travel; Mexico -- Description and travel; Boys -- Biography; Warner, Charles Dudley, 1829-1900 -- Travel -- Southern States; Appalachian Region -- Description and travel; Warner, Charles Dudley, 1829-1900 -- Travel -- Appalachian Region; Warner, Charles Dudley, 1829-1900 -- Travel -- Mexico   \n",
       "1      Autobiographies; Virginia -- Description and travel; North Carolina -- Description and travel; Tennessee -- Description and travel; Mexico -- Description and travel; Boys -- Biography; Warner, Charles Dudley, 1829-1900 -- Travel -- Southern States; Appalachian Region -- Description and travel; Warner, Charles Dudley, 1829-1900 -- Travel -- Appalachian Region; Warner, Charles Dudley, 1829-1900 -- Travel -- Mexico   \n",
       "2      Autobiographies; Virginia -- Description and travel; North Carolina -- Description and travel; Tennessee -- Description and travel; Mexico -- Description and travel; Boys -- Biography; Warner, Charles Dudley, 1829-1900 -- Travel -- Southern States; Appalachian Region -- Description and travel; Warner, Charles Dudley, 1829-1900 -- Travel -- Appalachian Region; Warner, Charles Dudley, 1829-1900 -- Travel -- Mexico   \n",
       "3      Autobiographies; Virginia -- Description and travel; North Carolina -- Description and travel; Tennessee -- Description and travel; Mexico -- Description and travel; Boys -- Biography; Warner, Charles Dudley, 1829-1900 -- Travel -- Southern States; Appalachian Region -- Description and travel; Warner, Charles Dudley, 1829-1900 -- Travel -- Appalachian Region; Warner, Charles Dudley, 1829-1900 -- Travel -- Mexico   \n",
       "4      Autobiographies; Virginia -- Description and travel; North Carolina -- Description and travel; Tennessee -- Description and travel; Mexico -- Description and travel; Boys -- Biography; Warner, Charles Dudley, 1829-1900 -- Travel -- Southern States; Appalachian Region -- Description and travel; Warner, Charles Dudley, 1829-1900 -- Travel -- Appalachian Region; Warner, Charles Dudley, 1829-1900 -- Travel -- Mexico   \n",
       "...                                                                                                                                                                                                                                                                                                                                                                                                                                ...   \n",
       "45967                                                                                                                                                                                                                                                                                                                                                 African Americans -- Education -- Virginia; Douglass, Margaret Crittenden, 1822-   \n",
       "45968                                                                                                                                                                                                                                                                                                                                                 African Americans -- Education -- Virginia; Douglass, Margaret Crittenden, 1822-   \n",
       "45969                                                                                                                                                                                                                                                                                                                                                 African Americans -- Education -- Virginia; Douglass, Margaret Crittenden, 1822-   \n",
       "45970                                                                                                                                                                                                                                                                                                                                                 African Americans -- Education -- Virginia; Douglass, Margaret Crittenden, 1822-   \n",
       "45971                                                                                                                                                                                                                                                                                                                                                 African Americans -- Education -- Virginia; Douglass, Margaret Crittenden, 1822-   \n",
       "\n",
       "      last_name           first_name  birth  death  \\\n",
       "0        Warner       Charles Dudley   1829   1900   \n",
       "1        Warner       Charles Dudley   1829   1900   \n",
       "2        Warner       Charles Dudley   1829   1900   \n",
       "3        Warner       Charles Dudley   1829   1900   \n",
       "4        Warner       Charles Dudley   1829   1900   \n",
       "...         ...                  ...    ...    ...   \n",
       "45967  Douglass  Margaret Crittenden   <NA>   <NA>   \n",
       "45968  Douglass  Margaret Crittenden   <NA>   <NA>   \n",
       "45969  Douglass  Margaret Crittenden   <NA>   <NA>   \n",
       "45970  Douglass  Margaret Crittenden   <NA>   <NA>   \n",
       "45971  Douglass  Margaret Crittenden   <NA>   <NA>   \n",
       "\n",
       "                                                                                                                                                                                                                                                                                                                                                                                                                                                                                                                                                                                                                                                                                              cleaned_sentences  \\\n",
       "0                                                                                                                                                                                                                             Title  The Complete Writings of Charles Dudley Warner Volume 4    Author  Charles Dudley Warner    June, 2001        Project Gutenberg The Complete Writings of Charles Dudley Warner  This file should be named 2674.txt or 2674.zip    This etext was prepared by David Widger,  widgercecomet.net    Project Gutenberg Etexts are usually created from multiple editions,  all of which are in the Public Domain in the United States, unless a  copyright notice is included.   \n",
       "1                                                                                                                                                                                                                                                                                                                                                                                                                                                                                                                                                                                                                 The Goal of Project Gutenberg is to Give Away One Trillion Etext  Files by December 31, 2001.   \n",
       "2                                                                                                                                                                                                                                                                                                                                                                                                                                                                                                                                                                                      Among other  things, this means that no one owns a United States copyright  on or for this work, so the Project and you!   \n",
       "3                                                                                                                                                                                                                                                                                                                                                                                                                                                                                                                                                                                                  can copy and  distribute it in the United States without permission and  without paying copyright royalties.   \n",
       "4                                                                                                                                                                                                                                                                                                                                                                                                                                                                                                                                                                                                                       If I were a boy, I am not  sure but I would rather drive the oxen than have a birthday.   \n",
       "...                                                                                                                                                                                                                                                                                                                                                                                                                                                                                                                                                                                                                                                                                                         ...   \n",
       "45967                                                                                                                                                                                                                                                                                                                                                                                                                                                                                                                       It is copied from the code of Virginia,  passed by the General Assembly of the Commonwealth of Virginia, in the  month of August, 1849, and will be found on page 747, chapter 198.   \n",
       "45968  If a white person assemble with negroes for the purpose of  instructing them to read or write, or if he associate with them in  an unlawful assembly, he shall be confined in jail not exceeding six  months, and fined not exceeding one hundred dollars and any Justice  may require him to enter into a recognizance, with sufficient  security, to appear before the Circuit, County, or Corporation Court,  where the offence was committed, at its next term, to answer therefor  and in the meantime, to keep the peace and be of good behavior.”    It will be seen from this, that in the enlightened State of Virginia,  it is a crime for one portion of human beings to worship their Maker!   \n",
       "45969                                                                                                                                                                                                                                                                                                                                                                                                                                                                                    Since my trial and  conviction, I have been advised by one of the most eminent counsel in  Virginia, that the Norfolk Court exceeded its powers, and violated the  law by not construing the act literally in my case.   \n",
       "45970                                                                                                                                                                                                                                                                                                                                                                                                                                                                                                                                                                               It is the one great evil hanging over the Southern slave  States, destroying domestic happiness and the peace of thousands.   \n",
       "45971                                                                                                                                                                                                                                                                                                                                                                                                                    I give  it, as the cause of the discontent and rebellion among the Southern  slaves, and also as the cause of the creation of that disgraceful  law, which now stands like a great black blot on the code of Virginia,  and under whose unjust application I have been made to suffer.   \n",
       "\n",
       "                                     toponyms  nltk_sentiment  roberta_neg  \\\n",
       "0      [the Public Domain, the United States]          0.6908     0.106633   \n",
       "1                                     [Files]          0.0000     0.137262   \n",
       "2                           [a United States]          0.2244     0.676226   \n",
       "3                         [the United States]          0.4215     0.269529   \n",
       "4                                      [oxen]         -0.1232     0.393779   \n",
       "...                                       ...             ...          ...   \n",
       "45967                              [Virginia]          0.0000     0.037465   \n",
       "45968                      [County, Virginia]          0.9230     0.382407   \n",
       "45969                              [Virginia]         -0.5267     0.642206   \n",
       "45970                                [States]          0.4939     0.913753   \n",
       "45971                              [Virginia]          0.1027     0.873579   \n",
       "\n",
       "       roberta_neu  roberta_pos  \n",
       "0         0.790353     0.103014  \n",
       "1         0.606347     0.256391  \n",
       "2         0.294574     0.029200  \n",
       "3         0.665300     0.065171  \n",
       "4         0.554246     0.051975  \n",
       "...            ...          ...  \n",
       "45967     0.931740     0.030795  \n",
       "45968     0.571231     0.046361  \n",
       "45969     0.341482     0.016312  \n",
       "45970     0.082423     0.003824  \n",
       "45971     0.120391     0.006030  \n",
       "\n",
       "[45972 rows x 13 columns]"
      ]
     },
     "execution_count": 98,
     "metadata": {},
     "output_type": "execute_result"
    }
   ],
   "source": [
    "df_virginia_toponym_sentiment_full"
   ]
  },
  {
   "cell_type": "code",
   "execution_count": 106,
   "id": "445d19eb-ab4b-4029-ac05-73e4a5e5a009",
   "metadata": {},
   "outputs": [
    {
     "data": {
      "text/html": [
       "<div>\n",
       "<style scoped>\n",
       "    .dataframe tbody tr th:only-of-type {\n",
       "        vertical-align: middle;\n",
       "    }\n",
       "\n",
       "    .dataframe tbody tr th {\n",
       "        vertical-align: top;\n",
       "    }\n",
       "\n",
       "    .dataframe thead th {\n",
       "        text-align: right;\n",
       "    }\n",
       "</style>\n",
       "<table border=\"1\" class=\"dataframe\">\n",
       "  <thead>\n",
       "    <tr style=\"text-align: right;\">\n",
       "      <th></th>\n",
       "      <th>text_id</th>\n",
       "      <th>title</th>\n",
       "      <th>subjects</th>\n",
       "      <th>last_name</th>\n",
       "      <th>first_name</th>\n",
       "      <th>birth</th>\n",
       "      <th>death</th>\n",
       "      <th>cleaned_sentences</th>\n",
       "      <th>toponyms</th>\n",
       "      <th>nltk_sentiment</th>\n",
       "      <th>roberta_neg</th>\n",
       "      <th>roberta_neu</th>\n",
       "      <th>roberta_pos</th>\n",
       "    </tr>\n",
       "  </thead>\n",
       "  <tbody>\n",
       "    <tr>\n",
       "      <th>376</th>\n",
       "      <td>2898</td>\n",
       "      <td>Pioneers of the Old South: A Chronicle of English Colonial Beginnings</td>\n",
       "      <td>Southern States -- History -- Colonial period, ca. 1600-1775; United States -- History -- Colonial period, ca. 1600-1775; Frontier and pioneer life -- Southern States; British Americans -- Southern States; Maryland -- History; Virginia -- History</td>\n",
       "      <td>Johnston</td>\n",
       "      <td>Mary</td>\n",
       "      <td>1870</td>\n",
       "      <td>1936</td>\n",
       "      <td>On St. James's day there rose and broke a fearsome storm.</td>\n",
       "      <td>[St. James's]</td>\n",
       "      <td>-0.6705</td>\n",
       "      <td>0.005326</td>\n",
       "      <td>0.341994</td>\n",
       "      <td>0.652680</td>\n",
       "    </tr>\n",
       "    <tr>\n",
       "      <th>3395</th>\n",
       "      <td>22067</td>\n",
       "      <td>The Story of a Cannoneer Under Stonewall Jackson  In Which is Told the Part Taken by the Rockbridge Artillery in the Army of Northern Virginia</td>\n",
       "      <td>United States -- History -- Civil War, 1861-1865 -- Campaigns; United States -- History -- Civil War, 1861-1865 -- Personal narratives, Confederate; Moore, Edward Alexander, 1842-; Jackson, Stonewall, 1824-1863; Confederate States of America. Army. Virginia Artillery. Rockbridge Battery, 1st; Soldiers -- Virginia -- Biography; Virginia -- History -- Civil War, 1861-1865 -- Campaigns</td>\n",
       "      <td>Moore</td>\n",
       "      <td>Edward Alexander</td>\n",
       "      <td>&lt;NA&gt;</td>\n",
       "      <td>&lt;NA&gt;</td>\n",
       "      <td>The beautiful character of Randolph Fairfax, a descendant of Lord  Fairfax, who was killed on December 13, 1862, on that fatal hill near  Fredericksburg, has been worthily portrayed in a memoir by the Rev.</td>\n",
       "      <td>[Fairfax, Fredericksburg]</td>\n",
       "      <td>-0.6249</td>\n",
       "      <td>0.039780</td>\n",
       "      <td>0.334726</td>\n",
       "      <td>0.625493</td>\n",
       "    </tr>\n",
       "    <tr>\n",
       "      <th>12811</th>\n",
       "      <td>30747</td>\n",
       "      <td>Seaport in Virginia George Washington's Alexandria</td>\n",
       "      <td>Historic buildings -- Virginia -- Alexandria; Alexandria (Va.) -- History; Alexandria (Va.) -- Buildings, structures, etc.</td>\n",
       "      <td>Moore</td>\n",
       "      <td>Gay Montague</td>\n",
       "      <td>&lt;NA&gt;</td>\n",
       "      <td>&lt;NA&gt;</td>\n",
       "      <td>The 200 block of Prince Street is probably the finest left in Old  Alexandria, in that it has suffered less change.</td>\n",
       "      <td>[Old]</td>\n",
       "      <td>-0.7269</td>\n",
       "      <td>0.008930</td>\n",
       "      <td>0.161089</td>\n",
       "      <td>0.829981</td>\n",
       "    </tr>\n",
       "    <tr>\n",
       "      <th>13078</th>\n",
       "      <td>30747</td>\n",
       "      <td>Seaport in Virginia George Washington's Alexandria</td>\n",
       "      <td>Historic buildings -- Virginia -- Alexandria; Alexandria (Va.) -- History; Alexandria (Va.) -- Buildings, structures, etc.</td>\n",
       "      <td>Moore</td>\n",
       "      <td>Gay Montague</td>\n",
       "      <td>&lt;NA&gt;</td>\n",
       "      <td>&lt;NA&gt;</td>\n",
       "      <td>Of the many quaint, historical figures whose memories haunt the old  streets and houses of Alexandria, none is more interesting than Dr.  Craik.</td>\n",
       "      <td>[Alexandria]</td>\n",
       "      <td>-0.6340</td>\n",
       "      <td>0.023045</td>\n",
       "      <td>0.167167</td>\n",
       "      <td>0.809787</td>\n",
       "    </tr>\n",
       "    <tr>\n",
       "      <th>22708</th>\n",
       "      <td>38130</td>\n",
       "      <td>Legends of Loudoun  An account of the history and homes of a border county of Virginia's Northern Neck</td>\n",
       "      <td>Loudoun County (Va.) -- History; Historic buildings -- Virginia -- Loudoun County</td>\n",
       "      <td>Williams</td>\n",
       "      <td>Harrison</td>\n",
       "      <td>1873</td>\n",
       "      <td>1946</td>\n",
       "      <td>In spite of all his tribulations and the very real dangers he  incurred in his American sojourn, he records that \"Virginia is the very  finest country I ever was in\"no small concession.</td>\n",
       "      <td>[Virginia]</td>\n",
       "      <td>-0.7832</td>\n",
       "      <td>0.059485</td>\n",
       "      <td>0.332529</td>\n",
       "      <td>0.607986</td>\n",
       "    </tr>\n",
       "    <tr>\n",
       "      <th>35523</th>\n",
       "      <td>52395</td>\n",
       "      <td>Journal of my journey over the mountains  while surveying for Lord Thomas Fairfax, baron of Cameron, in the northern neck of Virginia, beyond the Blue Ridge, in 1747-8.</td>\n",
       "      <td>Virginia -- Description and travel -- Early works to 1800; Washington, George, 1732-1799 -- Travel -- Shenandoah River Valley (Va. and W. Va.); Washington, George, 1732-1799 -- Diaries; Shenandoah River Valley (Va. and W. Va.) -- Description and travel -- Early works to 1800</td>\n",
       "      <td>Washington</td>\n",
       "      <td>George</td>\n",
       "      <td>1732</td>\n",
       "      <td>1799</td>\n",
       "      <td>to a White Oak on a  Mountain side thence No 40 Et 38 po to 3 Red Oaks on a Mountain  side near a Spring Branch this Lot very good    Lot ye 16th and 17th Widow Wolfs and Henry Sheplars a Black  Smith by trade Begins at a Black Walnut on ye Fork  Runs So 17 W  76 po to a Red Oak  Hickory 90 po Crossing ye Road about 20 po  above ye house 226 po to 2 W O thence No 41 Wt 96 po to 2 White  Oaks in ye Mannor line to ye River the line of ye 16th Lot  from ye 2 W O S 41 Et    Lot 18th Jeremiah Osborne's Begins at a Sycamore on ye Fork   extending No 80 Et 215 po.</td>\n",
       "      <td>[Mountain]</td>\n",
       "      <td>-0.9810</td>\n",
       "      <td>0.004906</td>\n",
       "      <td>0.370870</td>\n",
       "      <td>0.624225</td>\n",
       "    </tr>\n",
       "  </tbody>\n",
       "</table>\n",
       "</div>"
      ],
      "text/plain": [
       "       text_id  \\\n",
       "376       2898   \n",
       "3395     22067   \n",
       "12811    30747   \n",
       "13078    30747   \n",
       "22708    38130   \n",
       "35523    52395   \n",
       "\n",
       "                                                                                                                                                                          title  \\\n",
       "376                                                                                                       Pioneers of the Old South: A Chronicle of English Colonial Beginnings   \n",
       "3395                             The Story of a Cannoneer Under Stonewall Jackson  In Which is Told the Part Taken by the Rockbridge Artillery in the Army of Northern Virginia   \n",
       "12811                                                                                                                        Seaport in Virginia George Washington's Alexandria   \n",
       "13078                                                                                                                        Seaport in Virginia George Washington's Alexandria   \n",
       "22708                                                                    Legends of Loudoun  An account of the history and homes of a border county of Virginia's Northern Neck   \n",
       "35523  Journal of my journey over the mountains  while surveying for Lord Thomas Fairfax, baron of Cameron, in the northern neck of Virginia, beyond the Blue Ridge, in 1747-8.   \n",
       "\n",
       "                                                                                                                                                                                                                                                                                                                                                                                                subjects  \\\n",
       "376                                                                                                                                               Southern States -- History -- Colonial period, ca. 1600-1775; United States -- History -- Colonial period, ca. 1600-1775; Frontier and pioneer life -- Southern States; British Americans -- Southern States; Maryland -- History; Virginia -- History   \n",
       "3395   United States -- History -- Civil War, 1861-1865 -- Campaigns; United States -- History -- Civil War, 1861-1865 -- Personal narratives, Confederate; Moore, Edward Alexander, 1842-; Jackson, Stonewall, 1824-1863; Confederate States of America. Army. Virginia Artillery. Rockbridge Battery, 1st; Soldiers -- Virginia -- Biography; Virginia -- History -- Civil War, 1861-1865 -- Campaigns   \n",
       "12811                                                                                                                                                                                                                                                                         Historic buildings -- Virginia -- Alexandria; Alexandria (Va.) -- History; Alexandria (Va.) -- Buildings, structures, etc.   \n",
       "13078                                                                                                                                                                                                                                                                         Historic buildings -- Virginia -- Alexandria; Alexandria (Va.) -- History; Alexandria (Va.) -- Buildings, structures, etc.   \n",
       "22708                                                                                                                                                                                                                                                                                                                  Loudoun County (Va.) -- History; Historic buildings -- Virginia -- Loudoun County   \n",
       "35523                                                                                                                Virginia -- Description and travel -- Early works to 1800; Washington, George, 1732-1799 -- Travel -- Shenandoah River Valley (Va. and W. Va.); Washington, George, 1732-1799 -- Diaries; Shenandoah River Valley (Va. and W. Va.) -- Description and travel -- Early works to 1800   \n",
       "\n",
       "        last_name        first_name  birth  death  \\\n",
       "376      Johnston              Mary   1870   1936   \n",
       "3395        Moore  Edward Alexander   <NA>   <NA>   \n",
       "12811       Moore      Gay Montague   <NA>   <NA>   \n",
       "13078       Moore      Gay Montague   <NA>   <NA>   \n",
       "22708    Williams          Harrison   1873   1946   \n",
       "35523  Washington            George   1732   1799   \n",
       "\n",
       "                                                                                                                                                                                                                                                                                                                                                                                                                                                                                                                                                                         cleaned_sentences  \\\n",
       "376                                                                                                                                                                                                                                                                                                                                                                                                                                                                                                                              On St. James's day there rose and broke a fearsome storm.   \n",
       "3395                                                                                                                                                                                                                                                                                                                                                                         The beautiful character of Randolph Fairfax, a descendant of Lord  Fairfax, who was killed on December 13, 1862, on that fatal hill near  Fredericksburg, has been worthily portrayed in a memoir by the Rev.   \n",
       "12811                                                                                                                                                                                                                                                                                                                                                                                                                                                                  The 200 block of Prince Street is probably the finest left in Old  Alexandria, in that it has suffered less change.   \n",
       "13078                                                                                                                                                                                                                                                                                                                                                                                                                                     Of the many quaint, historical figures whose memories haunt the old  streets and houses of Alexandria, none is more interesting than Dr.  Craik.   \n",
       "22708                                                                                                                                                                                                                                                                                                                                                                                            In spite of all his tribulations and the very real dangers he  incurred in his American sojourn, he records that \"Virginia is the very  finest country I ever was in\"no small concession.   \n",
       "35523  to a White Oak on a  Mountain side thence No 40 Et 38 po to 3 Red Oaks on a Mountain  side near a Spring Branch this Lot very good    Lot ye 16th and 17th Widow Wolfs and Henry Sheplars a Black  Smith by trade Begins at a Black Walnut on ye Fork  Runs So 17 W  76 po to a Red Oak  Hickory 90 po Crossing ye Road about 20 po  above ye house 226 po to 2 W O thence No 41 Wt 96 po to 2 White  Oaks in ye Mannor line to ye River the line of ye 16th Lot  from ye 2 W O S 41 Et    Lot 18th Jeremiah Osborne's Begins at a Sycamore on ye Fork   extending No 80 Et 215 po.   \n",
       "\n",
       "                        toponyms  nltk_sentiment  roberta_neg  roberta_neu  \\\n",
       "376                [St. James's]         -0.6705     0.005326     0.341994   \n",
       "3395   [Fairfax, Fredericksburg]         -0.6249     0.039780     0.334726   \n",
       "12811                      [Old]         -0.7269     0.008930     0.161089   \n",
       "13078               [Alexandria]         -0.6340     0.023045     0.167167   \n",
       "22708                 [Virginia]         -0.7832     0.059485     0.332529   \n",
       "35523                 [Mountain]         -0.9810     0.004906     0.370870   \n",
       "\n",
       "       roberta_pos  \n",
       "376       0.652680  \n",
       "3395      0.625493  \n",
       "12811     0.829981  \n",
       "13078     0.809787  \n",
       "22708     0.607986  \n",
       "35523     0.624225  "
      ]
     },
     "execution_count": 106,
     "metadata": {},
     "output_type": "execute_result"
    }
   ],
   "source": [
    "df_virginia_toponym_sentiment_full[(df_virginia_toponym_sentiment_full.nltk_sentiment <-.6)&\n",
    "                                    (df_virginia_toponym_sentiment_full.roberta_pos >.6)]"
   ]
  },
  {
   "cell_type": "markdown",
   "id": "df8befbb-90ae-462f-8682-d19f665352c2",
   "metadata": {},
   "source": [
    "## 5. Analyzing the Differences\n",
    "\n",
    "### Differences Between NLTK and RoBERTa:\n",
    "1. **NLTK (VADER)**:\n",
    "    - Uses a lexicon-based approach.\n",
    "    - Performs well on short social media-style texts, but may not capture the full context in longer, more complex sentences.\n",
    "\n",
    "2. **RoBERTa**:\n",
    "    - Uses a transformer-based deep learning model, which can better understand context.\n",
    "    - However, RoBERTa can sometimes be biased towards its training data (in this case, Twitter-based sentiments).\n",
    "\n",
    "### Why Might These Differences Occur?\n",
    "- **Context Understanding**: RoBERTa uses a much more advanced neural network model, allowing it to grasp nuances better than NLTK.\n",
    "- **Lexicon Limitations**: NLTK relies on predefined dictionaries of words, which means it may miss certain contextual clues or interpret complex sentences inaccurately.\n",
    "\n",
    "### Limitations:\n",
    "- **RoBERTa**: While more accurate in many cases, it might be overfitted to specific domains (e.g., Twitter), which could skew its results on historical or formal texts.\n",
    "- **NLTK**: Fast and simple, but its lexicon-based approach might not always provide a detailed or accurate sentiment analysis in nuanced contexts.\n"
   ]
  },
  {
   "cell_type": "markdown",
   "id": "28751957-e41f-4128-9d00-a1f28c23fbff",
   "metadata": {},
   "source": [
    "## 6. Conclusion\n",
    "\n",
    "By comparing NLTK’s VADER and Hugging Face's RoBERTa, we can see that different sentiment analysis tools offer different strengths. NLTK’s rule-based system is fast and straightforward but can miss complex sentiment cues. RoBERTa, being a transformer model, performs better on context-heavy sentences but can sometimes be biased by its training data. \n"
   ]
  },
  {
   "cell_type": "code",
   "execution_count": null,
   "id": "72565818-da13-4535-8758-7d45d42c4c49",
   "metadata": {},
   "outputs": [],
   "source": []
  }
 ],
 "metadata": {
  "kernelspec": {
   "display_name": "Python 3 (ipykernel)",
   "language": "python",
   "name": "python3"
  },
  "language_info": {
   "codemirror_mode": {
    "name": "ipython",
    "version": 3
   },
   "file_extension": ".py",
   "mimetype": "text/x-python",
   "name": "python",
   "nbconvert_exporter": "python",
   "pygments_lexer": "ipython3",
   "version": "3.12.3"
  }
 },
 "nbformat": 4,
 "nbformat_minor": 5
}
