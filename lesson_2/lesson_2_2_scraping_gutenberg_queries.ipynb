{
 "cells": [
  {
   "cell_type": "markdown",
   "id": "9d040301-f607-4564-a98b-d69e285d52d9",
   "metadata": {},
   "source": [
    "# Lesson 2.2: Scraping Gutenberg: Filtering Queries"
   ]
  },
  {
   "cell_type": "markdown",
   "id": "a9fe61ff-bc5f-4873-91b7-450d4db39e6d",
   "metadata": {},
   "source": [
    "So far none of the work we have done on the Gutenberg catalog has not actually gotten us any texts. Instead we did the following:\n",
    "- Downloaded a CSV file\n",
    "- Converted it to a dataframe\n",
    "- Cleaned the dataframe\n",
    "- Exported as `.pickle` file\n",
    "\n",
    "We did all this because the dataframe will used to retrieve actual texts from Gutenberg, and we want to be sure everything is clean before we modify it.\n",
    "\n",
    "In the following lesson you will learn how to filter the dataframe for the specific values you want by running queries. Since we don't want to download all of Gutenberg, we will want to create a subset of data to download before we do the actual webscraping."
   ]
  },
  {
   "cell_type": "markdown",
   "id": "01577607-6006-4737-8766-45b6fb981129",
   "metadata": {},
   "source": [
    "#### Load libraries"
   ]
  },
  {
   "cell_type": "markdown",
   "id": "49ca3073-fa44-4d3d-80e3-61a1481f8a22",
   "metadata": {},
   "source": [
    "Libraries need to be reloaded for each new notebook."
   ]
  },
  {
   "cell_type": "code",
   "execution_count": null,
   "id": "cc2814a8-fd53-464c-8766-869bf862cffc",
   "metadata": {},
   "outputs": [],
   "source": [
    "import pandas as pd"
   ]
  },
  {
   "cell_type": "markdown",
   "id": "47a2d130-f70e-4822-bdd4-b07c33c593a1",
   "metadata": {},
   "source": [
    "## 1.1 Import `pg_catalog_clean.pickle`\n"
   ]
  },
  {
   "cell_type": "markdown",
   "id": "eb52a8fe-0e92-4b7a-a4cc-ebaf97ce4246",
   "metadata": {},
   "source": [
    "You will need to import the `.pickle` file and save it as a dataframe file."
   ]
  },
  {
   "cell_type": "code",
   "execution_count": null,
   "id": "5ec696e1-cf04-49f1-a62b-c2c0ab40efc2",
   "metadata": {},
   "outputs": [],
   "source": [
    "df_pg_catalog = pd.read_pickle('pg_catalog_clean.pickle')"
   ]
  },
  {
   "cell_type": "code",
   "execution_count": null,
   "id": "fa1dacdf-6911-4124-8adc-6b4e9f3a09f7",
   "metadata": {},
   "outputs": [],
   "source": [
    "df_pg_catalog"
   ]
  },
  {
   "cell_type": "markdown",
   "id": "1648570a-780d-4254-9826-81e6d5b474e5",
   "metadata": {},
   "source": [
    "## 2 Exploring dataframe content"
   ]
  },
  {
   "cell_type": "markdown",
   "id": "b069a390-c94c-4077-bc12-6ff4b00f284c",
   "metadata": {},
   "source": [
    "### 2.1 unique()"
   ]
  },
  {
   "cell_type": "markdown",
   "id": "5ffb7dc8-d8aa-4f0e-95a8-31331ff79fba",
   "metadata": {},
   "source": [
    "Before you start filtering a dataframe you might want to know what's actually inside it. It doesn't make a whole lot of sense to start filtering for values if you don't know what values are possible. Pandas dataframes have a built in `.unique()` method that allows you to view all unique values. Let's start by looking at `type`."
   ]
  },
  {
   "cell_type": "code",
   "execution_count": null,
   "id": "8f221b57-59d1-4970-bf96-b1445856e614",
   "metadata": {},
   "outputs": [],
   "source": [
    "df_pg_catalog['type'].unique()"
   ]
  },
  {
   "cell_type": "markdown",
   "id": "5598c3d3-21cf-4baa-a041-4eff77e00737",
   "metadata": {},
   "source": [
    "We can see that the type column classifies this has having 7 different types of information. We are only interested in `Text`."
   ]
  },
  {
   "cell_type": "markdown",
   "id": "f33620e0-5097-4791-9c74-30a2f33bcbf1",
   "metadata": {},
   "source": [
    "### 2.2 Dot Notation"
   ]
  },
  {
   "cell_type": "markdown",
   "id": "f098ffe2-e399-4b05-9ddf-c843a4ccc7f6",
   "metadata": {},
   "source": [
    "We can try to see how many languages there are as well. To speed up our typing we can actually use a little trick called \"dot notation\". As long as the column titles do not contain special characters and are lower case, we do not have to write brackets and the string around the name of the column, but can just put it in lower case after the name of the dataframe. So `df_pg_catalog.language` will give us the `language` column."
   ]
  },
  {
   "cell_type": "code",
   "execution_count": null,
   "id": "9f0a25db-d9b8-49f4-87cf-41d77ff9b2f1",
   "metadata": {},
   "outputs": [],
   "source": [
    "df_pg_catalog.language"
   ]
  },
  {
   "cell_type": "markdown",
   "id": "1dffb506-06b6-43e1-ac41-eb541ea0087b",
   "metadata": {},
   "source": [
    "If we want to know the unique values we can simply add `.unique()` after `language`.\n"
   ]
  },
  {
   "cell_type": "code",
   "execution_count": null,
   "id": "0183f00e-fdaa-4168-81d7-0493dabf6ac0",
   "metadata": {},
   "outputs": [],
   "source": [
    "df_pg_catalog.language.unique()"
   ]
  },
  {
   "cell_type": "markdown",
   "id": "299787b7-825b-492e-8f15-bfc900ab34f2",
   "metadata": {},
   "source": [
    "This is pretty interesting. There are 118 different languages here. Now we know we can limit our search results by simply eliminating everything that is not a text and eliminating everything that is not in english or `en`. Filtering down will be important because some columns may have a very large number of unique values."
   ]
  },
  {
   "cell_type": "code",
   "execution_count": null,
   "id": "8d34bc36-f9fe-4880-aea9-9b1fd8fd4245",
   "metadata": {},
   "outputs": [],
   "source": []
  },
  {
   "cell_type": "code",
   "execution_count": null,
   "id": "86625f63-62ac-486a-bc88-9887935d6c7c",
   "metadata": {},
   "outputs": [],
   "source": [
    "df_pg_catalog.subjects.unique()"
   ]
  },
  {
   "cell_type": "markdown",
   "id": "6ab96db3-81e5-48f4-91e6-53d09ce59129",
   "metadata": {},
   "source": [
    "There are over 40,000 unique strings in subjects. Figuring out what we want to look at is going to be tricky."
   ]
  },
  {
   "cell_type": "markdown",
   "id": "6fbd95fa-d96d-4b5d-942c-f52bdfacde57",
   "metadata": {},
   "source": [
    "## 3 Filtering the dataframe"
   ]
  },
  {
   "cell_type": "markdown",
   "id": "1b9e617b-6eae-42a1-82ff-50f41bc505cc",
   "metadata": {},
   "source": [
    "### 3.1 Simple Filtering with `==` (Equal to)"
   ]
  },
  {
   "cell_type": "markdown",
   "id": "2ff42457-96b7-4bcf-8512-d80087b83dc4",
   "metadata": {},
   "source": [
    "Filtering data in pandas is pretty intuitive. You access the column and then retrieve the value(s) that are interesting to you. For strings, the simplest operation is the - **`==` (Equal to)** operator. This:\n",
    "  - Checks if values in a column are equal to a certain value.\n",
    "  - Returns **True** where the condition is met.\n",
    "\n",
    "For example: \n",
    "\n",
    "```python\n",
    "df_pg_catalog.language=='en'\n",
    "```\n",
    "\n",
    "Will give us a list of all of the cases where this is `True` or `False`.\n",
    "    "
   ]
  },
  {
   "cell_type": "code",
   "execution_count": null,
   "id": "3d481e56-3741-4c57-92c7-5152eee4f386",
   "metadata": {},
   "outputs": [],
   "source": [
    "df_pg_catalog.language=='en'"
   ]
  },
  {
   "cell_type": "markdown",
   "id": "b0bd9d71-27c5-436d-99e3-07df84be6446",
   "metadata": {},
   "source": [
    "This is a bit confusing because now have lost our table. In order to get it back, we have to wrap `df_pg_catalog.language=='en'` in the dataframe:\n",
    "\n",
    "```python\n",
    "df_pg_catalog[df_pg_catalog.language=='en']\n",
    "```\n",
    "This will return the dataframe, but only in cases where `langauge=='en'` is `True`"
   ]
  },
  {
   "cell_type": "code",
   "execution_count": null,
   "id": "3ab948ec-501b-47aa-ac69-8693bd2c2a2d",
   "metadata": {},
   "outputs": [],
   "source": [
    "df_pg_catalog[df_pg_catalog.language=='en']"
   ]
  },
  {
   "cell_type": "markdown",
   "id": "1c2d3d20-3e6c-4103-a87f-8449e295befc",
   "metadata": {},
   "source": [
    "We see that the number of rows is now down to 59485. This means we've eliminated about 10k texts."
   ]
  },
  {
   "cell_type": "markdown",
   "id": "9ac00d7f-d2d5-48c3-9ffb-4bb4d1446d1a",
   "metadata": {},
   "source": [
    "We can do the same thing for type. Since we only want `Text` we can filter for that.\n"
   ]
  },
  {
   "cell_type": "code",
   "execution_count": null,
   "id": "341b50c1-d72a-4244-b56b-671c5f340f5d",
   "metadata": {},
   "outputs": [],
   "source": [
    "df_pg_catalog[df_pg_catalog.type=='Text']"
   ]
  },
  {
   "cell_type": "markdown",
   "id": "1d7d56c3-e676-4485-8a62-61a1a744d58c",
   "metadata": {},
   "source": [
    "Something strange happened. We are back to 73k rows, meaning that the number has gone back up. This is confusing. The reason for this is that we did not save the last query and are therefore starting from scratch. We have to run both queries and save the result when we do so."
   ]
  },
  {
   "cell_type": "markdown",
   "id": "44fd6925-06d3-4457-bef8-06e76d456a84",
   "metadata": {},
   "source": [
    "### 3.2 Combining Queries with `&`\n"
   ]
  },
  {
   "cell_type": "markdown",
   "id": "6f67331d-28ea-4d77-8b51-37a15caf1ff7",
   "metadata": {},
   "source": [
    "We want to save both queries and eliminate things that are not in English and things that are not texts. We in theory we could do the following:\n",
    "\n",
    "```python\n",
    "df_pg_catalog_english = df_pg_catalog[df_pg_catalog.language=='en']\n",
    "df_pg_catalog_english_texts = df_pg_catalog_english[df_pg_catalog_english.type=='Text']\n",
    "```\n",
    "\n",
    "This first saves one copy of English works and then another copy of English texts."
   ]
  },
  {
   "cell_type": "code",
   "execution_count": null,
   "id": "42e2dba6-9461-4d94-996f-853bf2c34b45",
   "metadata": {},
   "outputs": [],
   "source": [
    "df_pg_catalog_english = df_pg_catalog[df_pg_catalog.language=='en']\n",
    "df_pg_catalog_english_texts = df_pg_catalog_english[df_pg_catalog_english.type=='Text']\n",
    "df_pg_catalog_english_texts"
   ]
  },
  {
   "cell_type": "markdown",
   "id": "f1e59196-5a31-43d5-876b-d9eebfd3d3e6",
   "metadata": {},
   "source": [
    "This gets us the result we want, but it's pretty cumbersome because we have two separate queries. We can also simply combine queries using the `&` `and` operator. \n",
    "\n",
    "- **`&` (Logical AND)**\n",
    "  - Combines two conditions.\n",
    "  - Both conditions must be **True** for the result to be **True**.\n",
    "  \n",
    "\n",
    "```python\n",
    "df_pg_catalog[(df_pg_catalog.language=='en') & \n",
    "                (df_pg_catalog.type=='Text')\n",
    "]\n",
    "```\n",
    "\n",
    "We are returning a dataframe `df_pg_catalog[]` where both `(df_pg_catalog.language=='en')` AND  `(df_pg_catalog.type=='Text')` are true.\n"
   ]
  },
  {
   "cell_type": "code",
   "execution_count": null,
   "id": "135ae8d7-f503-458d-a3a3-a43ff21e75e3",
   "metadata": {},
   "outputs": [],
   "source": [
    "df_pg_catalog[(df_pg_catalog.language=='en') & \n",
    "                (df_pg_catalog.type=='Text')\n",
    "]\n"
   ]
  },
  {
   "cell_type": "markdown",
   "id": "d275d12b-24d0-47fd-9032-9c8139fae916",
   "metadata": {},
   "source": [
    "### 3.3 Looking for keywords with `str.contains()`"
   ]
  },
  {
   "cell_type": "markdown",
   "id": "f985e56a-a199-4da7-96f0-423d51f24cc2",
   "metadata": {},
   "source": [
    "So far we have looked at columns that have pretty regular set of values: 7 media types and 128 languages. Yet, using a literal search string for subjects will not work because there are too many types of strings."
   ]
  },
  {
   "cell_type": "code",
   "execution_count": null,
   "id": "d377f0de-0708-4811-9f98-2228eb2b9ed1",
   "metadata": {},
   "outputs": [],
   "source": [
    "df_pg_catalog[df_pg_catalog.subjects==\"Virginia\"]"
   ]
  },
  {
   "cell_type": "markdown",
   "id": "e5172795-3d20-4d31-b578-06a84cfbd802",
   "metadata": {},
   "source": [
    "There is no text that uses the word `Virginia` as its subject. Nevertheless, there are many texts that have the word `Virginia` in its subject string of words. This is where the method `str.contains` is extremely useful. It will look through the string and find any match for the word we are looking for. We can even have it be case sensetive and ignore `na` values.\n",
    "\n",
    "```python\n",
    "df_pg_catalog.subjects.str.contains('Virginia', case=False, na=False)\n",
    "```\n",
    "\n",
    "`case` indicates that the search is case sensitive. Since it doesn't matter if Virginia is capitalized or not, we can leave this as `false`. `na=False` means that it will return `False` if the value for that particular record equals `na`."
   ]
  },
  {
   "cell_type": "code",
   "execution_count": null,
   "id": "d187092b-433b-49d4-9232-66d4fb78bf5c",
   "metadata": {},
   "outputs": [],
   "source": []
  },
  {
   "cell_type": "code",
   "execution_count": null,
   "id": "43117f85-7e53-4f4c-8323-d10366c0ce10",
   "metadata": {},
   "outputs": [],
   "source": [
    "df_pg_catalog[df_pg_catalog.subjects.str.contains('Virginia', case=False, na=False)]"
   ]
  },
  {
   "cell_type": "markdown",
   "id": "3b9a062a-f51e-4614-af5f-4a125ba781e7",
   "metadata": {},
   "source": [
    "This table is much more manageable! Only 177 results."
   ]
  },
  {
   "cell_type": "markdown",
   "id": "6cdad940-c1cd-4ded-a6a3-e323aa12ed90",
   "metadata": {},
   "source": [
    "### 3.4 Eliminating results with ~ NOT"
   ]
  },
  {
   "cell_type": "markdown",
   "id": "bd2886d2-9c5d-461a-b90c-b268820f09e7",
   "metadata": {},
   "source": [
    "The result from the query for texts where the subject contains `Virginia` is a lot more manageable, but it also includes texts that may not be interesting. For example, it contains *The Red Badge of Courage* by Stephen Crane, which is `fiction`. We may remember that `fiction` gave Moretti a lot of headaches, so perhaps we simply eliminate that. If want to exclude fiction from our search we can use the `~` operator to indicate NOT. That is, return the row as long as the subject does **not** contain fiction.\n",
    "```python\n",
    "df_pg_catalog[~df_pg_catalog.subjects.str.contains('fiction', case=False, na=False)]\n",
    "```\n",
    "We simply put the `~` to indicate **not**."
   ]
  },
  {
   "cell_type": "code",
   "execution_count": null,
   "id": "e9fe0a84-f306-42b3-a6ec-6f51757031be",
   "metadata": {},
   "outputs": [],
   "source": [
    "df_pg_catalog[~df_pg_catalog.subjects.str.contains('fiction', case=False, na=False)]"
   ]
  },
  {
   "cell_type": "markdown",
   "id": "ff70e9c5-5ef7-493e-9bee-915abc4cb225",
   "metadata": {},
   "source": [
    "Again, we are back to more results because we did not combine the queries."
   ]
  },
  {
   "cell_type": "code",
   "execution_count": null,
   "id": "063409ed-830f-4411-a797-bf02f848f46a",
   "metadata": {},
   "outputs": [],
   "source": [
    "df_pg_catalog[(df_pg_catalog.subjects.str.contains('Virginia', case=False, na=False)) &\n",
    "                (~df_pg_catalog.subjects.str.contains('fiction', case=False, na=False))\n",
    "]"
   ]
  },
  {
   "cell_type": "markdown",
   "id": "8168b7c5-743e-47ea-bead-5dd77686eec6",
   "metadata": {},
   "source": [
    "This elimimated another 70 texts. Great!"
   ]
  },
  {
   "cell_type": "markdown",
   "id": "480112b4-6856-4785-b04c-b293deb344ba",
   "metadata": {},
   "source": [
    "### 3.4 Broadening a search with `|` **or** and `*` **Wildcard**"
   ]
  },
  {
   "cell_type": "markdown",
   "id": "fb14c553-f4ed-48c3-b25a-ed600f3a35bd",
   "metadata": {},
   "source": [
    "We notice in the results above that there are still texts that might not be that interesting for example *Give Me Liberty or Give Me Death* is a speech. We also want to eliminate this from the results. Intuitively, we could create a new search string:\n",
    "\n",
    "```python\n",
    "~df_pg_catalog.subjects.str.contains('speeches', case=False, na=False)\n",
    "```\n",
    "\n",
    "This creates two problems. \n",
    "1. We are generating another line of code that can become cumbersome to read.\n",
    "2. Since we are looking specifically for subjects that contain `speeches` it might still return any subject that contains `speech`.\n",
    "\n",
    "We can fix the first problem by using the `|` **or** operator.\n",
    "\n",
    "```python\n",
    "~df_pg_catalog.subjects.str.contains('fiction'|'speeches', case=False, na=False)\n",
    "```\n",
    "\n",
    "Now we actually look for `fiction` or `speeches` in the subject.\n",
    "\n",
    "We can fix the second problem by using a wildcard `*` at the end of `speech.*`. This will give us both `speech` and `speeches`. Specifically, it gives us `speech` and all possible variants.\n",
    "\n"
   ]
  },
  {
   "cell_type": "code",
   "execution_count": null,
   "id": "a4ca2397-eb79-4614-a30d-e5d6d66a3749",
   "metadata": {},
   "outputs": [],
   "source": [
    "df_pg_catalog[(df_pg_catalog.subjects.str.contains('Virginia', case=False, na=False)) &\n",
    "                (~df_pg_catalog.subjects.str.contains('fiction|speech.*', case=False, na=False))\n",
    "]"
   ]
  },
  {
   "cell_type": "markdown",
   "id": "f25441b1-4e17-44c8-9d5b-53e793852a79",
   "metadata": {},
   "source": [
    "This eliminated two more results that were speeches."
   ]
  },
  {
   "cell_type": "markdown",
   "id": "64e321c4-b9f0-474b-916f-7676f2a2d68f",
   "metadata": {},
   "source": [
    "### 3.5 Combining it all"
   ]
  },
  {
   "cell_type": "markdown",
   "id": "f0145e54-4acd-4d16-8fb8-d9ab64000b66",
   "metadata": {},
   "source": [
    "Now that we have the logic in place we can create one long search string:\n",
    "\n",
    "```python\n",
    "df_pg_catalog[\n",
    "   (df_pg_catalog.language == 'en') & \n",
    "    (df_pg_catalog.type == 'Text') &\n",
    "    (df_pg_catalog.subjects.str.contains('Virginia', case=False, na=False)) & \n",
    "    (~df_pg_catalog.subjects.str.contains('fiction|speech.*', case=False, na=False)) \n",
    "] \n",
    "```"
   ]
  },
  {
   "cell_type": "code",
   "execution_count": null,
   "id": "c757bd66-09d3-4b56-b2a8-c6f0dd953413",
   "metadata": {},
   "outputs": [],
   "source": [
    "df_pg_catalog[\n",
    "    (df_pg_catalog.language == 'en') & \n",
    "    (df_pg_catalog.type == 'Text') &\n",
    "    (df_pg_catalog.subjects.str.contains('Virginia', case=False, na=False)) & \n",
    "    (~df_pg_catalog.subjects.str.contains('fiction|speech.*', case=False, na=False)) \n",
    "] "
   ]
  },
  {
   "cell_type": "markdown",
   "id": "26b4116f-579a-434c-9d20-f584ddeb9483",
   "metadata": {},
   "source": [
    "Great that gave us 96 results. We can now save this into a new dataframe."
   ]
  },
  {
   "cell_type": "markdown",
   "id": "6c883433-b770-4c2d-a1a1-1e52a5d08778",
   "metadata": {},
   "source": [
    "## 4 Saving to a new Dataframe with `.copy()`"
   ]
  },
  {
   "cell_type": "markdown",
   "id": "d73cd00f-aa38-4989-9e42-e8c5442cc0d1",
   "metadata": {},
   "source": [
    "So far none of the queries we made were permanent. All we did was write out the query and test the result. As you get more experienced, you will likely not separate this out into different test queries, but will run one query all at once.<br> \n",
    "\n",
    "We can save the filtered dataframe in two way **shallow copy** and **deep copy**.\n",
    "\n",
    "When we use the `=` operator pandas creates a **shallow copy** of the query results and puts them in a new dataframe called `df_virginia_history`. This means that there are still links between `df_virginia_history` and `df_pg_catalog`. This can sometimes have unexpected results where you modify one dataframe and it also changes the other one. We can prevent this by using the method `.copy()` at the end of the query chain to make a **deep copy**. This is an entirely seperate dataframe."
   ]
  },
  {
   "cell_type": "code",
   "execution_count": null,
   "id": "8fb02780-2e46-4a2f-9bb9-f0e8fe16bad6",
   "metadata": {},
   "outputs": [],
   "source": [
    "df_virginia_history = df_pg_catalog[\n",
    "    (df_pg_catalog.language == 'en') & \n",
    "    (df_pg_catalog.type == 'Text') &\n",
    "    (df_pg_catalog.subjects.str.contains('Virginia', case=False, na=False)) & \n",
    "    (~df_pg_catalog.subjects.str.contains('fiction|speech.*', case=False, na=False)) \n",
    "].copy()"
   ]
  },
  {
   "cell_type": "code",
   "execution_count": null,
   "id": "e4049f59-25fe-4646-aa5a-0d9edcc4c964",
   "metadata": {},
   "outputs": [],
   "source": [
    "df_virginia_history"
   ]
  },
  {
   "cell_type": "markdown",
   "id": "cf9f1647-f794-4168-91f2-509867219cc0",
   "metadata": {},
   "source": [
    "We can use our `.pickle()` function to export this and not have to worry about doing all this again."
   ]
  },
  {
   "cell_type": "code",
   "execution_count": null,
   "id": "878e1bbe-43f3-4ae2-9c6a-813b95859add",
   "metadata": {},
   "outputs": [],
   "source": [
    "df_virginia_history.to_pickle('virginia_history.pickle')"
   ]
  },
  {
   "cell_type": "code",
   "execution_count": null,
   "id": "6f452c6c-0f37-4d2a-9c98-9ef5a305642b",
   "metadata": {},
   "outputs": [],
   "source": []
  }
 ],
 "metadata": {
  "kernelspec": {
   "display_name": "Python 3 (ipykernel)",
   "language": "python",
   "name": "python3"
  },
  "language_info": {
   "codemirror_mode": {
    "name": "ipython",
    "version": 3
   },
   "file_extension": ".py",
   "mimetype": "text/x-python",
   "name": "python",
   "nbconvert_exporter": "python",
   "pygments_lexer": "ipython3",
   "version": "3.12.3"
  }
 },
 "nbformat": 4,
 "nbformat_minor": 5
}
